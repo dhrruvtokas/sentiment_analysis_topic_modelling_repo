{
 "cells": [
  {
   "cell_type": "markdown",
   "id": "7701d8f9",
   "metadata": {
    "id": "7701d8f9"
   },
   "source": [
    "# Sentiment Analysis"
   ]
  },
  {
   "cell_type": "markdown",
   "id": "8d4d43ce",
   "metadata": {
    "id": "8d4d43ce"
   },
   "source": [
    "## 1. Importing Required Libraries"
   ]
  },
  {
   "cell_type": "code",
   "execution_count": null,
   "id": "a24089c3",
   "metadata": {
    "id": "a24089c3"
   },
   "outputs": [],
   "source": [
    "import pandas as pd # For data operations\n",
    "from vaderSentiment.vaderSentiment import SentimentIntensityAnalyzer as sia # For sentiment analysis\n",
    "import re # For regular expressions\n",
    "from nltk.corpus import stopwords # For stopwords removal\n",
    "from nltk.tokenize import word_tokenize # For tokenization\n",
    "from wordcloud import WordCloud # For creating a wordcloud\n",
    "from nltk.probability import FreqDist # For token frequency distribution\n",
    "import matplotlib.pyplot as plt # For token frequency visualization\n",
    "import seaborn as sns # For explorartory analysis\n",
    "from nltk.stem.wordnet import WordNetLemmatizer # For noise removal\n",
    "from nltk import pos_tag # For identifying word group\n",
    "import plotly.express as pl # For sentiment visualization\n",
    "import numpy as np # For array operations\n",
    "from sklearn.naive_bayes import MultinomialNB # For creating a multinomial naive bayes model\n",
    "from sklearn.naive_bayes import ComplementNB # For creating a compliment naive bayes model\n",
    "from sklearn.naive_bayes import GaussianNB # For creating a gaussian naive bayes model\n",
    "from sklearn.naive_bayes import BernoulliNB # For creating a bernoulli naive bayes model\n",
    "from sklearn.linear_model import LogisticRegression, SGDClassifier # For creating a logistic regression and a stochastic gradient descent model\n",
    "from sklearn.svm import LinearSVC # For creating a svc model\n",
    "from sklearn.tree import DecisionTreeClassifier # For creating a decision tree model\n",
    "from sklearn.ensemble import RandomForestClassifier # For creating a random forest tree model\n",
    "from sklearn.model_selection import train_test_split # For data split\n",
    "from sklearn.feature_extraction.text import CountVectorizer # For converting data into array\n",
    "from sklearn.metrics import accuracy_score # For computing model accuracy\n",
    "from sklearn.pipeline import Pipeline # For creating pipeline\n",
    "from sklearn.preprocessing import MinMaxScaler # For scaling\n",
    "from sklearn.feature_extraction.text import TfidfVectorizer # For counting term frequency in topic modelling\n",
    "from sklearn.decomposition import NMF, LatentDirichletAllocation # For topic modelling using NMF and LDA\n",
    "from dateutil.parser import parse # For parsing dates\n",
    "import nltk # For language processing\n",
    "import json # For creating a json file\n",
    "from nltk.corpus import wordnet # For stemming\n",
    "import string # For string operations\n",
    "import spacy # For dominant topic modelling\n",
    "import gensim # For gensim model\n",
    "from gensim import corpora # For dictionary\n",
    "import pyLDAvis # For plotting topics\n",
    "import pyLDAvis.gensim_models as gensimv # For creating and plotting gensim topics\n",
    "from gensim.models.coherencemodel import CoherenceModel # For creating coherence model\n",
    "%matplotlib inline\n",
    "import warnings # To disable warnings\n",
    "warnings.filterwarnings('ignore')"
   ]
  },
  {
   "cell_type": "markdown",
   "id": "9b63be17",
   "metadata": {
    "id": "9b63be17"
   },
   "source": [
    "## 2. Text Pre-processing"
   ]
  },
  {
   "cell_type": "markdown",
   "id": "120afc6e",
   "metadata": {
    "id": "120afc6e"
   },
   "source": [
    "### 2.1 Reading The Dataset"
   ]
  },
  {
   "cell_type": "code",
   "execution_count": null,
   "id": "df592385",
   "metadata": {
    "id": "df592385"
   },
   "outputs": [],
   "source": [
    "data = pd.read_csv('sentiment_data.csv') # Data is read and stored into a variable named data"
   ]
  },
  {
   "cell_type": "code",
   "execution_count": null,
   "id": "051e7e3f",
   "metadata": {
    "id": "051e7e3f",
    "outputId": "67788d25-4cc6-43e3-b144-f92fb9859726"
   },
   "outputs": [],
   "source": [
    "data.head(10) # Displaying first 10 rows"
   ]
  },
  {
   "cell_type": "markdown",
   "id": "07c779e5",
   "metadata": {
    "id": "07c779e5"
   },
   "source": [
    "### 2.2 Extracting Column Names"
   ]
  },
  {
   "cell_type": "code",
   "execution_count": null,
   "id": "4c1732ec",
   "metadata": {
    "id": "4c1732ec",
    "outputId": "410c41bf-a111-4b74-e656-d70c5d0f0b02"
   },
   "outputs": [],
   "source": [
    "columns = list(data.columns.values)\n",
    "columns"
   ]
  },
  {
   "cell_type": "markdown",
   "id": "756a883c",
   "metadata": {
    "id": "756a883c"
   },
   "source": [
    "### 2.3 Extracting Reviews For NPS Score"
   ]
  },
  {
   "cell_type": "code",
   "execution_count": null,
   "id": "b9d0d262",
   "metadata": {
    "id": "b9d0d262",
    "outputId": "1ae17e76-fb22-4c5a-d5ff-0845caa5aee3"
   },
   "outputs": [],
   "source": [
    "data_reason_for_nps_score = data[['ID','MEMBER_ID','REASONSCORE','NPS','SURVEYDATE','SURVEYCLINIC','CLINICCITY','CLINICSTATE']]\n",
    "data_reason_for_nps_score = data_reason_for_nps_score[data_reason_for_nps_score['REASONSCORE'] != 'No Response']\n",
    "data_reason_for_nps_score.rename({'REASONSCORE': 'reviews'}, axis=1, inplace=True)\n",
    "data_reason_for_nps_score.rename({'SURVEYDATE': 'date'}, axis=1, inplace=True)\n",
    "data_reason_for_nps_score.rename({'SURVEYCLINIC': 'clinic'}, axis=1, inplace=True)\n",
    "data_reason_for_nps_score.rename({'CLINICCITY': 'city'}, axis=1, inplace=True)\n",
    "data_reason_for_nps_score.rename({'CLINICSTATE': 'state'}, axis=1, inplace=True)\n",
    "data_reason_for_nps_score['reviews'] = data_reason_for_nps_score['reviews'].str.replace('!st time','first time')\n",
    "\n",
    "remove_punctuations_reason_for_nps_score = data_reason_for_nps_score[['reviews']]\n",
    "remove_punctuations_reason_for_nps_score.replace(\"[^a-zA-Z]\",\" \",regex=True, inplace=True)\n",
    "data_reason_for_nps_score[['reviews']] = remove_punctuations_reason_for_nps_score[['reviews']]\n",
    "\n",
    "data_reason_for_nps_score = data_reason_for_nps_score.reset_index(drop=True)\n",
    "data_reason_for_nps_score"
   ]
  },
  {
   "cell_type": "code",
   "execution_count": null,
   "id": "85c6607b",
   "metadata": {
    "id": "85c6607b",
    "outputId": "be31d4ae-0460-472f-9cea-00dae17b5cfb"
   },
   "outputs": [],
   "source": [
    "plt.bar(range(0,len(data_reason_for_nps_score)), [x for x in data_reason_for_nps_score.NPS], width = 0.6)\n",
    "plt.xlabel(\"Reviews Count\") \n",
    "plt.ylabel(\"NPS Score\")  \n",
    "plt.title(\"Reason Score Plot - NPS Distribution\") \n",
    "fig = plt.gcf()\n",
    "fig.set_size_inches(18.5, 10.5)\n",
    "fig.savefig('test2png.png', dpi=100)\n",
    "plt.show()"
   ]
  },
  {
   "cell_type": "code",
   "execution_count": null,
   "id": "d4ed4769",
   "metadata": {
    "id": "d4ed4769"
   },
   "outputs": [],
   "source": [
    "reason_for_nps_score_reviews = data_reason_for_nps_score"
   ]
  },
  {
   "cell_type": "code",
   "execution_count": null,
   "id": "b7f95280",
   "metadata": {
    "id": "b7f95280",
    "outputId": "999ad717-3675-4c21-923d-916337f9cd72"
   },
   "outputs": [],
   "source": [
    "reason_for_nps_score_reviews.isna().sum() # Counting the number of missing values"
   ]
  },
  {
   "cell_type": "code",
   "execution_count": null,
   "id": "58f998c2",
   "metadata": {
    "id": "58f998c2",
    "outputId": "ec352a74-9433-42a1-c892-b3d2e431d144"
   },
   "outputs": [],
   "source": [
    "# Removing missing values\n",
    "reason_for_nps_score_reviews = reason_for_nps_score_reviews.dropna()\n",
    "reason_for_nps_score_reviews.isna().sum()"
   ]
  },
  {
   "cell_type": "code",
   "execution_count": null,
   "id": "2275731a",
   "metadata": {
    "id": "2275731a",
    "outputId": "20edad48-be61-4a7d-ca38-cb9693fe1cc1"
   },
   "outputs": [],
   "source": [
    "reason_for_nps_score_contractions = reason_for_nps_score_reviews[reason_for_nps_score_reviews['reviews'].str.contains(r'can\\'t|won\\'t|isn\\'t|doesn\\'t|didn\\'t|don\\'t|haven\\'t|couldn\\'t|you\\'ll|I\\'ll|I\\'ve|I\\'m|it\\'ll|it\\'s|could\\'ve|would\\'ve|hadn\\'t|hasn\\'t|should\\'ve|shouldn\\'t|must\\'ve|who\\'s|they\\'re|they\\'ll|they\\'ve|that\\'s|there\\'s')].value_counts().sum()\n",
    "reason_for_nps_score_contractions"
   ]
  },
  {
   "cell_type": "code",
   "execution_count": null,
   "id": "76afb175",
   "metadata": {
    "id": "76afb175",
    "outputId": "56f6bfdc-f145-4793-e0ab-a168acacab41"
   },
   "outputs": [],
   "source": [
    "# Converting reviews to lower case\n",
    "reason_for_nps_score_lower = reason_for_nps_score_reviews[['reviews']]\n",
    "reason_for_nps_score_reviews['reviews'] = reason_for_nps_score_lower.applymap(str.lower)\n",
    "reason_for_nps_score_reviews"
   ]
  },
  {
   "cell_type": "code",
   "execution_count": null,
   "id": "0d32529e",
   "metadata": {
    "id": "0d32529e",
    "outputId": "5468ef07-d43b-4ed7-81d6-728f5a975a9b"
   },
   "outputs": [],
   "source": [
    "# Creating tokens\n",
    "reason_for_nps_score_token_list = []\n",
    "\n",
    "for each in reason_for_nps_score_reviews['reviews']:\n",
    "    token = word_tokenize(each)\n",
    "    reason_for_nps_score_token_list.append(token)\n",
    "reason_for_nps_score_token_list"
   ]
  },
  {
   "cell_type": "code",
   "execution_count": null,
   "id": "7bd5191b",
   "metadata": {
    "id": "7bd5191b",
    "outputId": "ab42d310-42aa-4d2e-95ab-22f6c9bf248b"
   },
   "outputs": [],
   "source": [
    "# Creating a new dataframe to show reviews and tokens side by side\n",
    "reason_for_nps_score_reviews['tokens'] = reason_for_nps_score_token_list\n",
    "reason_for_nps_score_reviews"
   ]
  },
  {
   "cell_type": "code",
   "execution_count": null,
   "id": "7fb47c22",
   "metadata": {
    "id": "7fb47c22",
    "outputId": "6b7cb73a-dee4-412f-f9ab-10d6e80a77ee"
   },
   "outputs": [],
   "source": [
    "# Finding token frequency and appending the result into a list\n",
    "reason_for_nps_score_frequency_list = []\n",
    "\n",
    "for each in reason_for_nps_score_token_list:\n",
    "    fdist = FreqDist(each)\n",
    "    reason_for_nps_score_frequency_list.append(fdist)\n",
    "\n",
    "# Plotting 15 records of tokens groups according to their frequency\n",
    "for each in range(15):\n",
    "    reason_for_nps_score_frequency_list[each].plot(30,cumulative=False)\n",
    "    plt.show()"
   ]
  },
  {
   "cell_type": "code",
   "execution_count": null,
   "id": "d6d2f702",
   "metadata": {
    "id": "d6d2f702",
    "outputId": "356a0c96-78ce-45fd-d4d7-9bd364e9e5e3"
   },
   "outputs": [],
   "source": [
    "# Displaying most common tokens\n",
    "fdist.most_common(4)"
   ]
  },
  {
   "cell_type": "code",
   "execution_count": null,
   "id": "9050b796",
   "metadata": {
    "id": "9050b796",
    "outputId": "90ef113f-6983-461b-a31b-fcca93699daf"
   },
   "outputs": [],
   "source": [
    "# Converting each token to lower case and removing it if it is present in the stopwords list\n",
    "reason_for_nps_score_tokens_without_stopwords = []\n",
    "stopwords_set = set(stopwords.words('english'))\n",
    "for token in reason_for_nps_score_reviews.tokens:\n",
    "    word = [term.lower() for term in token if term.lower() not in stopwords_set]\n",
    "    reason_for_nps_score_tokens_without_stopwords.append(word)\n",
    "    \n",
    "# Creating a new dataframe to show reviews, tokens, and stemmed tokens side by side\n",
    "reason_for_nps_score_reviews['tokens_without_stopwords'] = reason_for_nps_score_tokens_without_stopwords\n",
    "reason_for_nps_score_reviews"
   ]
  },
  {
   "cell_type": "code",
   "execution_count": null,
   "id": "437dfc80",
   "metadata": {
    "id": "437dfc80",
    "outputId": "4abe991c-b6ed-45d5-b82a-ab5227f2fe8f"
   },
   "outputs": [],
   "source": [
    "# Visualizing tokens a word cloud with a maximum limit of 100\n",
    "feedbacks = \" \".join(review for review in reason_for_nps_score_reviews.reviews)\n",
    "reason_for_nps_score_wordcloud = WordCloud(stopwords=stopwords_set, collocations = False, background_color = 'black', width = 4000,height = 3000).generate(feedbacks)\n",
    "fig=plt.figure(figsize=(15, 10))\n",
    "plt.imshow(reason_for_nps_score_wordcloud, interpolation='bilinear')\n",
    "plt.axis(\"off\")\n",
    "plt.title('Reason Score Wordcloud - Tokens')\n",
    "plt.show()"
   ]
  },
  {
   "cell_type": "code",
   "execution_count": null,
   "id": "6381a37d",
   "metadata": {
    "id": "6381a37d",
    "outputId": "66ff8e37-2ad5-4c98-f75c-2513c1c2eda4"
   },
   "outputs": [],
   "source": [
    "# Lemmatizing removes any noise present in a word as they are reduced to their root context (it is better than stemming)\n",
    "reason_for_nps_score_tokens_after_lemmatizing = []\n",
    "\n",
    "lemmatizer = WordNetLemmatizer()\n",
    "\n",
    "for each in reason_for_nps_score_tokens_without_stopwords:\n",
    "    lem = [lemmatizer.lemmatize(term) for term in each]\n",
    "    reason_for_nps_score_tokens_after_lemmatizing.append(lem)\n",
    "\n",
    "# Creating a new dataframe to showing the new data side by side with the previous one\n",
    "reason_for_nps_score_reviews['fresh_tokens'] = reason_for_nps_score_tokens_after_lemmatizing\n",
    "reason_for_nps_score_reviews"
   ]
  },
  {
   "cell_type": "code",
   "execution_count": null,
   "id": "e513643e",
   "metadata": {
    "id": "e513643e"
   },
   "outputs": [],
   "source": [
    "reason_for_nps_score_dictionary = corpora.Dictionary(reason_for_nps_score_tokens_after_lemmatizing)\n",
    "reason_for_nps_score_doc_term_matrix = [reason_for_nps_score_dictionary.doc2bow(rev) for rev in reason_for_nps_score_tokens_after_lemmatizing]"
   ]
  },
  {
   "cell_type": "code",
   "execution_count": null,
   "id": "e73180b3",
   "metadata": {
    "id": "e73180b3"
   },
   "outputs": [],
   "source": [
    "# Creating the object for LDA model using gensim library\n",
    "LDA = gensim.models.ldamodel.LdaModel\n",
    "\n",
    "# Build LDA model\n",
    "lda_model = LDA(corpus=reason_for_nps_score_doc_term_matrix, id2word=reason_for_nps_score_dictionary, num_topics=10, random_state=100, chunksize=1000, passes=50,iterations=100)"
   ]
  },
  {
   "cell_type": "code",
   "execution_count": null,
   "id": "c423efae",
   "metadata": {
    "id": "c423efae",
    "outputId": "a3ccd7fd-cab9-4a3d-cf9a-6e2279915fc4"
   },
   "outputs": [],
   "source": [
    "lda_model.print_topics()"
   ]
  },
  {
   "cell_type": "code",
   "execution_count": null,
   "id": "f99fa455",
   "metadata": {
    "id": "f99fa455",
    "outputId": "987f1701-149d-40ce-ad58-6341dbb667ab"
   },
   "outputs": [],
   "source": [
    "reason_for_nps_score_topics_list = []\n",
    "\n",
    "for index, topic in lda_model.show_topics(formatted=False, num_words= 2):\n",
    "    reason_for_nps_score_topics_list.append([w[0] for w in topic])\n",
    "\n",
    "reason_for_nps_score_topics = pd.DataFrame({'topics':reason_for_nps_score_topics_list})\n",
    "reason_for_nps_score_topics"
   ]
  },
  {
   "cell_type": "code",
   "execution_count": null,
   "id": "3c647113",
   "metadata": {
    "id": "3c647113",
    "outputId": "943b4942-5478-42a9-8e27-377cd1a34057"
   },
   "outputs": [],
   "source": [
    "top_words_per_topic = []\n",
    "for t in range(lda_model.num_topics):\n",
    "    top_words_per_topic.extend([(t, ) + x for x in lda_model.show_topic(t, topn = 3)])\n",
    "\n",
    "reason_for_nps_score_topics_words_based = pd.DataFrame(top_words_per_topic, columns=['topic_number', 'word', 'coherence_score'])\n",
    "reason_for_nps_score_topics_words_based"
   ]
  },
  {
   "cell_type": "code",
   "execution_count": null,
   "id": "8607818e",
   "metadata": {
    "id": "8607818e",
    "outputId": "75c1c481-8113-44d5-da6b-2ef43a0db22a"
   },
   "outputs": [],
   "source": [
    "topic_group_index = reason_for_nps_score_topics_words_based.groupby(['topic_number'])['coherence_score'].transform(max) == reason_for_nps_score_topics_words_based['coherence_score']\n",
    "topic_category = reason_for_nps_score_topics_words_based[topic_group_index]\n",
    "topic_category = topic_category.rename({'word': 'topic'}, axis=1)\n",
    "topic_category.reset_index(drop=True)\n",
    "topic_category"
   ]
  },
  {
   "cell_type": "code",
   "execution_count": null,
   "id": "c7245ffc",
   "metadata": {
    "id": "c7245ffc"
   },
   "outputs": [],
   "source": [
    "pyLDAvis.enable_notebook()\n",
    "vis = pyLDAvis.gensim_models.prepare(lda_model, reason_for_nps_score_doc_term_matrix, reason_for_nps_score_dictionary)\n",
    "\n",
    " "
   ]
  },
  {
   "cell_type": "code",
   "execution_count": null,
   "id": "02453aca",
   "metadata": {
    "id": "02453aca",
    "outputId": "d0dd1ca8-892f-4124-949f-458a3060a1bd"
   },
   "outputs": [],
   "source": [
    "# Computing perplexity score and coherence score\n",
    "coherence_model_lda = CoherenceModel(model=lda_model, texts=reason_for_nps_score_tokens_after_lemmatizing, dictionary=reason_for_nps_score_dictionary , coherence='c_v')\n",
    "coherence_lda = coherence_model_lda.get_coherence()\n",
    "print('\\nPerplexity: ', lda_model.log_perplexity(reason_for_nps_score_doc_term_matrix,total_docs=10000))  # a measure of how good the model is. lower the better.\n",
    "print('\\nCoherence Score: ', coherence_lda)"
   ]
  },
  {
   "cell_type": "code",
   "execution_count": null,
   "id": "13f5be10",
   "metadata": {
    "id": "13f5be10",
    "outputId": "3a94a887-e2f3-4b7d-9f01-b598e68dbbd9"
   },
   "outputs": [],
   "source": [
    "# Using pos tagging to figure out whether a token is verb, noun, etc\n",
    "reason_for_nps_score_pos_tagged = [pos_tag(tokens) for tokens in reason_for_nps_score_tokens_after_lemmatizing] \n",
    "reason_for_nps_score_pos_tagged"
   ]
  },
  {
   "cell_type": "code",
   "execution_count": null,
   "id": "4aee0487",
   "metadata": {
    "id": "4aee0487"
   },
   "outputs": [],
   "source": [
    "# Removing any unneccesary words from the tokens, reducing them to their root context\n",
    "def get_wordnet_pos(treebank_tag):\n",
    "    if treebank_tag.startswith('J'):\n",
    "        return wordnet.ADJ\n",
    "    elif treebank_tag.startswith('V'):\n",
    "        return wordnet.VERB\n",
    "    elif treebank_tag.startswith('N'):\n",
    "        return wordnet.NOUN\n",
    "    elif treebank_tag.startswith('R'):\n",
    "        return wordnet.ADV\n",
    "    else:\n",
    "        return None"
   ]
  },
  {
   "cell_type": "code",
   "execution_count": null,
   "id": "36d12521",
   "metadata": {
    "id": "36d12521",
    "outputId": "2270bbfc-044f-4c82-864c-1f3ef1072311"
   },
   "outputs": [],
   "source": [
    "reason_for_nps_score_reviews['feedback'] = reason_for_nps_score_reviews['reviews']\n",
    "reason_for_nps_score_reviews['feedback'] = reason_for_nps_score_reviews['feedback'].apply(lambda v: nltk.pos_tag(nltk.word_tokenize(v)))\n",
    "\n",
    "reason_for_nps_score_reviews['lemma'] = reason_for_nps_score_reviews['feedback'].transform(lambda value: ' '.join([lemmatizer.lemmatize(a[0],pos=get_wordnet_pos(a[1])) if get_wordnet_pos(a[1]) else a[0] for a in value]))\n",
    "reason_for_nps_score_reviews"
   ]
  },
  {
   "cell_type": "code",
   "execution_count": null,
   "id": "bbd635c0",
   "metadata": {
    "id": "bbd635c0",
    "outputId": "53d4c335-98bb-4649-fce8-c42e664d2e4b"
   },
   "outputs": [],
   "source": [
    "# Finding polarity score for each feedback\n",
    "# It will show the polarity scores (positive, negative, neutral, and compound) for each feedback along with the feedback received\n",
    "# Polarity scores will then be inserted into a list which will be accessed later to compute sentiment scores\n",
    "reason_for_nps_score_polarity_score_list = []\n",
    "\n",
    "for each in reason_for_nps_score_reviews.reviews:\n",
    "    polarity_score = sia().polarity_scores(each)\n",
    "    polarity_score['label'] = each\n",
    "    reason_for_nps_score_polarity_score_list.append(polarity_score)\n",
    "    print(polarity_score)"
   ]
  },
  {
   "cell_type": "code",
   "execution_count": null,
   "id": "e54d9e86",
   "metadata": {
    "id": "e54d9e86",
    "outputId": "52cec532-1bde-4839-8b51-adeb9e8225e1"
   },
   "outputs": [],
   "source": [
    "# Creating a new dataframe to showing the new data side by side with the previous one\n",
    "# We are only interested in the compunt score (aggregated score)\n",
    "reason_for_nps_score_reviews['polarity_score'] = pd.DataFrame(reason_for_nps_score_polarity_score_list)['compound']\n",
    "reason_for_nps_score_reviews['positive_score'] = pd.DataFrame(reason_for_nps_score_polarity_score_list)['pos']\n",
    "reason_for_nps_score_reviews['negative_score'] = pd.DataFrame(reason_for_nps_score_polarity_score_list)['neu']\n",
    "\n",
    "reason_for_nps_score_reviews[['polarity_score']] = reason_for_nps_score_reviews[['polarity_score']].fillna(0)\n",
    "reason_for_nps_score_reviews[['positive_score']] = reason_for_nps_score_reviews[['positive_score']].fillna(0)\n",
    "reason_for_nps_score_reviews[['negative_score']] = reason_for_nps_score_reviews[['negative_score']].fillna(0)\n",
    "reason_for_nps_score_reviews"
   ]
  },
  {
   "cell_type": "code",
   "execution_count": null,
   "id": "a0fb8593",
   "metadata": {
    "id": "a0fb8593"
   },
   "outputs": [],
   "source": [
    "# Creating a function to classify sentiment scores based on the polarity score\n",
    "def sentiment_label(row):\n",
    "    if row['polarity_score'] > 0 :\n",
    "        sentiment_score = \"Positive\" # Positive sentiment\n",
    "    if row['polarity_score'] < 0 :\n",
    "        sentiment_score = \"Negative\" # Negative sentiment\n",
    "    if row['polarity_score'] == 0:\n",
    "        sentiment_score = \"Neutral\" # Neutral sentiment\n",
    "    return sentiment_score\n",
    "\n",
    "def sentiment(row):\n",
    "    if row['polarity_score'] > 0 :\n",
    "        sentiment_score = 1 # Positive sentiment\n",
    "    if row['polarity_score'] < 0 :\n",
    "        sentiment_score = -1 # Negative sentiment\n",
    "    if row['polarity_score'] == 0:\n",
    "        sentiment_score = 0 # Neutral sentiment\n",
    "    return sentiment_score"
   ]
  },
  {
   "cell_type": "code",
   "execution_count": null,
   "id": "c17208d9",
   "metadata": {
    "id": "c17208d9",
    "outputId": "5f2baf63-798f-4425-a593-6fe0b3664e32"
   },
   "outputs": [],
   "source": [
    "# Creating a new column which will contain sentiment scores based on the polarity score of each feedback\n",
    "reason_for_nps_score_reviews['sentiment'] = reason_for_nps_score_reviews.apply(sentiment, axis=1)\n",
    "reason_for_nps_score_reviews['sentiment_label'] = reason_for_nps_score_reviews.apply(sentiment_label, axis=1)\n",
    "reason_for_nps_score_reviews"
   ]
  },
  {
   "cell_type": "code",
   "execution_count": null,
   "id": "536a3dc7",
   "metadata": {
    "id": "536a3dc7",
    "outputId": "1916b85f-c1bf-47a8-e6e5-85ae170933af"
   },
   "outputs": [],
   "source": [
    "# Fixing polarity scores and related labels\n",
    "reason_for_nps_score_reviews.loc[reason_for_nps_score_reviews['reviews'].str.match('^(?=.*rude)|(?=.*worst)|(?=.*frustrated)|(?=.*angry)|(?=.*terrible)|(?=.*disrespectful)|(?=.*irresponsibly)|(?=.*irresponsible)|(?=.*improper)|(?=.*wasted)|(?=.*violate)|(?=.*violations)|(?=.*aren t worth)|(?=.*undress)|(?=.*didnt treat me)|(?=.*horrible)|(?=kill)|(?=.*danger)|(?=.*dangerous)|(?=rough)|(?=.*dismissed)|(?=.*upsetting)|(?=.*out of line)|(?=.*uncomfortable)|(?=.*can t breathe)|(?=.*breast)|(?=.*was misdiagnosed)|(?=.*did not examine me)|(?=.*forced to participate)|(?=.*forced into it)'), 'sentiment'] = 2\n",
    "reason_for_nps_score_reviews.loc[reason_for_nps_score_reviews['reviews'].str.match('^(?=.*rude)|(?=.*worst)|(?=.*frustrated)|(?=.*angry)|(?=.*terrible)|(?=.*disrespectful)|(?=.*irresponsibly)|(?=.*irresponsible)|(?=.*improper)|(?=.*wasted)|(?=.*violate)|(?=.*violations)|(?=.*aren t worth)|(?=.*undress)|(?=.*didnt treat me)|(?=.*horrible)|(?=kill)|(?=.*danger)|(?=.*dangerous)|(?=rough)|(?=.*dismissed)|(?=.*upsetting)|(?=.*out of line)|(?=.*uncomfortable)|(?=.*can t breathe)|(?=.*breast)|(?=.*was misdiagnosed)|(?=.*did not examine me)|(?=.*forced to participate)|(?=.*forced into it)'), 'sentiment_label'] = 'Extreme'\n",
    "reason_for_nps_score_reviews.loc[(reason_for_nps_score_reviews['polarity_score']>0) & (reason_for_nps_score_reviews['sentiment_label']=='Extreme'), 'polarity_score']*=-1\n",
    "\n",
    "reason_for_nps_score_reviews.loc[(reason_for_nps_score_reviews['NPS']>=7) & (reason_for_nps_score_reviews['sentiment_label']=='Negative'), 'sentiment']=1\n",
    "reason_for_nps_score_reviews.loc[(reason_for_nps_score_reviews['NPS']>=7) & (reason_for_nps_score_reviews['sentiment_label']=='Negative'), 'sentiment_label']='Positive'\n",
    "reason_for_nps_score_reviews.loc[(reason_for_nps_score_reviews['NPS']>=7) & (reason_for_nps_score_reviews['polarity_score']<0), 'polarity_score']*=-1\n",
    "\n",
    "reason_for_nps_score_reviews.loc[reason_for_nps_score_reviews['reviews'].str.contains('^(?=.*good)|(?=.*great)|(?=.*awesome)|(?=.*very much)|(?=.*friendly)|(?=.*appreciate)|(?=.*compassionate)|(?=.*went well)|(?=.*very thorough)|(?=.*assisted)|(?=.*easy)|(?=.*enjoyed)|(?=.*i like)|(?=.*i liked)|(?=.*nice)|(?=.*love)|(?=.*caring)|(?=.*impressed)|(?=.*knowledgeable)|(?=.*very comfortable)|(?=.*very professional)|(?=.*achieved)|(?=.*courteous)|(?=.*listen to what i had to say)|(?=.*right amount of time)|(?=.*on time)|(?=.*personable)|(?=.*efficient)|(?=.*fantastic)|(?=.*punctual)|(?=.*go over issues)|(?=.*got me in same day)|(?=.*all my concerns)|(?=.*everything)|(?=.*sat and talked)') & (reason_for_nps_score_reviews['NPS']>=5), 'sentiment'] = 1\n",
    "reason_for_nps_score_reviews.loc[reason_for_nps_score_reviews['reviews'].str.contains('^(?=.*good)|(?=.*great)|(?=.*awesome)|(?=.*very much)|(?=.*friendly)|(?=.*appreciate)|(?=.*compassionate)|(?=.*went well)|(?=.*very thorough)|(?=.*assisted)|(?=.*easy)|(?=.*enjoyed)|(?=.*i like)|(?=.*i liked)|(?=.*nice)|(?=.*love)|(?=.*caring)|(?=.*impressed)|(?=.*knowledgeable)|(?=.*very comfortable)|(?=.*very professional)|(?=.*achieved)|(?=.*courteous)|(?=.*listen to what i had to say)|(?=.*right amount of time)|(?=.*on time)|(?=.*personable)|(?=.*efficient)|(?=.*fantastic)|(?=.*punctual)|(?=.*go over issues)|(?=.*got me in same day)|(?=.*all my concerns)|(?=.*everything)|(?=.*sat and talked)') & (reason_for_nps_score_reviews['NPS']>=5), 'sentiment_label'] = 'Positive'\n",
    "reason_for_nps_score_reviews.loc[(reason_for_nps_score_reviews['polarity_score']<0) & (reason_for_nps_score_reviews['sentiment_label']=='Positive'), 'polarity_score']*=-1\n",
    "#reason_for_nps_score_reviews.loc[(reason_for_nps_score_reviews['NPS']>=7) & (reason_for_nps_score_reviews['reviews'].str.contains('listen')) & (reason_for_nps_score_reviews['polarity_score']<0), 'polarity_score']*=-1\n",
    "#reason_for_nps_score_reviews.loc[(reason_for_nps_score_reviews['NPS']>=7) & (reason_for_nps_score_reviews['sentiment_label']=='Negative'), 'sentiment']=1\n",
    "#reason_for_nps_score_reviews.loc[(reason_for_nps_score_reviews['NPS']>=7) & (reason_for_nps_score_reviews['sentiment']==1), 'sentiment_label']='Positive'\n",
    "#reason_for_nps_score_reviews.loc[(reason_for_nps_score_reviews['polarity_score']<0) & (reason_for_nps_score_reviews['sentiment_label']=='Positive'), 'polarity_score']*=-1\n",
    "#reason_for_nps_score_reviews.loc[(reason_for_nps_score_reviews['polarity_score']==0) & (reason_for_nps_score_reviews['sentiment_label']=='Extreme'), 'polarity_score'] = 0\n",
    "reason_for_nps_score_reviews"
   ]
  },
  {
   "cell_type": "code",
   "execution_count": null,
   "id": "f0f767a3",
   "metadata": {
    "id": "f0f767a3"
   },
   "outputs": [],
   "source": [
    "reason_for_nps_score_reviews.loc[reason_for_nps_score_reviews['reviews'].str.contains('^(?=.*wasn t treated)|(?=.*waited)|(?=.*not as caring)|(?=.*did not think)|(?=.*didn t think)|(?=.*did not get)|(?=.*didn t get)|(?=.*felt rushed)|(?=.*was rushed)|(?=.*seemed rushed)|(?=.*did not fix)|(?=.*didn t fix)|(?=.*didn t listen)|(?=.*did not listen)|(?=.*ignored)|(?=.*unprofessional)|(?=.*don t think)|(?=.*do not think)|(?=.*waiting)|(?=.*talked too much)|(?=.*please)|(?=.*took longer)|(?=.*didn t show)|(?=.*did not show)|(?=.*never)|(?=.*difficult)|(?=.*unable)|(?=.*didn t look)|(?=.*did not look)|(?=.*not being treated)|(?=.*was not)|(?=.*confused)|(?=.*did not recognize)|(?=.*didn t recognize)|(?=.*do not like)|(?=.*don t like)|(?=.*wasn t greeted)|(?=.*was not greeted)|(?=.*need to improve)|(?=.*no one)|(?=.*lacking)|(?=.*no solution)|(?=.*didn t understand)|(?=.*did not understand)|(?=.*unorganized)|(?=.*no follow up)|(?=.*doesn t seem)|(?=.*does not seem)|(?=.*would not call)|(?=.*wouldn t call)|(?=.*were not)|(?=.*not very)|(?=.*not answered)|(?=.*no answer)|(?=.*conflict)|(?=.*didnt treat)|(?=.*didn t treat)|(?=.*did not treat)|(?=.*lack)|(?=.*lacking)|(?=.*lacked)|(?=.*need to)|(?=.*not near as caring)|(?=.*already expressed)|(?=.*far away)') & (reason_for_nps_score_reviews['NPS']<=4), 'sentiment'] = -1\n",
    "reason_for_nps_score_reviews.loc[reason_for_nps_score_reviews['reviews'].str.contains('^(?=.*wasn t treated)|(?=.*waited)|(?=.*not as caring)|(?=.*did not think)|(?=.*didn t think)|(?=.*did not get)|(?=.*didn t get)|(?=.*felt rushed)|(?=.*was rushed)|(?=.*seemed rushed)|(?=.*did not fix)|(?=.*didn t fix)|(?=.*didn t listen)|(?=.*did not listen)|(?=.*ignored)|(?=.*unprofessional)|(?=.*don t think)|(?=.*do not think)|(?=.*waiting)|(?=.*talked too much)|(?=.*please)|(?=.*took longer)|(?=.*didn t show)|(?=.*did not show)|(?=.*never)|(?=.*difficult)|(?=.*unable)|(?=.*didn t look)|(?=.*did not look)|(?=.*not being treated)|(?=.*was not)|(?=.*confused)|(?=.*did not recognize)|(?=.*didn t recognize)|(?=.*do not like)|(?=.*don t like)|(?=.*wasn t greeted)|(?=.*was not greeted)|(?=.*need to improve)|(?=.*no one)|(?=.*lacking)|(?=.*no solution)|(?=.*didn t understand)|(?=.*did not understand)|(?=.*unorganized)|(?=.*no follow up)|(?=.*doesn t seem)|(?=.*does not seem)|(?=.*would not call)|(?=.*wouldn t call)|(?=.*were not)|(?=.*not very)|(?=.*not answered)|(?=.*no answer)|(?=.*conflict)|(?=.*didnt treat)|(?=.*didn t treat)|(?=.*did not treat)|(?=.*lack)|(?=.*lacking)|(?=.*lacked)|(?=.*need to)|(?=.*not near as caring)|(?=.*already expressed)|(?=.*far away)') & (reason_for_nps_score_reviews['NPS']<=4), 'sentiment_label'] = 'Negative'\n",
    "reason_for_nps_score_reviews.loc[reason_for_nps_score_reviews['reviews'].str.contains('^(?=.*wasn t treated)|(?=.*waited)|(?=.*not as caring)|(?=.*did not think)|(?=.*didn t think)|(?=.*did not get)|(?=.*didn t get)|(?=.*felt rushed)|(?=.*was rushed)|(?=.*seemed rushed)|(?=.*did not fix)|(?=.*didn t fix)|(?=.*didn t listen)|(?=.*did not listen)|(?=.*ignored)|(?=.*unprofessional)|(?=.*don t think)|(?=.*do not think)|(?=.*waiting)|(?=.*talked too much)|(?=.*please)|(?=.*took longer)|(?=.*didn t show)|(?=.*did not show)|(?=.*never)|(?=.*difficult)|(?=.*unable)|(?=.*didn t look)|(?=.*did not look)|(?=.*not being treated)|(?=.*was not)|(?=.*confused)|(?=.*did not recognize)|(?=.*didn t recognize)|(?=.*do not like)|(?=.*don t like)|(?=.*wasn t greeted)|(?=.*was not greeted)|(?=.*need to improve)|(?=.*no one)|(?=.*lacking)|(?=.*no solution)|(?=.*didn t understand)|(?=.*did not understand)|(?=.*unorganized)|(?=.*no follow up)|(?=.*doesn t seem)|(?=.*does not seem)|(?=.*would not call)|(?=.*wouldn t call)|(?=.*were not)|(?=.*not very)|(?=.*not answered)|(?=.*no answer)|(?=.*conflict)|(?=.*didnt treat)|(?=.*didn t treat)|(?=.*did not treat)|(?=.*lack)|(?=.*lacking)|(?=.*lacked)|(?=.*need to)|(?=.*not near as caring)|(?=.*already expressed)|(?=.*far away)|(?=.*dirty)|(?=.*don t have resources)|(?=.*dont lie)|(?=.*too long)|(?=.*forgot)|(?=.*give proper)|(?=.*not treating)|(?=.*worthless)|(?=.*doesn t look well)|(?=.*don t get)|(?=.*way to long)|(?=.*not willing)|(?=.*no examination)|(?=.*failed)|(?=.*didn t follow up)|(?=.*doesn t follow up)|(?=.*was cold)|(?=.*little compassion)|(?=.*inexperienced)|(?=.*didn t even)|(?=.*needs to be cleaned)|(?=.*forgot to call)|(?=.*did not hear)|(?=.*superficial)|(?=.*afraid to touch)|(?=.*did not trust)|(?=.*far too long)|(?=.*don t have any resources)|(?=.*not happy)|(?=.*made me wait)|(?=.*awful)|(?=.*dirty)|(?=.*nobody grteeted)|(?=.*won t call)|(?=.*did not work)|(?=.*entire problem was)|(?=.*didn t even acknowledge)|(?=.*doesn t care)|(?=.*incompetent)|(?=.*not knowledgeable)|(?=.*didn t make appointment right)|(?=.*should not have)|(?=.*had to wait awhile)|(?=.*way too long)|(?=.*frustrating)|(?=.*they don t do)|(?=.*than the person you have hired)|(?=.*wasn t very clean)|(?=.*made me very sick)|(?=.*we were told)|(?=.*what is going on)|(?=.*don t recommend)|(?=.*only thing they cared about)|(?=.*did not seem to care)|(?=.*pretty disappointed)|(?=.*mess up my medicine)|(?=.*very demeaning)|(?=.*unfriendly)|(?=.*very disappointed)|(?=.*didn t have any good)|(?=.*wasn t much true interest)|(?=.*not acceptable)|(?=.*does not listen)|(?=.*did not listen)|(?=.*would not refill)|(?=.*not happening)|(?=.*not great)|(?=.*new very little)|(?=.*to long of a time)|(?=.*poor instructions)|(?=.*poor service)|(?=.*was charged an excessive amount)|(?=.*thrilled i was able)|(?=.*little slow)'), 'sentiment'] = -1\n",
    "reason_for_nps_score_reviews.loc[reason_for_nps_score_reviews['reviews'].str.contains('^(?=.*wasn t treated)|(?=.*waited)|(?=.*not as caring)|(?=.*did not think)|(?=.*didn t think)|(?=.*did not get)|(?=.*didn t get)|(?=.*felt rushed)|(?=.*was rushed)|(?=.*seemed rushed)|(?=.*did not fix)|(?=.*didn t fix)|(?=.*didn t listen)|(?=.*did not listen)|(?=.*ignored)|(?=.*unprofessional)|(?=.*don t think)|(?=.*do not think)|(?=.*waiting)|(?=.*talked too much)|(?=.*please)|(?=.*took longer)|(?=.*didn t show)|(?=.*did not show)|(?=.*never)|(?=.*difficult)|(?=.*unable)|(?=.*didn t look)|(?=.*did not look)|(?=.*not being treated)|(?=.*was not)|(?=.*confused)|(?=.*did not recognize)|(?=.*didn t recognize)|(?=.*do not like)|(?=.*don t like)|(?=.*wasn t greeted)|(?=.*was not greeted)|(?=.*need to improve)|(?=.*no one)|(?=.*lacking)|(?=.*no solution)|(?=.*didn t understand)|(?=.*did not understand)|(?=.*unorganized)|(?=.*no follow up)|(?=.*doesn t seem)|(?=.*does not seem)|(?=.*would not call)|(?=.*wouldn t call)|(?=.*were not)|(?=.*not very)|(?=.*not answered)|(?=.*no answer)|(?=.*conflict)|(?=.*didnt treat)|(?=.*didn t treat)|(?=.*did not treat)|(?=.*lack)|(?=.*lacking)|(?=.*lacked)|(?=.*need to)|(?=.*not near as caring)|(?=.*already expressed)|(?=.*far away)|(?=.*dirty)|(?=.*don t have resources)|(?=.*dont lie)|(?=.*too long)|(?=.*forgot)|(?=.*give proper)|(?=.*not treating)|(?=.*worthless)|(?=.*doesn t look well)|(?=.*don t get)|(?=.*way to long)|(?=.*not willing)|(?=.*no examination)|(?=.*failed)|(?=.*didn t follow up)|(?=.*doesn t follow up)|(?=.*was cold)|(?=.*little compassion)|(?=.*inexperienced)|(?=.*didn t even)|(?=.*needs to be cleaned)|(?=.*forgot to call)|(?=.*did not hear)|(?=.*superficial)|(?=.*afraid to touch)|(?=.*did not trust)|(?=.*far too long)|(?=.*don t have any resources)|(?=.*not happy)|(?=.*made me wait)|(?=.*awful)|(?=.*dirty)|(?=.*nobody grteeted)|(?=.*won t call)|(?=.*did not work)|(?=.*entire problem was)|(?=.*didn t even acknowledge)|(?=.*doesn t care)|(?=.*incompetent)|(?=.*not knowledgeable)|(?=.*didn t make appointment right)|(?=.*should not have)|(?=.*had to wait awhile)|(?=.*way too long)|(?=.*frustrating)|(?=.*they don t do)|(?=.*than the person you have hired)|(?=.*wasn t very clean)|(?=.*made me very sick)|(?=.*we were told)|(?=.*what is going on)|(?=.*don t recommend)|(?=.*only thing they cared about)|(?=.*did not seem to care)|(?=.*pretty disappointed)|(?=.*mess up my medicine)|(?=.*very demeaning)|(?=.*unfriendly)|(?=.*very disappointed)|(?=.*didn t have any good)|(?=.*wasn t much true interest)|(?=.*not acceptable)|(?=.*does not listen)|(?=.*did not listen)|(?=.*would not refill)|(?=.*not happening)|(?=.*not great)|(?=.*new very little)|(?=.*to long of a time)|(?=.*poor instructions)|(?=.*poor service)|(?=.*was charged an excessive amount)|(?=.*thrilled i was able)|(?=.*little slow)'), 'sentiment_label'] = 'Negative'\n",
    "reason_for_nps_score_reviews.loc[(reason_for_nps_score_reviews['polarity_score']>0) & (reason_for_nps_score_reviews['sentiment_label']=='Negative'), 'polarity_score']*=-1"
   ]
  },
  {
   "cell_type": "code",
   "execution_count": null,
   "id": "a7dda7f3",
   "metadata": {
    "id": "a7dda7f3"
   },
   "outputs": [],
   "source": [
    "reason_for_nps_score_reviews.loc[reason_for_nps_score_reviews['reviews'].str.contains('^(?=.*amazing)|(?=.*can t think of anything)|(?=.*completely satisfied)|(?=.*no complaints)|(?=.*perfect)|(?=.*was fine)|(?=.*was nice)|(?=.*very happy)|(?=.*well communication)|(?=.*enough time with me)|(?=.*not a single thing)|(?=.*couldn t ask for anything more)|(?=.*very satisfied)|(?=.*nothing to say)|(?=.*nothing to report)|(?=.*very pleasant)|(?=.*was well)|(?=.*completely happy)|(?=.*was pleased)|(?=.*all employees use)|(?=.*super nice)|(?=.*never had a doctor spend)|(?=.*very pleased)|(?=.*it was okay)|(?=.*was quick)|(?=.*convenient high quality)|(?=.*very welcoming)|(?=.*provide great care)|(?=.*very nice)|(?=.*treat you like family)|(?=.*always on time)|(?=.*very helpful)|(?=.*i am fortunate)|(?=.*best coarse of action)|(?=.*very convenient)|(?=.*i iike the doctor)|(?=.*great service)|(?=.*wasn t too long)|(?=.*extremely convenient)|(?=.*service is good)|(?=.*i like being able to)|(?=.*overall i liked)|(?=.*paladinas the city s health)|(?=.*i enjoy the convenience)|(?=.*respect for my time)|(?=.*was easy to schedule)|(?=.*short waiting times)|(?=.*no waiting time)|(?=.*no hassle)|(?=.*very friendly)|(?=.*answered all my questions)|(?=.*very professional)|(?=.*so far so good)|(?=.*always seen on time)|(?=.*never feel rushed)|(?=.*friendly  timely)|(?=.*fast service)|(?=.*very accommodating)|(?=.*pleasent experience   nice staff)|(?=.*helpful and financially beneficial)|(?=.*ease of appointments)|(?=.*has a genuine concern)|(?=.*you feel that you are being heard)|(?=.*quick  affordable)|(?=.*convenient  fast  professional)|(?=.*excellent  thorough providers)|(?=.*very detailed check up)|(?=.*were kind)|(?=.*high quality of care)|(?=.*doctor listened to patient)|(?=.*doing a better job)|(?=.*ease of making an appointment)|(?=.*are just wonderful)|(?=.*very attentive)|(?=.*no wait times)|(?=.*felt comfortable)|(?=.*treated like a human a)|(?=.*felt welcoming)|(?=.*i am satisfied)|(?=.*quality of care and time)|(?=.*i enjoy)|(?=.*quick scheduling)|(?=.*was vey kind)|(?=.*was very kind)|(?=.*it was helpful)|(?=.*pretty thorough)|(?=.*was really thorough)|(?=.*listened to my concerns)|(?=.*listened to what i had to say)|(?=.*listened to all concerns)|(?=.*very responsive)|(?=.*very informative)|(?=.*cared about my well being)|(?=.*i feel welcomed)|(?=.*made me feel important)|(?=.*made me feel better)|(?=.*was very productive)|(?=.*gave me a lot of information)|(?=.*timely and kind)|(?=.*positive experience)|(?=.*personalized care)|(?=.*thank you)|(?=.*with professional courtesy)|(?=.*very positive environment)|(?=.*were wonderful)|(?=.*was thorough)|(?=.*non judgemental)|(?=.*very receptive)|(?=.*did not seem rushed)|(?=.*asked thorough questions)|(?=.* i felt confident)|(?=.*very little wait time)|(?=.*felt like an actual patient)|(?=.*she really cares)|(?=.*he really cares)|(?=.*treated me like a person)|(?=.*listened carefully and thoughtfully)|(?=.*was responsive)|(?=.*explained things really well)|(?=.*met me with respect)|(?=.*listened to my feedback)|(?=.*i felt heard)|(?=.*went very well)|(?=.*quick and thorough)|(?=.*made me comfortable)|(?=.*was explained in detail)|(?=.*kind and listened)|(?=.*got me in earlier)|(?=.*outstanding service)|(?=.*listened to my needs)|(?=.*very well prepared)|(?=.*i was welcomed)|(?=.*listened  welcoming)|(?=.*most important patient)|(?=.*spent a tremendous amount of time)|(?=.*very kind and polite)|(?=.*pleasant and thorough)|(?=.*pleasant and helpful)|(?=.*very prompt)|(?=.*very timely)|(?=.*asked good questions)|(?=.*is the best)|(?=.*pleasant and professional)|(?=.*was understanding)|(?=.*felt welcome and listened)|(?=.*everything went well)|(?=.*was pleasant)|(?=.*staff greeted me)|(?=.*everyone is sincere)|(?=.*polite and helpful)|(?=.*interactive and listened)|(?=.*found answers to my questions)|(?=.*kind and considerate)|(?=.*listened and responded)|(?=.*easy to schedule)|(?=.*always listen to my concerns)|(?=.*were professional)|(?=.*satisfied my needs)|(?=.*i was important)|(?=.*did not rush me)|(?=.*were addressed)|(?=.*was very respectful)|(?=.*didn t feel rushed)|(?=.*ease and timeliness)|(?=.*very patient and attentive)|(?=.*made sure i understood)|(?=.*took time to explain)|(?=.*very personal and understanding)|(?=.*very honest)|(?=.*very cared)|(?=.*always prepared)|(?=.*well cared)|(?=.*best dr visit)|(?=.*did not feel rushed)|(?=.*very quick)|(?=.*is a pleasure)|(?=.*patient centered)|(?=.*doctor really cares)|(?=.*spent as much time)|(?=.*expressed interested in me)|(?=.*took time to really talk)|(?=.*helped me with my issues)|(?=.*was incredibly calm)|(?=.*very warmly)|(?=.*listened to me first)|(?=.*without any wait time)|(?=.*always quick)|(?=.*was organized)|(?=.*very kind)|(?=.*i was able to make an appointment)|(?=.*helped clear up mysteries)|(?=.*was exceptional)|(?=.*we did not have to wait)|(?=.*i really like)|(?=.*made a personal connection)|(?=.*spent time in reviewing)|(?=.*spent quality time)|(?=.*gave me the information i needed)|(?=.*very personal)|(?=.*did not rush)|(?=.*have time to deal)|(?=.*was extremely thorough)|(?=.*has really helped)|(?=.*extra care was taken)|(?=.*took extra care)|(?=.*showed an interest)|(?=.*care and compassion)|(?=.*took his time)|(?=.*is nice  and caring)|(?=.*took the time to explain)|(?=.*talked to me and listened)|(?=.*made the patient feel comfortable)|(?=.*addressed the issue)|(?=.*listen and spent time)|(?=.*took her time with me)|(?=.*addressed my issue)|(?=.*i am so pleased)|(?=.*took the time to listen)|(?=.*i felt important  like a person)|(?=.*concise and responsive)|(?=.*didn t wait long)|(?=.*helped me understand)|(?=.*very well)|(?=.*very personal service)|(?=.*they followed the guidelines)|(?=.*started in a timely)|(?=.*was wonderful)|(?=.*very thoughtful)|(?=.*was genuinely interested)|(?=.*ran smoothly)|(?=.*i felt my concerns were important)|(?=.*assist was great)|(?=.*welcoming staff)|(?=.*they were very interested)|(?=.*i am treated)|(?=.*was treated with respect)|(?=.*can recommend to co workers)'), 'sentiment'] = 1\n",
    "reason_for_nps_score_reviews.loc[reason_for_nps_score_reviews['reviews'].str.contains('^(?=.*amazing)|(?=.*can t think of anything)|(?=.*completely satisfied)|(?=.*no complaints)|(?=.*perfect)|(?=.*was fine)|(?=.*was nice)|(?=.*very happy)|(?=.*well communication)|(?=.*enough time with me)|(?=.*not a single thing)|(?=.*couldn t ask for anything more)|(?=.*very satisfied)|(?=.*nothing to say)|(?=.*nothing to report)|(?=.*very pleasant)|(?=.*was well)|(?=.*completely happy)|(?=.*was pleased)|(?=.*all employees use)|(?=.*super nice)|(?=.*never had a doctor spend)|(?=.*very pleased)|(?=.*it was okay)|(?=.*was quick)|(?=.*convenient high quality)|(?=.*very welcoming)|(?=.*provide great care)|(?=.*very nice)|(?=.*treat you like family)|(?=.*always on time)|(?=.*very helpful)|(?=.*i am fortunate)|(?=.*best coarse of action)|(?=.*very convenient)|(?=.*i iike the doctor)|(?=.*great service)|(?=.*wasn t too long)|(?=.*extremely convenient)|(?=.*service is good)|(?=.*i like being able to)|(?=.*overall i liked)|(?=.*paladinas the city s health)|(?=.*i enjoy the convenience)|(?=.*respect for my time)|(?=.*was easy to schedule)|(?=.*short waiting times)|(?=.*no waiting time)|(?=.*no hassle)|(?=.*very friendly)|(?=.*answered all my questions)|(?=.*very professional)|(?=.*so far so good)|(?=.*always seen on time)|(?=.*never feel rushed)|(?=.*friendly  timely)|(?=.*fast service)|(?=.*very accommodating)|(?=.*pleasent experience   nice staff)|(?=.*helpful and financially beneficial)|(?=.*ease of appointments)|(?=.*has a genuine concern)|(?=.*you feel that you are being heard)|(?=.*quick  affordable)|(?=.*convenient  fast  professional)|(?=.*excellent  thorough providers)|(?=.*very detailed check up)|(?=.*were kind)|(?=.*high quality of care)|(?=.*doctor listened to patient)|(?=.*doing a better job)|(?=.*ease of making an appointment)|(?=.*are just wonderful)|(?=.*very attentive)|(?=.*no wait times)|(?=.*felt comfortable)|(?=.*treated like a human a)|(?=.*felt welcoming)|(?=.*i am satisfied)|(?=.*quality of care and time)|(?=.*i enjoy)|(?=.*quick scheduling)|(?=.*was vey kind)|(?=.*was very kind)|(?=.*it was helpful)|(?=.*pretty thorough)|(?=.*was really thorough)|(?=.*listened to my concerns)|(?=.*listened to what i had to say)|(?=.*listened to all concerns)|(?=.*very responsive)|(?=.*very informative)|(?=.*cared about my well being)|(?=.*i feel welcomed)|(?=.*made me feel important)|(?=.*made me feel better)|(?=.*was very productive)|(?=.*gave me a lot of information)|(?=.*timely and kind)|(?=.*positive experience)|(?=.*personalized care)|(?=.*thank you)|(?=.*with professional courtesy)|(?=.*very positive environment)|(?=.*were wonderful)|(?=.*was thorough)|(?=.*non judgemental)|(?=.*very receptive)|(?=.*did not seem rushed)|(?=.*asked thorough questions)|(?=.* i felt confident)|(?=.*very little wait time)|(?=.*felt like an actual patient)|(?=.*she really cares)|(?=.*he really cares)|(?=.*treated me like a person)|(?=.*listened carefully and thoughtfully)|(?=.*was responsive)|(?=.*explained things really well)|(?=.*met me with respect)|(?=.*listened to my feedback)|(?=.*i felt heard)|(?=.*went very well)|(?=.*quick and thorough)|(?=.*made me comfortable)|(?=.*was explained in detail)|(?=.*kind and listened)|(?=.*got me in earlier)|(?=.*outstanding service)|(?=.*listened to my needs)|(?=.*very well prepared)|(?=.*i was welcomed)|(?=.*listened  welcoming)|(?=.*most important patient)|(?=.*spent a tremendous amount of time)|(?=.*very kind and polite)|(?=.*pleasant and thorough)|(?=.*pleasant and helpful)|(?=.*very prompt)|(?=.*very timely)|(?=.*asked good questions)|(?=.*is the best)|(?=.*pleasant and professional)|(?=.*was understanding)|(?=.*felt welcome and listened)|(?=.*everything went well)|(?=.*was pleasant)|(?=.*staff greeted me)|(?=.*everyone is sincere)|(?=.*polite and helpful)|(?=.*interactive and listened)|(?=.*found answers to my questions)|(?=.*kind and considerate)|(?=.*listened and responded)|(?=.*easy to schedule)|(?=.*always listen to my concerns)|(?=.*were professional)|(?=.*satisfied my needs)|(?=.*i was important)|(?=.*did not rush me)|(?=.*were addressed)|(?=.*was very respectful)|(?=.*didn t feel rushed)|(?=.*ease and timeliness)|(?=.*very patient and attentive)|(?=.*made sure i understood)|(?=.*took time to explain)|(?=.*very personal and understanding)|(?=.*very honest)|(?=.*very cared)|(?=.*always prepared)|(?=.*well cared)|(?=.*best dr visit)|(?=.*did not feel rushed)|(?=.*very quick)|(?=.*is a pleasure)|(?=.*patient centered)|(?=.*doctor really cares)|(?=.*spent as much time)|(?=.*expressed interested in me)|(?=.*took time to really talk)|(?=.*helped me with my issues)|(?=.*was incredibly calm)|(?=.*very warmly)|(?=.*listened to me first)|(?=.*without any wait time)|(?=.*always quick)|(?=.*was organized)|(?=.*very kind)|(?=.*i was able to make an appointment)|(?=.*helped clear up mysteries)|(?=.*was exceptional)|(?=.*we did not have to wait)|(?=.*i really like)|(?=.*made a personal connection)|(?=.*spent time in reviewing)|(?=.*spent quality time)|(?=.*gave me the information i needed)|(?=.*very personal)|(?=.*did not rush)|(?=.*have time to deal)|(?=.*was extremely thorough)|(?=.*has really helped)|(?=.*extra care was taken)|(?=.*took extra care)|(?=.*showed an interest)|(?=.*care and compassion)|(?=.*took his time)|(?=.*is nice  and caring)|(?=.*took the time to explain)|(?=.*talked to me and listened)|(?=.*made the patient feel comfortable)|(?=.*addressed the issue)|(?=.*listen and spent time)|(?=.*took her time with me)|(?=.*addressed my issue)|(?=.*i am so pleased)|(?=.*took the time to listen)|(?=.*i felt important  like a person)|(?=.*concise and responsive)|(?=.*didn t wait long)|(?=.*helped me understand)|(?=.*very well)|(?=.*very personal service)|(?=.*they followed the guidelines)|(?=.*started in a timely)|(?=.*was wonderful)|(?=.*very thoughtful)|(?=.*was genuinely interested)|(?=.*ran smoothly)|(?=.*i felt my concerns were important)|(?=.*assist was great)|(?=.*welcoming staff)|(?=.*they were very interested)|(?=.*i am treated)|(?=.*was treated with respect)|(?=.*can recommend to co workers)'), 'sentiment_label'] = 'Positive'\n",
    "reason_for_nps_score_reviews.loc[reason_for_nps_score_reviews['reviews'].str.contains('^(?=convenient)') & (reason_for_nps_score_reviews['NPS']==6), 'sentiment_label'] = 'Positive'\n",
    "reason_for_nps_score_reviews.loc[(reason_for_nps_score_reviews['polarity_score']<0) & (reason_for_nps_score_reviews['sentiment_label']=='Positive'), 'polarity_score']*=-1"
   ]
  },
  {
   "cell_type": "code",
   "execution_count": null,
   "id": "0565b934",
   "metadata": {
    "id": "0565b934"
   },
   "outputs": [],
   "source": [
    "#reason_for_nps_score_reviews.loc[reason_for_nps_score_reviews['reviews'].str.contains('courteous'), 'sentiment'] = 1\n",
    "#reason_for_nps_score_reviews.loc[reason_for_nps_score_reviews['reviews'].str.contains('') , 'sentiment_label'] = 'Positive'\n",
    "#reason_for_nps_score_reviews.loc[(reason_for_nps_score_reviews['polarity_score']>0) & (reason_for_nps_score_reviews['sentiment_label']=='Positive'), 'polarity_score']*=-1"
   ]
  },
  {
   "cell_type": "code",
   "execution_count": null,
   "id": "67feac23",
   "metadata": {
    "id": "67feac23"
   },
   "outputs": [],
   "source": [
    "reason_for_nps_score_reviews.loc[(reason_for_nps_score_reviews['NPS']>=9) & (reason_for_nps_score_reviews['NPS']<=10), 'nps_label'] = 'Promoter'\n",
    "reason_for_nps_score_reviews.loc[(reason_for_nps_score_reviews['NPS']>=7) & (reason_for_nps_score_reviews['NPS']<=8), 'nps_label'] = 'Passive'\n",
    "reason_for_nps_score_reviews.loc[reason_for_nps_score_reviews['NPS']<=6, 'nps_label'] = 'Detractor'"
   ]
  },
  {
   "cell_type": "code",
   "execution_count": null,
   "id": "e82090fe",
   "metadata": {
    "id": "e82090fe",
    "outputId": "fc94ad4a-ace2-4fee-9cd4-031325c9c623"
   },
   "outputs": [],
   "source": [
    "reason_for_nps_score_reviews['nps_label'].value_counts()"
   ]
  },
  {
   "cell_type": "code",
   "execution_count": null,
   "id": "19b0bc43",
   "metadata": {
    "id": "19b0bc43",
    "outputId": "28afe309-e1ac-45c8-dd54-9e817471e337"
   },
   "outputs": [],
   "source": [
    "reason_for_nps_score_reviews['sentiment_label'].value_counts()"
   ]
  },
  {
   "cell_type": "code",
   "execution_count": null,
   "id": "0ec557a2",
   "metadata": {
    "id": "0ec557a2",
    "outputId": "d8a6028c-c77c-4a30-e071-e99762f1f6c7"
   },
   "outputs": [],
   "source": [
    "reason_for_nps_score_reviews"
   ]
  },
  {
   "cell_type": "code",
   "execution_count": null,
   "id": "56952d93",
   "metadata": {
    "id": "56952d93",
    "outputId": "ac3122b9-b5ca-41b3-a7e2-e02d06dd1e0d"
   },
   "outputs": [],
   "source": [
    "reason_for_nps_score_complete_data = pd.DataFrame()\n",
    "reason_for_nps_score_complete_data['ID'] = reason_for_nps_score_reviews['ID']\n",
    "reason_for_nps_score_complete_data['reviews'] = reason_for_nps_score_reviews['reviews']\n",
    "reason_for_nps_score_complete_data['date'] = reason_for_nps_score_reviews['date']\n",
    "reason_for_nps_score_complete_data['nps_score'] = reason_for_nps_score_reviews['NPS']\n",
    "reason_for_nps_score_complete_data['clinic'] = reason_for_nps_score_reviews['clinic']\n",
    "reason_for_nps_score_complete_data['city'] = reason_for_nps_score_reviews['city']\n",
    "reason_for_nps_score_complete_data['state'] = reason_for_nps_score_reviews['state']\n",
    "reason_for_nps_score_complete_data['polarity_score'] = reason_for_nps_score_reviews['polarity_score']\n",
    "reason_for_nps_score_complete_data['label'] = reason_for_nps_score_reviews['sentiment_label']\n",
    "reason_for_nps_score_complete_data['nps_label'] = reason_for_nps_score_reviews['nps_label']\n",
    "reason_for_nps_score_complete_data.to_csv(\"reason_for_nps_score_complete_data.csv\")\n",
    "reason_for_nps_score_complete_data"
   ]
  },
  {
   "cell_type": "code",
   "execution_count": null,
   "id": "77ea4859",
   "metadata": {
    "id": "77ea4859",
    "outputId": "3d2a6a90-f198-4615-e8d4-91af8fe08ce0",
    "scrolled": true
   },
   "outputs": [],
   "source": [
    "reason_for_nps_score_sentiment_count = reason_for_nps_score_reviews[['sentiment']].value_counts()\n",
    "reason_for_nps_score_sentiment_count"
   ]
  },
  {
   "cell_type": "code",
   "execution_count": null,
   "id": "66e0ef33",
   "metadata": {
    "id": "66e0ef33"
   },
   "outputs": [],
   "source": [
    "reason_for_nps_score_reviews.to_csv(\"reason_for_nps_score_reviews.csv\")"
   ]
  },
  {
   "cell_type": "code",
   "execution_count": null,
   "id": "d2c5cc0a",
   "metadata": {
    "id": "d2c5cc0a",
    "outputId": "5391b9bd-7d4c-4024-8e1f-fbf26f90a0f0"
   },
   "outputs": [],
   "source": [
    "reason_for_nps_score_crosstab = pd.crosstab(reason_for_nps_score_reviews.sentiment_label, reason_for_nps_score_reviews.nps_label, normalize='index')\n",
    "#reason_for_nps_score_crosstab.to_csv(\"reason_for_nps_score_crosstab.csv\")\n",
    "reason_for_nps_score_crosstab"
   ]
  },
  {
   "cell_type": "code",
   "execution_count": null,
   "id": "8b86d79c",
   "metadata": {
    "id": "8b86d79c",
    "outputId": "160b849a-4659-4070-de56-a7a594633e4c"
   },
   "outputs": [],
   "source": [
    "# Creating a histogram to show postive, negative, and neutral sentiment distribution\n",
    "figure = pl.histogram(reason_for_nps_score_reviews, x=\"sentiment_label\")\n",
    "figure.update_traces(marker_color=\"indianred\",marker_line_color='yellow',marker_line_width=2.0)\n",
    "figure.update_layout(title_text='Feedback Sentiment Analysis')\n",
    "figure.show()"
   ]
  },
  {
   "cell_type": "code",
   "execution_count": null,
   "id": "7d78ccaa",
   "metadata": {
    "id": "7d78ccaa",
    "outputId": "4bd7744b-864f-4b20-90a0-175cc1524cc5"
   },
   "outputs": [],
   "source": [
    "# Creating visualization using sns for exploratory analysis\n",
    "sns.pairplot(reason_for_nps_score_reviews, hue = 'sentiment_label')"
   ]
  },
  {
   "cell_type": "code",
   "execution_count": null,
   "id": "33ad50cb",
   "metadata": {
    "id": "33ad50cb",
    "outputId": "8eeb59db-2de9-4da9-9598-2eb041bf5a87"
   },
   "outputs": [],
   "source": [
    "reason_for_nps_score_positive = reason_for_nps_score_reviews[reason_for_nps_score_reviews['sentiment_label'].str.contains(r'Positive')]\n",
    "reason_for_nps_score_positive"
   ]
  },
  {
   "cell_type": "code",
   "execution_count": null,
   "id": "c0372c7b",
   "metadata": {
    "id": "c0372c7b",
    "outputId": "bd3506ac-67c9-452d-b8b7-31b7b9e47907"
   },
   "outputs": [],
   "source": [
    "reason_for_nps_score_positive_clinics = reason_for_nps_score_positive.sort_values(by=\"NPS\", ascending=False)\n",
    "reason_for_nps_score_positive_clinics = reason_for_nps_score_positive_clinics[reason_for_nps_score_positive_clinics['reviews'].str.contains(r'clinic|Clinic|CLINIC')]\n",
    "reason_for_nps_score_positive_clinics"
   ]
  },
  {
   "cell_type": "code",
   "execution_count": null,
   "id": "073ff106",
   "metadata": {
    "id": "073ff106",
    "outputId": "8cf3e2cc-c885-4e85-a5d0-6f775fd01442"
   },
   "outputs": [],
   "source": [
    "city = reason_for_nps_score_positive_clinics.set_index('clinic').to_dict()['city']\n",
    "state = reason_for_nps_score_positive_clinics.set_index('clinic').to_dict()['state']\n",
    "top_clinics = pd.DataFrame(reason_for_nps_score_positive_clinics.clinic.value_counts())\n",
    "top_clinics = top_clinics.reset_index()\n",
    "top_clinics.columns = ['clinic', 'mention']\n",
    "top_clinics['city'] = top_clinics['clinic'].apply(lambda x: city.get(x))\n",
    "top_clinics['state'] = top_clinics['clinic'].apply(lambda x: state.get(x))\n",
    "top_clinics"
   ]
  },
  {
   "cell_type": "code",
   "execution_count": null,
   "id": "1a1daff3",
   "metadata": {
    "id": "1a1daff3",
    "outputId": "20231e34-88eb-4e52-ddaf-d5877fde87f5"
   },
   "outputs": [],
   "source": [
    "top_clinics_json = json.dumps([{\"clinic\": clinic, \"city\": city, \"state\": state, \"mention\": mention} for clinic,city,state,mention in zip(top_clinics['clinic'], top_clinics['city'], top_clinics['state'], top_clinics['mention'])])\n",
    "top_clinics_json"
   ]
  },
  {
   "cell_type": "code",
   "execution_count": null,
   "id": "a2e3af92",
   "metadata": {
    "id": "a2e3af92"
   },
   "outputs": [],
   "source": [
    "with open(\"top_clinics.json\", \"w\") as top_clinics_file:\n",
    "    top_clinics_file.write(top_clinics_json)\n",
    "top_clinics_file.close()"
   ]
  },
  {
   "cell_type": "code",
   "execution_count": null,
   "id": "88cde938",
   "metadata": {
    "id": "88cde938",
    "outputId": "b92e05d3-6564-45c1-ff75-1469d9309af3"
   },
   "outputs": [],
   "source": [
    "reason_for_nps_score_positive_doctors = reason_for_nps_score_positive.sort_values(by=\"NPS\", ascending=False)\n",
    "reason_for_nps_score_positive_doctors = reason_for_nps_score_positive_doctors[reason_for_nps_score_positive_doctors['reviews'].str.contains(r'doctor|dr')]\n",
    "reason_for_nps_score_positive_doctors\n",
    "for i in reason_for_nps_score_positive_doctors.reviews:\n",
    "    print(i)"
   ]
  },
  {
   "cell_type": "code",
   "execution_count": null,
   "id": "e3bfc776",
   "metadata": {
    "id": "e3bfc776",
    "outputId": "4b452bff-d029-4ee8-c60e-c8ef39d3f64a"
   },
   "outputs": [],
   "source": [
    "reason_for_nps_score_negative = reason_for_nps_score_reviews[reason_for_nps_score_reviews['sentiment_label'].str.contains(r'Negative')]\n",
    "reason_for_nps_score_negative"
   ]
  },
  {
   "cell_type": "code",
   "execution_count": null,
   "id": "04630bca",
   "metadata": {
    "id": "04630bca",
    "outputId": "a4ae3afc-c173-4027-cebd-c62ba8f5919f"
   },
   "outputs": [],
   "source": [
    "reason_for_nps_score_neutral = reason_for_nps_score_reviews[reason_for_nps_score_reviews['sentiment_label'].str.contains(r'Neutral')]\n",
    "reason_for_nps_score_neutral"
   ]
  },
  {
   "cell_type": "code",
   "execution_count": null,
   "id": "5e5dca4f",
   "metadata": {
    "id": "5e5dca4f",
    "outputId": "1aa24c46-4056-40c7-8b48-1db35b772ad8"
   },
   "outputs": [],
   "source": [
    "reason_for_nps_score_extreme = reason_for_nps_score_reviews[reason_for_nps_score_reviews['sentiment_label'].str.contains(r'Extreme')]\n",
    "reason_for_nps_score_extreme"
   ]
  },
  {
   "cell_type": "code",
   "execution_count": null,
   "id": "159f0ca0",
   "metadata": {
    "id": "159f0ca0",
    "outputId": "a5b1c48b-ec12-4c48-ec06-99724e04b291"
   },
   "outputs": [],
   "source": [
    "reason_for_nps_score_promoters = reason_for_nps_score_reviews[reason_for_nps_score_reviews['nps_label'].str.contains(r'Promoter')]\n",
    "reason_for_nps_score_promoters.head(10)"
   ]
  },
  {
   "cell_type": "code",
   "execution_count": null,
   "id": "793bd066",
   "metadata": {
    "id": "793bd066",
    "outputId": "a5424484-e40f-4629-e51f-3b69bfe8086a"
   },
   "outputs": [],
   "source": [
    "len(reason_for_nps_score_promoters)"
   ]
  },
  {
   "cell_type": "code",
   "execution_count": null,
   "id": "4ee75955",
   "metadata": {
    "id": "4ee75955",
    "outputId": "a4c7fe19-c791-4ad6-f24e-ab21a73725fe"
   },
   "outputs": [],
   "source": [
    "reason_for_nps_score_passive = reason_for_nps_score_reviews[reason_for_nps_score_reviews['nps_label'].str.contains(r'Passive')]\n",
    "reason_for_nps_score_passive.head(10)"
   ]
  },
  {
   "cell_type": "code",
   "execution_count": null,
   "id": "fc38a144",
   "metadata": {
    "id": "fc38a144",
    "outputId": "0c83ab9a-f8c4-4e90-c552-a8520975c58e"
   },
   "outputs": [],
   "source": [
    "reason_for_nps_score_detractors = reason_for_nps_score_reviews[reason_for_nps_score_reviews['nps_label'].str.contains(r'Detractor')]\n",
    "reason_for_nps_score_detractors.head(10)"
   ]
  },
  {
   "cell_type": "code",
   "execution_count": null,
   "id": "c83237df",
   "metadata": {
    "id": "c83237df"
   },
   "outputs": [],
   "source": [
    "reason_for_nps_score_reviews.to_csv(\"reason_for_nps_score_reviews.csv\")"
   ]
  },
  {
   "cell_type": "code",
   "execution_count": null,
   "id": "de902c62",
   "metadata": {
    "id": "de902c62",
    "outputId": "726be1e1-d421-40ff-e26f-128b45014956"
   },
   "outputs": [],
   "source": [
    "c_vec = CountVectorizer(stop_words=stopwords_set, ngram_range=(1,1))\n",
    "# matrix of ngrams\n",
    "ngrams = c_vec.fit_transform(reason_for_nps_score_reviews['reviews'])\n",
    "# count frequency of ngrams\n",
    "count_values = ngrams.toarray().sum(axis=0)\n",
    "# list of ngrams\n",
    "vocab = c_vec.vocabulary_\n",
    "reason_for_nps_score_grams = pd.DataFrame(sorted([(count_values[i],k) for k,i in vocab.items()], reverse=True)).rename(columns={0: 'frequency', 1:'word_group'})\n",
    "reason_for_nps_score_grams['question_type'] = \"reason score\"\n",
    "reason_for_nps_score_grams.to_csv(\"reason_for_nps_score_frequency.csv\", encoding='utf-8', index=False)\n",
    "reason_for_nps_score_grams"
   ]
  },
  {
   "cell_type": "code",
   "execution_count": null,
   "id": "6133332c",
   "metadata": {
    "id": "6133332c",
    "outputId": "789400dc-dfcd-4f19-dc0e-09fad3f1e0a9"
   },
   "outputs": [],
   "source": [
    "ngrams = c_vec.fit_transform(reason_for_nps_score_positive['reviews'])\n",
    "count_values = ngrams.toarray().sum(axis=0)\n",
    "vocab = c_vec.vocabulary_\n",
    "reason_for_nps_score_positive_grams = pd.DataFrame(sorted([(count_values[i],k) for k,i in vocab.items()], reverse=True)).rename(columns={0: 'frequency', 1:'word_group'})\n",
    "reason_for_nps_score_positive_grams.to_csv(\"reason_for_nps_score_positive_frequency.csv\")\n",
    "reason_for_nps_score_positive_grams"
   ]
  },
  {
   "cell_type": "code",
   "execution_count": null,
   "id": "f8a10af2",
   "metadata": {
    "id": "f8a10af2",
    "outputId": "3d346988-799b-452b-d342-7c1e6f86da5c"
   },
   "outputs": [],
   "source": [
    "ngrams = c_vec.fit_transform(reason_for_nps_score_negative['reviews'])\n",
    "count_values = ngrams.toarray().sum(axis=0)\n",
    "vocab = c_vec.vocabulary_\n",
    "reason_for_nps_score_negative_grams = pd.DataFrame(sorted([(count_values[i],k) for k,i in vocab.items()], reverse=True)).rename(columns={0: 'frequency', 1:'word_group'})\n",
    "reason_for_nps_score_negative_grams.to_csv(\"reason_for_nps_score_negative_frequency.csv\")\n",
    "reason_for_nps_score_negative_grams"
   ]
  },
  {
   "cell_type": "code",
   "execution_count": null,
   "id": "0892131e",
   "metadata": {
    "id": "0892131e",
    "outputId": "28afe783-afdc-4b7d-aa11-0c326c8e0c88"
   },
   "outputs": [],
   "source": [
    "ngrams = c_vec.fit_transform(reason_for_nps_score_neutral['reviews'])\n",
    "count_values = ngrams.toarray().sum(axis=0)\n",
    "vocab = c_vec.vocabulary_\n",
    "reason_for_nps_score_neutral_grams = pd.DataFrame(sorted([(count_values[i],k) for k,i in vocab.items()], reverse=True)).rename(columns={0: 'frequency', 1:'word_group'})\n",
    "reason_for_nps_score_neutral_grams.to_csv(\"reason_for_nps_score_neutral_frequency.csv\")\n",
    "reason_for_nps_score_neutral_grams"
   ]
  },
  {
   "cell_type": "code",
   "execution_count": null,
   "id": "2278e69f",
   "metadata": {
    "id": "2278e69f",
    "outputId": "c0e8cf04-065c-4ba1-b89e-5049b85a81a1"
   },
   "outputs": [],
   "source": [
    "reason_for_nps_score_grams_json = json.dumps([{\"topic\": topic, \"frequency\": frequency} for frequency,topic in zip(reason_for_nps_score_grams['frequency'], reason_for_nps_score_grams['word_group'])])\n",
    "reason_for_nps_score_grams_json"
   ]
  },
  {
   "cell_type": "code",
   "execution_count": null,
   "id": "dc62fed3",
   "metadata": {
    "id": "dc62fed3"
   },
   "outputs": [],
   "source": [
    "with open(\"reason_for_nps_score_frequency.json\", \"w\") as reason_for_nps_score_topics_file:\n",
    "    reason_for_nps_score_topics_file.write(reason_for_nps_score_grams_json)\n",
    "reason_for_nps_score_topics_file.close()"
   ]
  },
  {
   "cell_type": "code",
   "execution_count": null,
   "id": "51ca6f83",
   "metadata": {
    "id": "51ca6f83",
    "outputId": "f5a22cec-08e8-410a-d3e7-b28be07c550b"
   },
   "outputs": [],
   "source": [
    "reason_for_nps_score_positive_grams_json = json.dumps([{\"word_group\": topic, \"frequency\": frequency} for frequency,topic in zip(reason_for_nps_score_positive_grams['frequency'], reason_for_nps_score_positive_grams['word_group'])])\n",
    "reason_for_nps_score_positive_grams_json"
   ]
  },
  {
   "cell_type": "code",
   "execution_count": null,
   "id": "3b9513a1",
   "metadata": {
    "id": "3b9513a1"
   },
   "outputs": [],
   "source": [
    "with open(\"reason_for_nps_score_positive_frequency.json\", \"w\") as reason_for_nps_score_positive_topics_file:\n",
    "    reason_for_nps_score_positive_topics_file.write(reason_for_nps_score_positive_grams_json)\n",
    "reason_for_nps_score_positive_topics_file.close()"
   ]
  },
  {
   "cell_type": "code",
   "execution_count": null,
   "id": "79dd96bd",
   "metadata": {
    "id": "79dd96bd",
    "outputId": "82985749-3a3d-40e8-b8cc-7dce1b01bd73"
   },
   "outputs": [],
   "source": [
    "reason_for_nps_score_negative_grams_json = json.dumps([{\"word_group\": topic, \"frequency\": frequency} for frequency,topic in zip(reason_for_nps_score_negative_grams['frequency'], reason_for_nps_score_negative_grams['word_group'])])\n",
    "reason_for_nps_score_negative_grams_json"
   ]
  },
  {
   "cell_type": "code",
   "execution_count": null,
   "id": "e94e01cf",
   "metadata": {
    "id": "e94e01cf"
   },
   "outputs": [],
   "source": [
    "with open(\"reason_for_nps_score_negative_frequency.json\", \"w\") as reason_for_nps_score_negative_topics_file:\n",
    "    reason_for_nps_score_negative_topics_file.write(reason_for_nps_score_negative_grams_json)\n",
    "reason_for_nps_score_negative_topics_file.close()"
   ]
  },
  {
   "cell_type": "code",
   "execution_count": null,
   "id": "6adfc4d7",
   "metadata": {
    "id": "6adfc4d7",
    "outputId": "55d7ac13-0b66-4574-c88b-613091a0829e"
   },
   "outputs": [],
   "source": [
    "reason_for_nps_score_neutral_grams_json = json.dumps([{\"word_group\": topic, \"frequency\": frequency} for frequency,topic in zip(reason_for_nps_score_neutral_grams['frequency'], reason_for_nps_score_neutral_grams['word_group'])])\n",
    "reason_for_nps_score_neutral_grams_json"
   ]
  },
  {
   "cell_type": "code",
   "execution_count": null,
   "id": "6c3fcc0c",
   "metadata": {
    "id": "6c3fcc0c"
   },
   "outputs": [],
   "source": [
    "with open(\"reason_for_nps_score_neutral_frequency.json\", \"w\") as reason_for_nps_score_neutral_topics_file:\n",
    "    reason_for_nps_score_neutral_topics_file.write(reason_for_nps_score_neutral_grams_json)\n",
    "reason_for_nps_score_neutral_topics_file.close()"
   ]
  },
  {
   "cell_type": "code",
   "execution_count": null,
   "id": "3bfc9db5",
   "metadata": {
    "id": "3bfc9db5",
    "outputId": "5a957b02-1468-4bcb-e399-8a1ace7cfed5"
   },
   "outputs": [],
   "source": [
    "reason_for_nps_score_top_positive = reason_for_nps_score_reviews[['reviews','polarity_score','sentiment_label']].sort_values(by='polarity_score', ascending=False).head(5)\n",
    "reason_for_nps_score_top_positive"
   ]
  },
  {
   "cell_type": "code",
   "execution_count": null,
   "id": "db9b511d",
   "metadata": {
    "id": "db9b511d",
    "outputId": "eceae39a-7fb7-4c7a-9c33-814a2820c4ec"
   },
   "outputs": [],
   "source": [
    "reason_for_nps_score_extreme_data = reason_for_nps_score_reviews[reason_for_nps_score_reviews['sentiment_label'].str.contains(r'Extreme')]\n",
    "reason_for_nps_score_extreme_data['sentiment_label'].value_counts()"
   ]
  },
  {
   "cell_type": "code",
   "execution_count": null,
   "id": "aa028ee2",
   "metadata": {
    "id": "aa028ee2",
    "outputId": "42ed3385-1405-428a-db0a-359bb9c92984"
   },
   "outputs": [],
   "source": [
    "reason_for_nps_score_top_negative = reason_for_nps_score_reviews[['reviews','polarity_score','sentiment_label']].sort_values(by='polarity_score', ascending=True).head(5)\n",
    "reason_for_nps_score_top_negative"
   ]
  },
  {
   "cell_type": "code",
   "execution_count": null,
   "id": "33b49ebb",
   "metadata": {
    "id": "33b49ebb",
    "outputId": "fbf63d8c-f7cb-47e0-b018-d48495dc06f9"
   },
   "outputs": [],
   "source": [
    "reason_for_nps_score_json = json.dumps([{\"ID\": id, \"review\": review, \"label\": label, \"polarity_score\": polarity_score, \"nps_score\": nps_score, \"nps_label\": nps_label, \"date\": date, \"clinic\": clinic, \"city\": city, \"state\": state} for id,review,label,polarity_score,nps_score,nps_label,date,clinic,city,state in zip(reason_for_nps_score_reviews['ID'], reason_for_nps_score_reviews['reviews'], reason_for_nps_score_reviews['sentiment_label'], reason_for_nps_score_reviews['polarity_score'], reason_for_nps_score_reviews['NPS'], reason_for_nps_score_reviews['nps_label'], reason_for_nps_score_reviews['date'], reason_for_nps_score_reviews['clinic'], reason_for_nps_score_reviews['city'], reason_for_nps_score_reviews['state'])])\n",
    "reason_for_nps_score_json"
   ]
  },
  {
   "cell_type": "code",
   "execution_count": null,
   "id": "5b97483c",
   "metadata": {
    "id": "5b97483c"
   },
   "outputs": [],
   "source": [
    "with open(\"reason_for_nps_score_reviews.json\", \"w\") as reason_for_nps_score_json_file:\n",
    "    reason_for_nps_score_json_file.write(reason_for_nps_score_json)\n",
    "reason_for_nps_score_json_file.close()"
   ]
  },
  {
   "cell_type": "code",
   "execution_count": null,
   "id": "c96cdb54",
   "metadata": {
    "id": "c96cdb54",
    "outputId": "d08fe2a7-c8c2-4395-cac1-267c74e7019c"
   },
   "outputs": [],
   "source": [
    "reason_for_nps_score_positive_length = len(reason_for_nps_score_positive)\n",
    "reason_for_nps_score_negative_length = len(reason_for_nps_score_negative)\n",
    "reason_for_nps_score_neutral_length = len(reason_for_nps_score_neutral)\n",
    "reason_for_nps_score_extreme_length = len(reason_for_nps_score_extreme)\n",
    "reason_for_nps_score_total_promoters = int(len(reason_for_nps_score_promoters))\n",
    "reason_for_nps_score_total_passive = int(len(reason_for_nps_score_passive))\n",
    "reason_for_nps_score_total_detractors = int(len(reason_for_nps_score_detractors))\n",
    "reason_for_nps_score_total_length = len(reason_for_nps_score_reviews)\n",
    "\n",
    "reason_for_nps_score_json_total = json.dumps([{\"total_positive\": reason_for_nps_score_positive_length, \"total_negative\": reason_for_nps_score_negative_length, \"total_neutral\": reason_for_nps_score_neutral_length, \"total_extreme\": reason_for_nps_score_extreme_length, \"total_promoters\": reason_for_nps_score_total_promoters, \"total_passive\": reason_for_nps_score_total_passive, \"total_detractors\": reason_for_nps_score_total_detractors, \"total_comments\": reason_for_nps_score_total_length}])\n",
    "reason_for_nps_score_json_total"
   ]
  },
  {
   "cell_type": "code",
   "execution_count": null,
   "id": "e892ebcb",
   "metadata": {
    "id": "e892ebcb"
   },
   "outputs": [],
   "source": [
    "with open(\"reason_for_nps_score_total_data.json\", \"w\") as reason_for_nps_score_total_file:\n",
    "    reason_for_nps_score_total_file.write(reason_for_nps_score_json_total)\n",
    "reason_for_nps_score_total_file.close()"
   ]
  },
  {
   "cell_type": "code",
   "execution_count": null,
   "id": "8ff447c9",
   "metadata": {
    "id": "8ff447c9",
    "outputId": "4d9edc4a-71de-4d8a-ff21-d3323bec69b0"
   },
   "outputs": [],
   "source": [
    "reason_for_nps_score_top_five_positive_json = json.dumps([{\"review\": review, \"label\": label, \"polarity_score\": polarity_score} for review,label,polarity_score in zip(reason_for_nps_score_top_positive['reviews'], reason_for_nps_score_top_positive['sentiment_label'], reason_for_nps_score_top_positive['polarity_score'])])\n",
    "reason_for_nps_score_top_five_positive_json"
   ]
  },
  {
   "cell_type": "code",
   "execution_count": null,
   "id": "2df2a01f",
   "metadata": {
    "id": "2df2a01f",
    "outputId": "475d5bc2-f2ee-48c3-a4f9-157b564e9051"
   },
   "outputs": [],
   "source": [
    "reason_for_nps_score_top_five_negative_json = json.dumps([{\"review\": review, \"label\": label, \"polarity_score\": polarity_score} for review,label,polarity_score in zip(reason_for_nps_score_top_negative['reviews'], reason_for_nps_score_top_negative['sentiment_label'], reason_for_nps_score_top_negative['polarity_score'])])\n",
    "reason_for_nps_score_top_five_negative_json"
   ]
  },
  {
   "cell_type": "code",
   "execution_count": null,
   "id": "eb6007ce",
   "metadata": {
    "id": "eb6007ce"
   },
   "outputs": [],
   "source": [
    "with open(\"reason_for_nps_score_top_five_positive.json\", \"w\") as reason_for_nps_score_top_positive_file:\n",
    "    reason_for_nps_score_top_positive_file.write(reason_for_nps_score_top_five_positive_json)\n",
    "reason_for_nps_score_top_positive_file.close()\n",
    "with open(\"reason_for_nps_score_top_five_negative.json\", \"w\") as reason_for_nps_score_top_negative_file:\n",
    "    reason_for_nps_score_top_negative_file.write(reason_for_nps_score_top_five_negative_json)\n",
    "reason_for_nps_score_top_negative_file.close()"
   ]
  },
  {
   "cell_type": "code",
   "execution_count": null,
   "id": "addcf082",
   "metadata": {
    "id": "addcf082",
    "outputId": "4d1edc9a-a506-4323-e856-17ea5d92d454"
   },
   "outputs": [],
   "source": [
    "reason_for_nps_score_positive_json = json.dumps([{\"ID\": id, \"review\": review, \"label\": label, \"polarity_score\": polarity_score, \"nps_score\": nps_score, \"nps_label\": nps_label, \"date\": date, \"clinic\": clinic, \"city\": city, \"state\": state} for id,review,label,polarity_score,nps_score,nps_label,date,clinic,city,state in zip(reason_for_nps_score_positive['ID'], reason_for_nps_score_positive['reviews'], reason_for_nps_score_positive['sentiment_label'], reason_for_nps_score_positive['polarity_score'], reason_for_nps_score_positive['NPS'], reason_for_nps_score_positive['nps_label'], reason_for_nps_score_positive['date'], reason_for_nps_score_positive['clinic'], reason_for_nps_score_positive['city'], reason_for_nps_score_positive['state'])])\n",
    "reason_for_nps_score_positive_json"
   ]
  },
  {
   "cell_type": "code",
   "execution_count": null,
   "id": "39600f99",
   "metadata": {
    "id": "39600f99"
   },
   "outputs": [],
   "source": [
    "with open(\"reason_for_nps_score_positive.json\", \"w\") as reason_for_nps_score_positive_file:\n",
    "    reason_for_nps_score_positive_file.write(reason_for_nps_score_positive_json)\n",
    "reason_for_nps_score_positive_file.close()"
   ]
  },
  {
   "cell_type": "code",
   "execution_count": null,
   "id": "2d239236",
   "metadata": {
    "id": "2d239236",
    "outputId": "3432cd34-1350-44eb-aeff-c81dbccb8c55"
   },
   "outputs": [],
   "source": [
    "reason_for_nps_score_negative_json = json.dumps([{\"ID\": id, \"review\": review, \"label\": label, \"polarity_score\": polarity_score, \"nps_score\": nps_score, \"nps_label\": nps_label, \"date\": date, \"clinic\": clinic, \"city\": city, \"state\": state} for id,review,label,polarity_score,nps_score,nps_label,date,clinic,city,state in zip(reason_for_nps_score_negative['ID'], reason_for_nps_score_negative['reviews'], reason_for_nps_score_negative['sentiment_label'], reason_for_nps_score_negative['polarity_score'], reason_for_nps_score_negative['NPS'], reason_for_nps_score_negative['nps_label'], reason_for_nps_score_negative['date'], reason_for_nps_score_negative['clinic'], reason_for_nps_score_negative['city'], reason_for_nps_score_negative['state'])])\n",
    "reason_for_nps_score_negative_json"
   ]
  },
  {
   "cell_type": "code",
   "execution_count": null,
   "id": "b8cd9c10",
   "metadata": {
    "id": "b8cd9c10"
   },
   "outputs": [],
   "source": [
    "with open(\"reason_for_nps_score_negative.json\", \"w\") as reason_for_nps_score_negative_file:\n",
    "    reason_for_nps_score_negative_file.write(reason_for_nps_score_negative_json)\n",
    "reason_for_nps_score_negative_file.close()"
   ]
  },
  {
   "cell_type": "code",
   "execution_count": null,
   "id": "83705ba3",
   "metadata": {
    "id": "83705ba3",
    "outputId": "b97bd143-4669-4961-8207-5aa9b8b16de6"
   },
   "outputs": [],
   "source": [
    "reason_for_nps_score_neutral_json = json.dumps([{\"ID\": id, \"review\": review, \"label\": label, \"polarity_score\": polarity_score, \"nps_score\": nps_score, \"nps_label\": nps_label, \"date\": date, \"clinic\": clinic, \"city\": city, \"state\": state} for id,review,label,polarity_score,nps_score,nps_label,date,clinic,city,state in zip(reason_for_nps_score_neutral['ID'], reason_for_nps_score_neutral['reviews'], reason_for_nps_score_neutral['sentiment_label'], reason_for_nps_score_neutral['polarity_score'], reason_for_nps_score_neutral['NPS'], reason_for_nps_score_neutral['nps_label'], reason_for_nps_score_neutral['date'], reason_for_nps_score_neutral['clinic'], reason_for_nps_score_neutral['city'], reason_for_nps_score_neutral['state'])])\n",
    "reason_for_nps_score_neutral_json"
   ]
  },
  {
   "cell_type": "code",
   "execution_count": null,
   "id": "92cbb7d4",
   "metadata": {
    "id": "92cbb7d4"
   },
   "outputs": [],
   "source": [
    "with open(\"reason_for_nps_score_neutral.json\", \"w\") as reason_for_nps_score_neutral_file:\n",
    "    reason_for_nps_score_neutral_file.write(reason_for_nps_score_neutral_json)\n",
    "reason_for_nps_score_neutral_file.close()"
   ]
  },
  {
   "cell_type": "code",
   "execution_count": null,
   "id": "81f50d34",
   "metadata": {
    "id": "81f50d34",
    "outputId": "dbb3559c-13a2-4a08-803e-fb372651090a"
   },
   "outputs": [],
   "source": [
    "reason_for_nps_score_extreme_json = json.dumps([{\"ID\": id, \"review\": review, \"label\": label, \"polarity_score\": polarity_score, \"nps_score\": nps_score, \"nps_label\": nps_label, \"date\": date, \"clinic\": clinic, \"city\": city, \"state\": state} for id,review,label,polarity_score,nps_score,nps_label,date,clinic,city,state in zip(reason_for_nps_score_extreme['ID'], reason_for_nps_score_extreme['reviews'], reason_for_nps_score_extreme['sentiment_label'], reason_for_nps_score_extreme['polarity_score'], reason_for_nps_score_extreme['NPS'], reason_for_nps_score_extreme['nps_label'], reason_for_nps_score_extreme['date'], reason_for_nps_score_extreme['clinic'], reason_for_nps_score_extreme['city'], reason_for_nps_score_extreme['state'])])\n",
    "reason_for_nps_score_extreme_json"
   ]
  },
  {
   "cell_type": "code",
   "execution_count": null,
   "id": "751a4b64",
   "metadata": {
    "id": "751a4b64"
   },
   "outputs": [],
   "source": [
    "with open(\"reason_for_nps_score_extreme.json\", \"w\") as reason_for_nps_score_extreme_file:\n",
    "    reason_for_nps_score_extreme_file.write(reason_for_nps_score_extreme_json)\n",
    "reason_for_nps_score_extreme_file.close()"
   ]
  },
  {
   "cell_type": "code",
   "execution_count": null,
   "id": "b5775d20",
   "metadata": {
    "id": "b5775d20",
    "outputId": "1088cec6-c654-4a7a-97e8-3d2565d30431"
   },
   "outputs": [],
   "source": [
    "# Creating a histogram to show postive, negative, and neutral sentiment distribution\n",
    "figure = pl.histogram(reason_for_nps_score_reviews, x=\"sentiment_label\")\n",
    "figure.update_traces(marker_color=\"indianred\",marker_line_color='yellow',marker_line_width=2.0)\n",
    "figure.update_layout(title_text='Feedback Sentiment Analysis')\n",
    "figure.show()"
   ]
  },
  {
   "cell_type": "code",
   "execution_count": null,
   "id": "976898d1",
   "metadata": {
    "id": "976898d1",
    "outputId": "7f20b0d5-cfea-4cdf-ed6a-af2c31ed195a"
   },
   "outputs": [],
   "source": [
    "# Creating a histogram to show postive, negative, and neutral sentiment distribution\n",
    "figure = pl.histogram(reason_for_nps_score_reviews, x=\"nps_label\")\n",
    "figure.update_traces(marker_color=\"indianred\",marker_line_color='yellow',marker_line_width=2.0)\n",
    "figure.update_layout(title_text='Feedback Sentiment Analysis - NPS Label')\n",
    "figure.show()"
   ]
  },
  {
   "cell_type": "markdown",
   "id": "258b8c06",
   "metadata": {
    "id": "258b8c06"
   },
   "source": [
    "### 2.4 Extracting Positive Reviews"
   ]
  },
  {
   "cell_type": "code",
   "execution_count": null,
   "id": "f64a0737",
   "metadata": {
    "id": "f64a0737",
    "outputId": "8a02e3b3-933b-4b39-eb90-f96a2d3fc775"
   },
   "outputs": [],
   "source": [
    "data_satisfied = data[['ID','MEMBER_ID','POSITIVEREVIEWS','NPS','SURVEYDATE','SURVEYCLINIC','CLINICCITY','CLINICSTATE']]\n",
    "data_satisfied = data_satisfied[data_satisfied['POSITIVEREVIEWS'] != 'No Response']\n",
    "data_satisfied.rename({'POSITIVEREVIEWS': 'reviews'}, axis=1, inplace=True)\n",
    "data_satisfied.rename({'SURVEYDATE': 'date'}, axis=1, inplace=True)\n",
    "data_satisfied.rename({'SURVEYCLINIC': 'clinic'}, axis=1, inplace=True)\n",
    "data_satisfied.rename({'CLINICCITY': 'city'}, axis=1, inplace=True)\n",
    "data_satisfied.rename({'CLINICSTATE': 'state'}, axis=1, inplace=True)\n",
    "remove_punctuations_satisfied = data_satisfied[['reviews']]\n",
    "remove_punctuations_satisfied.replace(\"[^a-zA-Z]\",\" \",regex=True, inplace=True)\n",
    "data_satisfied[['reviews']] = remove_punctuations_satisfied[['reviews']]\n",
    "\n",
    "data_satisfied = data_satisfied.reset_index(drop=True)\n",
    "data_satisfied"
   ]
  },
  {
   "cell_type": "code",
   "execution_count": null,
   "id": "2343d555",
   "metadata": {
    "id": "2343d555"
   },
   "outputs": [],
   "source": [
    "satisfied_reviews = data_satisfied"
   ]
  },
  {
   "cell_type": "code",
   "execution_count": null,
   "id": "f943b19c",
   "metadata": {
    "id": "f943b19c",
    "outputId": "f10e2bf6-b662-4a1d-a568-679219e00e9d"
   },
   "outputs": [],
   "source": [
    "satisfied_reviews.isna().sum() # Counting the number of missing values"
   ]
  },
  {
   "cell_type": "code",
   "execution_count": null,
   "id": "2e789f56",
   "metadata": {
    "id": "2e789f56",
    "outputId": "51d56bb1-6b20-4cec-e90f-6a7ae80d0601"
   },
   "outputs": [],
   "source": [
    "# Removing missing values\n",
    "satisfied_reviews = satisfied_reviews.dropna()\n",
    "satisfied_reviews.isna().sum()"
   ]
  },
  {
   "cell_type": "code",
   "execution_count": null,
   "id": "76cb39dd",
   "metadata": {
    "id": "76cb39dd",
    "outputId": "7f3d72ed-d23e-49e0-a90c-79ad077d3855"
   },
   "outputs": [],
   "source": [
    "satisfied_contractions = satisfied_reviews[satisfied_reviews['reviews'].str.contains(r'can\\'t|won\\'t|isn\\'t|doesn\\'t|didn\\'t|don\\'t|haven\\'t|couldn\\'t|you\\'ll|I\\'ll|I\\'ve|I\\'m|it\\'ll|it\\'s|could\\'ve|would\\'ve|hadn\\'t|hasn\\'t|should\\'ve|shouldn\\'t|must\\'ve|who\\'s|they\\'re|they\\'ll|they\\'ve|that\\'s|there\\'s')].value_counts().sum()\n",
    "satisfied_contractions"
   ]
  },
  {
   "cell_type": "code",
   "execution_count": null,
   "id": "d9aec57e",
   "metadata": {
    "id": "d9aec57e",
    "outputId": "aad8bfcf-2fb4-4aa5-f7bc-b13714603889"
   },
   "outputs": [],
   "source": [
    "# Converting reviews to lower case\n",
    "satisfied_lower = satisfied_reviews[['reviews']]\n",
    "satisfied_reviews['reviews'] = satisfied_lower.applymap(str.lower)\n",
    "satisfied_reviews"
   ]
  },
  {
   "cell_type": "code",
   "execution_count": null,
   "id": "3969131e",
   "metadata": {
    "id": "3969131e",
    "outputId": "de43ab75-6f45-4960-f345-fd2f41f06bfd"
   },
   "outputs": [],
   "source": [
    "# Creating tokens\n",
    "satisfied_token_list = []\n",
    "\n",
    "for each in satisfied_reviews['reviews']:\n",
    "    token = word_tokenize(each)\n",
    "    satisfied_token_list.append(token)\n",
    "satisfied_token_list"
   ]
  },
  {
   "cell_type": "code",
   "execution_count": null,
   "id": "34bbb819",
   "metadata": {
    "id": "34bbb819",
    "outputId": "e2749992-49f6-4708-ec84-01438cc37e72"
   },
   "outputs": [],
   "source": [
    "# Creating a new dataframe to show reviews and tokens side by side\n",
    "satisfied_reviews['tokens'] = satisfied_token_list\n",
    "satisfied_reviews"
   ]
  },
  {
   "cell_type": "code",
   "execution_count": null,
   "id": "fcbdac36",
   "metadata": {
    "id": "fcbdac36",
    "outputId": "1205c533-a5cd-4730-b65d-a2c402d041dc"
   },
   "outputs": [],
   "source": [
    "# Finding token frequency and appending the result into a list\n",
    "satisfied_frequency_list = []\n",
    "\n",
    "for each in satisfied_token_list:\n",
    "    fdist = FreqDist(each)\n",
    "    satisfied_frequency_list.append(fdist)\n",
    "\n",
    "# Plotting 15 records of tokens groups according to their frequency\n",
    "for each in range(15):\n",
    "    satisfied_frequency_list[each].plot(30,cumulative=False)\n",
    "    plt.show()"
   ]
  },
  {
   "cell_type": "code",
   "execution_count": null,
   "id": "173cf092",
   "metadata": {
    "id": "173cf092",
    "outputId": "7ec3827a-2c89-49a8-98b9-3ba3d48476dc"
   },
   "outputs": [],
   "source": [
    "# Displaying most common tokens\n",
    "fdist.most_common(4)"
   ]
  },
  {
   "cell_type": "code",
   "execution_count": null,
   "id": "6a2daadd",
   "metadata": {
    "id": "6a2daadd",
    "outputId": "81af05d4-e486-47c2-da43-6790d5d0781f"
   },
   "outputs": [],
   "source": [
    "# Converting each token to lower case and removing it if it is present in the stopwords list\n",
    "satisfied_tokens_without_stopwords = []\n",
    "stopwords_set = set(stopwords.words('english'))\n",
    "for token in satisfied_reviews.tokens:\n",
    "    word = [term.lower() for term in token if term.lower() not in stopwords_set]\n",
    "    satisfied_tokens_without_stopwords.append(word)\n",
    "    \n",
    "# Creating a new dataframe to show reviews, tokens, and stemmed tokens side by side\n",
    "satisfied_reviews['tokens_without_stopwords'] = satisfied_tokens_without_stopwords\n",
    "satisfied_reviews"
   ]
  },
  {
   "cell_type": "code",
   "execution_count": null,
   "id": "dcc835d1",
   "metadata": {
    "id": "dcc835d1",
    "outputId": "b3f03349-f372-41d0-8648-098b755553d6"
   },
   "outputs": [],
   "source": [
    "# Visualizing tokens a word cloud with a maximum limit of 100\n",
    "feedbacks = \" \".join(review for review in satisfied_reviews.reviews)\n",
    "satisfied_wordcloud = WordCloud(stopwords=stopwords_set, collocations = False, background_color = 'white', width = 4000,height = 3000).generate(feedbacks)\n",
    "fig=plt.figure(figsize=(15, 10))\n",
    "plt.imshow(satisfied_wordcloud, interpolation='bilinear')\n",
    "plt.axis(\"off\")\n",
    "plt.title('What Went Well Wordcloud - Tokens')\n",
    "plt.show()"
   ]
  },
  {
   "cell_type": "code",
   "execution_count": null,
   "id": "cd2de17b",
   "metadata": {
    "id": "cd2de17b",
    "outputId": "fea7a6d4-7781-4da0-dd37-7505bdc9eda4"
   },
   "outputs": [],
   "source": [
    "# Lemmatizing removes any noise present in a word as they are reduced to their root context (it is better than stemming)\n",
    "satisfied_tokens_after_lemmatizing = []\n",
    "\n",
    "lemmatizer = WordNetLemmatizer()\n",
    "\n",
    "for each in satisfied_tokens_without_stopwords:\n",
    "    lem = [lemmatizer.lemmatize(term) for term in each]\n",
    "    satisfied_tokens_after_lemmatizing.append(lem)\n",
    "\n",
    "# Creating a new dataframe to showing the new data side by side with the previous one\n",
    "satisfied_reviews['fresh_tokens'] = satisfied_tokens_after_lemmatizing\n",
    "satisfied_reviews"
   ]
  },
  {
   "cell_type": "code",
   "execution_count": null,
   "id": "ac3ad9e7",
   "metadata": {
    "id": "ac3ad9e7",
    "outputId": "4dbdc147-f7db-463a-b04b-7f3ea468510c"
   },
   "outputs": [],
   "source": [
    "# Using pos tagging to figure out whether a token is verb, noun, etc\n",
    "satisfied_pos_tagged = [pos_tag(tokens) for tokens in satisfied_tokens_after_lemmatizing] \n",
    "satisfied_pos_tagged"
   ]
  },
  {
   "cell_type": "code",
   "execution_count": null,
   "id": "69739ba0",
   "metadata": {
    "id": "69739ba0",
    "outputId": "b7a32844-5a8f-4677-89ac-ed1bd15a2daa"
   },
   "outputs": [],
   "source": [
    "satisfied_reviews['feedback'] = satisfied_reviews['reviews']\n",
    "satisfied_reviews['feedback'] = satisfied_reviews['feedback'].apply(lambda v: nltk.pos_tag(nltk.word_tokenize(v)))\n",
    "\n",
    "satisfied_reviews['lemma'] = satisfied_reviews['feedback'].transform(lambda value: ' '.join([lemmatizer.lemmatize(a[0],pos=get_wordnet_pos(a[1])) if get_wordnet_pos(a[1]) else a[0] for a in value]))\n",
    "satisfied_reviews"
   ]
  },
  {
   "cell_type": "code",
   "execution_count": null,
   "id": "c0f470ca",
   "metadata": {
    "id": "c0f470ca",
    "outputId": "01c97d28-a69b-475f-ee00-924a9a454eb8"
   },
   "outputs": [],
   "source": [
    "# Finding polarity score for each feedback\n",
    "# It will show the polarity scores (positive, negative, neutral, and compound) for each feedback along with the feedback received\n",
    "# Polarity scores will then be inserted into a list which will be accessed later to compute sentiment scores\n",
    "satisfied_polarity_score_list = []\n",
    "\n",
    "for each in satisfied_reviews.reviews:\n",
    "    polarity_score = sia().polarity_scores(each)\n",
    "    polarity_score['label'] = each\n",
    "    satisfied_polarity_score_list.append(polarity_score)\n",
    "    print(polarity_score)"
   ]
  },
  {
   "cell_type": "code",
   "execution_count": null,
   "id": "30d89962",
   "metadata": {
    "id": "30d89962",
    "outputId": "4980f006-5fad-4ea7-e990-5e93d0a56415"
   },
   "outputs": [],
   "source": [
    "# Creating a new dataframe to showing the new data side by side with the previous one\n",
    "# We are only interested in the compunt score (aggregated score)\n",
    "satisfied_reviews['polarity_score'] = pd.DataFrame(satisfied_polarity_score_list)['compound']\n",
    "satisfied_reviews['positive_score'] = pd.DataFrame(satisfied_polarity_score_list)['pos']\n",
    "satisfied_reviews['negative_score'] = pd.DataFrame(satisfied_polarity_score_list)['neu']\n",
    "\n",
    "satisfied_reviews[['polarity_score']] = satisfied_reviews[['polarity_score']].fillna(0)\n",
    "satisfied_reviews[['positive_score']] = satisfied_reviews[['positive_score']].fillna(0)\n",
    "satisfied_reviews[['negative_score']] = satisfied_reviews[['negative_score']].fillna(0)\n",
    "satisfied_reviews"
   ]
  },
  {
   "cell_type": "code",
   "execution_count": null,
   "id": "62d5c32e",
   "metadata": {
    "id": "62d5c32e",
    "outputId": "40233bd9-bd9f-42e0-efbf-515c0a3ea598"
   },
   "outputs": [],
   "source": [
    "# Creating a new column which will contain sentiment scores based on the polarity score of each feedback\n",
    "satisfied_reviews['sentiment'] = satisfied_reviews.apply(sentiment, axis=1)\n",
    "satisfied_reviews['sentiment_label'] = satisfied_reviews.apply(sentiment_label, axis=1)\n",
    "satisfied_reviews.head(10)"
   ]
  },
  {
   "cell_type": "code",
   "execution_count": null,
   "id": "fe599032",
   "metadata": {
    "id": "fe599032",
    "outputId": "a5cf5854-49ed-4e85-cddd-78206c7bab79"
   },
   "outputs": [],
   "source": [
    "satisfied_reviews.loc[satisfied_reviews['reviews'].str.match('^(?=.*frustrated)|(?=.*angry)|(?=.*terrible)|(?=.*disrespectful)|(?=.*irresponsibly)|(?=.*irresponsible)|(?=.*improper)|(?=.*violate)|(?=.*violations)|(?=.*aren t worth)|(?=.*undress)|(?=.*didnt treat me)|(?=.*was horrible)|(?=kill)|(?=.*danger)|(?=.*dangerous)|(?=rough)|(?=.*upsetting)|(?=.*out of line)|(?=.*i felt uncomfortable)|(?=.*made me feel uncomfortable)|(?=.*i feel uncomfortable)|(?=.*was uncomfortable)|(?=.*i feel uncomfortable)|(?=.*made me feel uncomfortable)|(?=.*can t breathe)|(?=.*breast)|(?=.*was misdiagnosed)|(?=.*did not examine me)|(?=.*forced to participate)|(?=.*forced into it)'), 'sentiment'] = 2\n",
    "satisfied_reviews.loc[satisfied_reviews['reviews'].str.match('^(?=.*frustrated)|(?=.*angry)|(?=.*terrible)|(?=.*disrespectful)|(?=.*irresponsibly)|(?=.*irresponsible)|(?=.*improper)|(?=.*violate)|(?=.*violations)|(?=.*aren t worth)|(?=.*undress)|(?=.*didnt treat me)|(?=.*was horrible)|(?=kill)|(?=.*danger)|(?=.*dangerous)|(?=rough)|(?=.*upsetting)|(?=.*out of line)|(?=.*i felt uncomfortable)|(?=.*made me feel uncomfortable)|(?=.*i feel uncomfortable)|(?=.*was uncomfortable)|(?=.*i feel uncomfortable)|(?=.*made me feel uncomfortable)|(?=.*can t breathe)|(?=.*breast)|(?=.*was misdiagnosed)|(?=.*did not examine me)|(?=.*forced to participate)|(?=.*forced into it)'), 'sentiment_label'] = 'Extreme'\n",
    "satisfied_reviews.loc[(satisfied_reviews['polarity_score']>0) & (satisfied_reviews['sentiment_label']=='Extreme'), 'polarity_score']*=-1\n",
    "\n",
    "satisfied_reviews.loc[(satisfied_reviews['NPS']>=7) & (satisfied_reviews['sentiment_label']=='Negative'), 'sentiment']=1\n",
    "satisfied_reviews.loc[(satisfied_reviews['NPS']>=7) & (satisfied_reviews['sentiment_label']=='Negative'), 'sentiment_label']='Positive'\n",
    "satisfied_reviews.loc[(satisfied_reviews['NPS']>=7) & (satisfied_reviews['polarity_score']<0), 'polarity_score']*=-1\n",
    "\n",
    "satisfied_reviews.loc[satisfied_reviews['reviews'].str.contains('^(?=.*good)|(?=.*great)|(?=.*awesome)|(?=.*very much)|(?=.*friendly)|(?=.*appreciate)|(?=.*compassionate)|(?=.*went well)|(?=.*very thorough)|(?=.*assisted)|(?=.*easy)|(?=.*enjoyed)|(?=.*i like)|(?=.*i liked)|(?=.*nice)|(?=.*love)|(?=.*caring)|(?=.*impressed)|(?=.*knowledgeable)|(?=.*very comfortable)|(?=.*very professional)|(?=.*achieved)|(?=.*courteous)|(?=.*listen to what i had to say)|(?=.*right amount of time)|(?=.*on time)|(?=.*personable)|(?=.*efficient)|(?=.*fantastic)|(?=.*punctual)|(?=.*go over issues)|(?=.*got me in same day)|(?=.*all my concerns)|(?=.*everything)|(?=.*sat and talked)') & (satisfied_reviews['NPS']>=5), 'sentiment'] = 1\n",
    "satisfied_reviews.loc[satisfied_reviews['reviews'].str.contains('^(?=.*good)|(?=.*great)|(?=.*awesome)|(?=.*very much)|(?=.*friendly)|(?=.*appreciate)|(?=.*compassionate)|(?=.*went well)|(?=.*very thorough)|(?=.*assisted)|(?=.*easy)|(?=.*enjoyed)|(?=.*i like)|(?=.*i liked)|(?=.*nice)|(?=.*love)|(?=.*caring)|(?=.*impressed)|(?=.*knowledgeable)|(?=.*very comfortable)|(?=.*very professional)|(?=.*achieved)|(?=.*courteous)|(?=.*listen to what i had to say)|(?=.*right amount of time)|(?=.*on time)|(?=.*personable)|(?=.*efficient)|(?=.*fantastic)|(?=.*punctual)|(?=.*go over issues)|(?=.*got me in same day)|(?=.*all my concerns)|(?=.*everything)|(?=.*sat and talked)') & (satisfied_reviews['NPS']>=5), 'sentiment_label'] = 'Positive'\n",
    "satisfied_reviews.loc[(satisfied_reviews['polarity_score']<0) & (satisfied_reviews['sentiment_label']=='Positive'), 'polarity_score']*=-1\n",
    "#reason_for_nps_score_reviews.loc[(reason_for_nps_score_reviews['NPS']>=7) & (reason_for_nps_score_reviews['reviews'].str.contains('listen')) & (reason_for_nps_score_reviews['polarity_score']<0), 'polarity_score']*=-1\n",
    "#reason_for_nps_score_reviews.loc[(reason_for_nps_score_reviews['NPS']>=7) & (reason_for_nps_score_reviews['sentiment_label']=='Negative'), 'sentiment']=1\n",
    "#reason_for_nps_score_reviews.loc[(reason_for_nps_score_reviews['NPS']>=7) & (reason_for_nps_score_reviews['sentiment']==1), 'sentiment_label']='Positive'\n",
    "#reason_for_nps_score_reviews.loc[(reason_for_nps_score_reviews['polarity_score']<0) & (reason_for_nps_score_reviews['sentiment_label']=='Positive'), 'polarity_score']*=-1\n",
    "#reason_for_nps_score_reviews.loc[(reason_for_nps_score_reviews['polarity_score']==0) & (reason_for_nps_score_reviews['sentiment_label']=='Extreme'), 'polarity_score'] = 0\n",
    "satisfied_reviews"
   ]
  },
  {
   "cell_type": "code",
   "execution_count": null,
   "id": "59647a6b",
   "metadata": {
    "id": "59647a6b"
   },
   "outputs": [],
   "source": [
    "# Fixing polarity scores and related labels\n",
    "#satisfied_reviews.loc[satisfied_reviews['reviews'].str.contains('not sure|don t know'), 'sentiment'] = 0\n",
    "#satisfied_reviews.loc[satisfied_reviews['reviews'].str.contains('nothing') & (satisfied_reviews['NPS']<=4), 'sentiment'] = 0\n",
    "#satisfied_reviews.loc[satisfied_reviews['reviews'].str.contains('not sure|don t know'), 'sentiment_label'] = 'Neutral'\n",
    "#satisfied_reviews.loc[(satisfied_reviews['sentiment_label']=='Neutral') & (satisfied_reviews['sentiment']==0), 'polarity_score']=0\n",
    "#satisfied_reviews"
   ]
  },
  {
   "cell_type": "code",
   "execution_count": null,
   "id": "bTqMATs1z6WW",
   "metadata": {
    "id": "bTqMATs1z6WW"
   },
   "outputs": [],
   "source": [
    "satisfied_reviews.loc[satisfied_reviews['reviews'].str.contains('^(?=.*wasn t treated)|(?=.*not as caring)|(?=.*did not think)|(?=.*didn t think)|(?=.*did not get)|(?=.*didn t get)|(?=.*was rushed)|(?=.*seemed rushed)|(?=.*did not fix)|(?=.*didn t fix)|(?=.*didn t listen)|(?=.*did not listen)|(?=.*unprofessional)|(?=.*don t think)|(?=.*do not think)|(?=.*talked too much)|(?=.*took longer)|(?=.*didn t look)|(?=.*did not look)|(?=.*not being treated)|(?=.*confused)|(?=.*did not recognize)|(?=.*didn t recognize)|(?=.*do not like)|(?=.*don t like)|(?=.*wasn t greeted)|(?=.*was not greeted)|(?=.*need to improve)|(?=.*no solution)|(?=.*didn t understand)|(?=.*did not understand)|(?=.*unorganized)|(?=.*no follow up)|(?=.*doesn t seem)|(?=.*does not seem)|(?=.*would not call)|(?=.*wouldn t call)|(?=.*not answered)|(?=.*no answer)|(?=.*not near as caring)|(?=.*already expressed)') & (satisfied_reviews['NPS']<=4), 'sentiment'] = -1\n",
    "satisfied_reviews.loc[satisfied_reviews['reviews'].str.contains('^(?=.*wasn t treated)|(?=.*not as caring)|(?=.*did not think)|(?=.*didn t think)|(?=.*did not get)|(?=.*didn t get)|(?=.*was rushed)|(?=.*seemed rushed)|(?=.*did not fix)|(?=.*didn t fix)|(?=.*didn t listen)|(?=.*did not listen)|(?=.*unprofessional)|(?=.*don t think)|(?=.*do not think)|(?=.*talked too much)|(?=.*took longer)|(?=.*didn t look)|(?=.*did not look)|(?=.*not being treated)|(?=.*confused)|(?=.*did not recognize)|(?=.*didn t recognize)|(?=.*do not like)|(?=.*don t like)|(?=.*wasn t greeted)|(?=.*was not greeted)|(?=.*need to improve)|(?=.*no solution)|(?=.*didn t understand)|(?=.*did not understand)|(?=.*unorganized)|(?=.*no follow up)|(?=.*doesn t seem)|(?=.*does not seem)|(?=.*would not call)|(?=.*wouldn t call)|(?=.*not answered)|(?=.*no answer)|(?=.*not near as caring)|(?=.*already expressed)') & (satisfied_reviews['NPS']<=4), 'sentiment_label'] = 'Negative'\n",
    "satisfied_reviews.loc[satisfied_reviews['reviews'].str.contains('^(?=.*wasn t treated)|(?=.*not as caring)|(?=.*did not think)|(?=.*didn t think)|(?=.*did not get)|(?=.*didn t get)|(?=.*was rushed)|(?=.*seemed rushed)|(?=.*did not fix)|(?=.*didn t fix)|(?=.*didn t listen)|(?=.*did not listen)|(?=.*unprofessional)|(?=.*don t think)|(?=.*do not think)|(?=.*talked too much)|(?=.*took longer)|(?=.*didn t look)|(?=.*did not look)|(?=.*not being treated)|(?=.*confused)|(?=.*did not recognize)|(?=.*didn t recognize)|(?=.*do not like)|(?=.*don t like)|(?=.*wasn t greeted)|(?=.*was not greeted)|(?=.*need to improve)|(?=.*no solution)|(?=.*didn t understand)|(?=.*did not understand)|(?=.*unorganized)|(?=.*no follow up)|(?=.*doesn t seem)|(?=.*does not seem)|(?=.*would not call)|(?=.*wouldn t call)|(?=.*not answered)|(?=.*no answer)|(?=.*not near as caring)|(?=.*already expressed)|(?=.*dirty)|(?=.*don t have resources)|(?=.*dont lie)|(?=.*give proper)|(?=.*not treating)|(?=.*worthless)|(?=.*doesn t look well)|(?=.*don t get)|(?=.*way to long)|(?=.*not willing)|(?=.*no examination)|(?=.*failed)|(?=.*didn t follow up)|(?=.*doesn t follow up)|(?=.*was cold)|(?=.*little compassion)|(?=.*inexperienced)|(?=.*didn t even)|(?=.*needs to be cleaned)|(?=.*forgot to call)|(?=.*did not hear)|(?=.*superficial)|(?=.*afraid to touch)|(?=.*did not trust)|(?=.*far too long)|(?=.*don t have any resources)|(?=.*not happy)|(?=.*made me wait)|(?=.*awful)|(?=.*dirty)|(?=.*nobody grteeted)|(?=.*won t call)|(?=.*did not work)|(?=.*entire problem was)|(?=.*didn t even acknowledge)|(?=.*doesn t care)|(?=.*incompetent)|(?=.*not knowledgeable)|(?=.*didn t make appointment right)|(?=.*should not have)|(?=.*had to wait awhile)|(?=.*way too long)|(?=.*frustrating)|(?=.*they don t do)|(?=.*than the person you have hired)|(?=.*wasn t very clean)|(?=.*made me very sick)|(?=.*we were told)|(?=.*what is going on)|(?=.*don t recommend)|(?=.*only thing they cared about)|(?=.*did not seem to care)|(?=.*pretty disappointed)|(?=.*mess up my medicine)|(?=.*very demeaning)|(?=.*unfriendly)|(?=.*very disappointed)|(?=.*didn t have any good)|(?=.*wasn t much true interest)|(?=.*not acceptable)|(?=.*does not listen)|(?=.*did not listen)|(?=.*would not refill)|(?=.*not happening)|(?=.*not great)|(?=.*new very little)|(?=.*to long of a time)|(?=.*poor instructions)|(?=.*poor service)|(?=.*was charged an excessive amount)|(?=.*thrilled i was able)|(?=.*little slow)'), 'sentiment'] = -1\n",
    "satisfied_reviews.loc[satisfied_reviews['reviews'].str.contains('^(?=.*wasn t treated)|(?=.*not as caring)|(?=.*did not think)|(?=.*didn t think)|(?=.*did not get)|(?=.*didn t get)|(?=.*was rushed)|(?=.*seemed rushed)|(?=.*did not fix)|(?=.*didn t fix)|(?=.*didn t listen)|(?=.*did not listen)|(?=.*unprofessional)|(?=.*don t think)|(?=.*do not think)|(?=.*talked too much)|(?=.*took longer)|(?=.*didn t look)|(?=.*did not look)|(?=.*not being treated)|(?=.*confused)|(?=.*did not recognize)|(?=.*didn t recognize)|(?=.*do not like)|(?=.*don t like)|(?=.*wasn t greeted)|(?=.*was not greeted)|(?=.*need to improve)|(?=.*no solution)|(?=.*didn t understand)|(?=.*did not understand)|(?=.*unorganized)|(?=.*no follow up)|(?=.*doesn t seem)|(?=.*does not seem)|(?=.*would not call)|(?=.*wouldn t call)|(?=.*not answered)|(?=.*no answer)|(?=.*not near as caring)|(?=.*already expressed)|(?=.*dirty)|(?=.*don t have resources)|(?=.*dont lie)|(?=.*give proper)|(?=.*not treating)|(?=.*worthless)|(?=.*doesn t look well)|(?=.*don t get)|(?=.*way to long)|(?=.*not willing)|(?=.*no examination)|(?=.*failed)|(?=.*didn t follow up)|(?=.*doesn t follow up)|(?=.*was cold)|(?=.*little compassion)|(?=.*inexperienced)|(?=.*didn t even)|(?=.*needs to be cleaned)|(?=.*forgot to call)|(?=.*did not hear)|(?=.*superficial)|(?=.*afraid to touch)|(?=.*did not trust)|(?=.*far too long)|(?=.*don t have any resources)|(?=.*not happy)|(?=.*made me wait)|(?=.*awful)|(?=.*dirty)|(?=.*nobody grteeted)|(?=.*won t call)|(?=.*did not work)|(?=.*entire problem was)|(?=.*didn t even acknowledge)|(?=.*doesn t care)|(?=.*incompetent)|(?=.*not knowledgeable)|(?=.*didn t make appointment right)|(?=.*should not have)|(?=.*had to wait awhile)|(?=.*way too long)|(?=.*frustrating)|(?=.*they don t do)|(?=.*than the person you have hired)|(?=.*wasn t very clean)|(?=.*made me very sick)|(?=.*we were told)|(?=.*what is going on)|(?=.*don t recommend)|(?=.*only thing they cared about)|(?=.*did not seem to care)|(?=.*pretty disappointed)|(?=.*mess up my medicine)|(?=.*very demeaning)|(?=.*unfriendly)|(?=.*very disappointed)|(?=.*didn t have any good)|(?=.*wasn t much true interest)|(?=.*not acceptable)|(?=.*does not listen)|(?=.*did not listen)|(?=.*would not refill)|(?=.*not happening)|(?=.*not great)|(?=.*new very little)|(?=.*to long of a time)|(?=.*poor instructions)|(?=.*poor service)|(?=.*was charged an excessive amount)|(?=.*thrilled i was able)|(?=.*little slow)'), 'sentiment_label'] = 'Negative'\n",
    "satisfied_reviews.loc[(satisfied_reviews['polarity_score']>0) & (satisfied_reviews['sentiment_label']=='Negative'), 'polarity_score']*=-1"
   ]
  },
  {
   "cell_type": "code",
   "execution_count": null,
   "id": "3s5tSCj5z6WX",
   "metadata": {
    "id": "3s5tSCj5z6WX"
   },
   "outputs": [],
   "source": [
    "satisfied_reviews.loc[satisfied_reviews['reviews'].str.contains('^(?=.*amazing)|(?=.*can t think of anything)|(?=.*completely satisfied)|(?=.*no complaints)|(?=.*perfect)|(?=.*was fine)|(?=.*was nice)|(?=.*very happy)|(?=.*well communication)|(?=.*enough time with me)|(?=.*not a single thing)|(?=.*couldn t ask for anything more)|(?=.*very satisfied)|(?=.*nothing to say)|(?=.*nothing to report)|(?=.*very pleasant)|(?=.*was well)|(?=.*completely happy)|(?=.*was pleased)|(?=.*all employees use)|(?=.*super nice)|(?=.*never had a doctor spend)|(?=.*very pleased)|(?=.*it was okay)|(?=.*was quick)|(?=.*convenient high quality)|(?=.*very welcoming)|(?=.*provide great care)|(?=.*very nice)|(?=.*treat you like family)|(?=.*always on time)|(?=.*very helpful)|(?=.*i am fortunate)|(?=.*best coarse of action)|(?=.*very convenient)|(?=.*i iike the doctor)|(?=.*great service)|(?=.*wasn t too long)|(?=.*extremely convenient)|(?=.*service is good)|(?=.*i like being able to)|(?=.*overall i liked)|(?=.*paladinas the city s health)|(?=.*i enjoy the convenience)|(?=.*respect for my time)|(?=.*was easy to schedule)|(?=.*short waiting times)|(?=.*no waiting time)|(?=.*no hassle)|(?=.*very friendly)|(?=.*answered all my questions)|(?=.*very professional)|(?=.*so far so good)|(?=.*always seen on time)|(?=.*never feel rushed)|(?=.*friendly  timely)|(?=.*fast service)|(?=.*very accommodating)|(?=.*pleasent experience   nice staff)|(?=.*helpful and financially beneficial)|(?=.*ease of appointments)|(?=.*has a genuine concern)|(?=.*you feel that you are being heard)|(?=.*quick  affordable)|(?=.*convenient  fast  professional)|(?=.*excellent  thorough providers)|(?=.*very detailed check up)|(?=.*were kind)|(?=.*high quality of care)|(?=.*doctor listened to patient)|(?=.*doing a better job)|(?=.*ease of making an appointment)|(?=.*are just wonderful)|(?=.*very attentive)|(?=.*no wait times)|(?=.*felt comfortable)|(?=.*treated like a human a)|(?=.*felt welcoming)|(?=.*i am satisfied)|(?=.*quality of care and time)|(?=.*i enjoy)|(?=.*quick scheduling)|(?=.*was vey kind)|(?=.*was very kind)|(?=.*it was helpful)|(?=.*pretty thorough)|(?=.*was really thorough)|(?=.*listened to my concerns)|(?=.*listened to what i had to say)|(?=.*listened to all concerns)|(?=.*very responsive)|(?=.*very informative)|(?=.*cared about my well being)|(?=.*i feel welcomed)|(?=.*made me feel important)|(?=.*made me feel better)|(?=.*was very productive)|(?=.*gave me a lot of information)|(?=.*timely and kind)|(?=.*positive experience)|(?=.*personalized care)|(?=.*thank you)|(?=.*with professional courtesy)|(?=.*very positive environment)|(?=.*were wonderful)|(?=.*was thorough)|(?=.*non judgemental)|(?=.*very receptive)|(?=.*did not seem rushed)|(?=.*asked thorough questions)|(?=.* i felt confident)|(?=.*very little wait time)|(?=.*felt like an actual patient)|(?=.*she really cares)|(?=.*he really cares)|(?=.*treated me like a person)|(?=.*listened carefully and thoughtfully)|(?=.*was responsive)|(?=.*explained things really well)|(?=.*met me with respect)|(?=.*listened to my feedback)|(?=.*i felt heard)|(?=.*went very well)|(?=.*quick and thorough)|(?=.*made me comfortable)|(?=.*was explained in detail)|(?=.*kind and listened)|(?=.*got me in earlier)|(?=.*outstanding service)|(?=.*listened to my needs)|(?=.*very well prepared)|(?=.*i was welcomed)|(?=.*listened  welcoming)|(?=.*most important patient)|(?=.*spent a tremendous amount of time)|(?=.*very kind and polite)|(?=.*pleasant and thorough)|(?=.*pleasant and helpful)|(?=.*very prompt)|(?=.*very timely)|(?=.*asked good questions)|(?=.*is the best)|(?=.*pleasant and professional)|(?=.*was understanding)|(?=.*felt welcome and listened)|(?=.*everything went well)|(?=.*was pleasant)|(?=.*staff greeted me)|(?=.*everyone is sincere)|(?=.*polite and helpful)|(?=.*interactive and listened)|(?=.*found answers to my questions)|(?=.*kind and considerate)|(?=.*listened and responded)|(?=.*easy to schedule)|(?=.*always listen to my concerns)|(?=.*were professional)|(?=.*satisfied my needs)|(?=.*i was important)|(?=.*did not rush me)|(?=.*were addressed)|(?=.*was very respectful)|(?=.*didn t feel rushed)|(?=.*ease and timeliness)|(?=.*very patient and attentive)|(?=.*made sure i understood)|(?=.*took time to explain)|(?=.*very personal and understanding)|(?=.*very honest)|(?=.*very cared)|(?=.*always prepared)|(?=.*well cared)|(?=.*best dr visit)|(?=.*did not feel rushed)|(?=.*very quick)|(?=.*is a pleasure)|(?=.*patient centered)|(?=.*doctor really cares)|(?=.*spent as much time)|(?=.*expressed interested in me)|(?=.*took time to really talk)|(?=.*helped me with my issues)|(?=.*was incredibly calm)|(?=.*very warmly)|(?=.*listened to me first)|(?=.*without any wait time)|(?=.*always quick)|(?=.*was organized)|(?=.*very kind)|(?=.*i was able to make an appointment)|(?=.*helped clear up mysteries)|(?=.*was exceptional)|(?=.*we did not have to wait)|(?=.*i really like)|(?=.*made a personal connection)|(?=.*spent time in reviewing)|(?=.*spent quality time)|(?=.*gave me the information i needed)|(?=.*very personal)|(?=.*did not rush)|(?=.*have time to deal)|(?=.*was extremely thorough)|(?=.*has really helped)|(?=.*extra care was taken)|(?=.*took extra care)|(?=.*showed an interest)|(?=.*care and compassion)|(?=.*took his time)|(?=.*is nice  and caring)|(?=.*took the time to explain)|(?=.*talked to me and listened)|(?=.*made the patient feel comfortable)|(?=.*addressed the issue)|(?=.*listen and spent time)|(?=.*took her time with me)|(?=.*addressed my issue)|(?=.*i am so pleased)|(?=.*took the time to listen)|(?=.*i felt important  like a person)|(?=.*concise and responsive)|(?=.*didn t wait long)|(?=.*helped me understand)|(?=.*very well)|(?=.*very personal service)|(?=.*they followed the guidelines)|(?=.*started in a timely)|(?=.*was wonderful)|(?=.*very thoughtful)|(?=.*was genuinely interested)|(?=.*ran smoothly)|(?=.*i felt my concerns were important)|(?=.*assist was great)|(?=.*welcoming staff)|(?=.*they were very interested)|(?=.*i am treated)|(?=.*was treated with respect)|(?=.*can recommend to co workers)|(?=.*is wonderful)|(?=.*is great)|(?=.*got one  same day)|(?=.*nothing was rushed)|(?=.*got me in and out)|(?=.*very caring)|(?=.*was awesome)|(?=.*received a very in depth review)|(?=.*quick in and out)|(?=.*in a timely manner)|(?=.*very warm   friendly)|(?=.*courteous and professional)|(?=.*was very courteous)|(?=.*always so great)|(?=.*was awesome)|(?=.*seen by doctor and have)|(?=.*things were on time)|(?=.*established care  listened to my issues)|(?=.*clearly reviewed my information)|(?=.*everything was done well)|(?=.*i didn t even wait)|(?=.*was so friendly)|(?=.*took your time to take care)|(?=.*which is great)|(?=.*they are so nice)|(?=.*doctor discussed my concerns)|(?=.*staff was friendly)|(?=.*they make me feel welcome)|(?=.*was friendly)|(?=.*greeted me warmly)|(?=.*provider spent time asking questions)|(?=.*spoke about all of my concerns)|(?=.*no long waiting times)|(?=.*very personable)|(?=.*so smooth)|(?=.*down to earth)|(?=.*spent a lot of time with me)|(?=.*were so attentive)|(?=.*was caring)|(?=.*was gentle)|(?=.*was incredibly caring)|(?=.*was treated great)|(?=.*i m comfortable)|(?=.* helped me to understand)|(?=.*does a great job)|(?=.*is so kind)|(?=.*made me feel comfortable)|(?=.*i was being listened)|(?=.*i was greeted)|(?=.*when she took blood it was fast)|(?=.*didn t get pushy)|(?=.*gave me an accurate diagnosis)|(?=.*explain things that i didn t understand)|(?=.*is professional)|(?=.*willing to take the time with you)|(?=.*nice staff and everyone listened)|(?=.*took the time to answer)|(?=.*is friendly and listens)|(?=.*were able to get me in quickly)|(?=.*was fabulous)|(?=.*took the time to make me comfortable)|(?=.*she listened to)|(?=.*they were so caring)|(?=.*they were thorough)|(?=.*never felt that i was rushed)|(?=.*was extremely personable)|(?=.*is very patient and caring)|(?=.*is awesome)'), 'sentiment'] = 1\n",
    "satisfied_reviews.loc[satisfied_reviews['reviews'].str.contains('^(?=.*amazing)|(?=.*can t think of anything)|(?=.*completely satisfied)|(?=.*no complaints)|(?=.*perfect)|(?=.*was fine)|(?=.*was nice)|(?=.*very happy)|(?=.*well communication)|(?=.*enough time with me)|(?=.*not a single thing)|(?=.*couldn t ask for anything more)|(?=.*very satisfied)|(?=.*nothing to say)|(?=.*nothing to report)|(?=.*very pleasant)|(?=.*was well)|(?=.*completely happy)|(?=.*was pleased)|(?=.*all employees use)|(?=.*super nice)|(?=.*never had a doctor spend)|(?=.*very pleased)|(?=.*it was okay)|(?=.*was quick)|(?=.*convenient high quality)|(?=.*very welcoming)|(?=.*provide great care)|(?=.*very nice)|(?=.*treat you like family)|(?=.*always on time)|(?=.*very helpful)|(?=.*i am fortunate)|(?=.*best coarse of action)|(?=.*very convenient)|(?=.*i iike the doctor)|(?=.*great service)|(?=.*wasn t too long)|(?=.*extremely convenient)|(?=.*service is good)|(?=.*i like being able to)|(?=.*overall i liked)|(?=.*paladinas the city s health)|(?=.*i enjoy the convenience)|(?=.*respect for my time)|(?=.*was easy to schedule)|(?=.*short waiting times)|(?=.*no waiting time)|(?=.*no hassle)|(?=.*very friendly)|(?=.*answered all my questions)|(?=.*very professional)|(?=.*so far so good)|(?=.*always seen on time)|(?=.*never feel rushed)|(?=.*friendly  timely)|(?=.*fast service)|(?=.*very accommodating)|(?=.*pleasent experience   nice staff)|(?=.*helpful and financially beneficial)|(?=.*ease of appointments)|(?=.*has a genuine concern)|(?=.*you feel that you are being heard)|(?=.*quick  affordable)|(?=.*convenient  fast  professional)|(?=.*excellent  thorough providers)|(?=.*very detailed check up)|(?=.*were kind)|(?=.*high quality of care)|(?=.*doctor listened to patient)|(?=.*doing a better job)|(?=.*ease of making an appointment)|(?=.*are just wonderful)|(?=.*very attentive)|(?=.*no wait times)|(?=.*felt comfortable)|(?=.*treated like a human a)|(?=.*felt welcoming)|(?=.*i am satisfied)|(?=.*quality of care and time)|(?=.*i enjoy)|(?=.*quick scheduling)|(?=.*was vey kind)|(?=.*was very kind)|(?=.*it was helpful)|(?=.*pretty thorough)|(?=.*was really thorough)|(?=.*listened to my concerns)|(?=.*listened to what i had to say)|(?=.*listened to all concerns)|(?=.*very responsive)|(?=.*very informative)|(?=.*cared about my well being)|(?=.*i feel welcomed)|(?=.*made me feel important)|(?=.*made me feel better)|(?=.*was very productive)|(?=.*gave me a lot of information)|(?=.*timely and kind)|(?=.*positive experience)|(?=.*personalized care)|(?=.*thank you)|(?=.*with professional courtesy)|(?=.*very positive environment)|(?=.*were wonderful)|(?=.*was thorough)|(?=.*non judgemental)|(?=.*very receptive)|(?=.*did not seem rushed)|(?=.*asked thorough questions)|(?=.* i felt confident)|(?=.*very little wait time)|(?=.*felt like an actual patient)|(?=.*she really cares)|(?=.*he really cares)|(?=.*treated me like a person)|(?=.*listened carefully and thoughtfully)|(?=.*was responsive)|(?=.*explained things really well)|(?=.*met me with respect)|(?=.*listened to my feedback)|(?=.*i felt heard)|(?=.*went very well)|(?=.*quick and thorough)|(?=.*made me comfortable)|(?=.*was explained in detail)|(?=.*kind and listened)|(?=.*got me in earlier)|(?=.*outstanding service)|(?=.*listened to my needs)|(?=.*very well prepared)|(?=.*i was welcomed)|(?=.*listened  welcoming)|(?=.*most important patient)|(?=.*spent a tremendous amount of time)|(?=.*very kind and polite)|(?=.*pleasant and thorough)|(?=.*pleasant and helpful)|(?=.*very prompt)|(?=.*very timely)|(?=.*asked good questions)|(?=.*is the best)|(?=.*pleasant and professional)|(?=.*was understanding)|(?=.*felt welcome and listened)|(?=.*everything went well)|(?=.*was pleasant)|(?=.*staff greeted me)|(?=.*everyone is sincere)|(?=.*polite and helpful)|(?=.*interactive and listened)|(?=.*found answers to my questions)|(?=.*kind and considerate)|(?=.*listened and responded)|(?=.*easy to schedule)|(?=.*always listen to my concerns)|(?=.*were professional)|(?=.*satisfied my needs)|(?=.*i was important)|(?=.*did not rush me)|(?=.*were addressed)|(?=.*was very respectful)|(?=.*didn t feel rushed)|(?=.*ease and timeliness)|(?=.*very patient and attentive)|(?=.*made sure i understood)|(?=.*took time to explain)|(?=.*very personal and understanding)|(?=.*very honest)|(?=.*very cared)|(?=.*always prepared)|(?=.*well cared)|(?=.*best dr visit)|(?=.*did not feel rushed)|(?=.*very quick)|(?=.*is a pleasure)|(?=.*patient centered)|(?=.*doctor really cares)|(?=.*spent as much time)|(?=.*expressed interested in me)|(?=.*took time to really talk)|(?=.*helped me with my issues)|(?=.*was incredibly calm)|(?=.*very warmly)|(?=.*listened to me first)|(?=.*without any wait time)|(?=.*always quick)|(?=.*was organized)|(?=.*very kind)|(?=.*i was able to make an appointment)|(?=.*helped clear up mysteries)|(?=.*was exceptional)|(?=.*we did not have to wait)|(?=.*i really like)|(?=.*made a personal connection)|(?=.*spent time in reviewing)|(?=.*spent quality time)|(?=.*gave me the information i needed)|(?=.*very personal)|(?=.*did not rush)|(?=.*have time to deal)|(?=.*was extremely thorough)|(?=.*has really helped)|(?=.*extra care was taken)|(?=.*took extra care)|(?=.*showed an interest)|(?=.*care and compassion)|(?=.*took his time)|(?=.*is nice  and caring)|(?=.*took the time to explain)|(?=.*talked to me and listened)|(?=.*made the patient feel comfortable)|(?=.*addressed the issue)|(?=.*listen and spent time)|(?=.*took her time with me)|(?=.*addressed my issue)|(?=.*i am so pleased)|(?=.*took the time to listen)|(?=.*i felt important  like a person)|(?=.*concise and responsive)|(?=.*didn t wait long)|(?=.*helped me understand)|(?=.*very well)|(?=.*very personal service)|(?=.*they followed the guidelines)|(?=.*started in a timely)|(?=.*was wonderful)|(?=.*very thoughtful)|(?=.*was genuinely interested)|(?=.*ran smoothly)|(?=.*i felt my concerns were important)|(?=.*assist was great)|(?=.*welcoming staff)|(?=.*they were very interested)|(?=.*i am treated)|(?=.*was treated with respect)|(?=.*can recommend to co workers)|(?=.*is wonderful)|(?=.*is great)|(?=.*got one  same day)|(?=.*nothing was rushed)|(?=.*got me in and out)|(?=.*very caring)|(?=.*was awesome)|(?=.*received a very in depth review)|(?=.*quick in and out)|(?=.*in a timely manner)|(?=.*very warm   friendly)|(?=.*courteous and professional)|(?=.*was very courteous)|(?=.*always so great)|(?=.*was awesome)|(?=.*seen by doctor and have)|(?=.*things were on time)|(?=.*established care  listened to my issues)|(?=.*clearly reviewed my information)|(?=.*everything was done well)|(?=.*i didn t even wait)|(?=.*was so friendly)|(?=.*took your time to take care)|(?=.*which is great)|(?=.*they are so nice)|(?=.*doctor discussed my concerns)|(?=.*staff was friendly)|(?=.*they make me feel welcome)|(?=.*was friendly)|(?=.*greeted me warmly)|(?=.*provider spent time asking questions)|(?=.*spoke about all of my concerns)|(?=.*no long waiting times)|(?=.*very personable)|(?=.*so smooth)|(?=.*down to earth)|(?=.*spent a lot of time with me)|(?=.*were so attentive)|(?=.*was caring)|(?=.*was gentle)|(?=.*was incredibly caring)|(?=.*was treated great)|(?=.*i m comfortable)|(?=.* helped me to understand)|(?=.*does a great job)|(?=.*is so kind)|(?=.*made me feel comfortable)|(?=.*i was being listened)|(?=.*i was greeted)|(?=.*when she took blood it was fast)|(?=.*didn t get pushy)|(?=.*gave me an accurate diagnosis)|(?=.*explain things that i didn t understand)|(?=.*is professional)|(?=.*willing to take the time with you)|(?=.*nice staff and everyone listened)|(?=.*took the time to answer)|(?=.*is friendly and listens)|(?=.*were able to get me in quickly)|(?=.*was fabulous)|(?=.*took the time to make me comfortable)|(?=.*she listened to)|(?=.*they were so caring)|(?=.*they were thorough)|(?=.*never felt that i was rushed)|(?=.*was extremely personable)|(?=.*is very patient and caring)|(?=.*is awesome)'), 'sentiment_label'] = 'Positive'\n",
    "satisfied_reviews.loc[satisfied_reviews['reviews'].str.contains('^(?=convenient)') & (satisfied_reviews['NPS']==6), 'sentiment_label'] = 'Positive'\n",
    "satisfied_reviews.loc[(satisfied_reviews['polarity_score']<0) & (satisfied_reviews['sentiment_label']=='Positive'), 'polarity_score']*=-1"
   ]
  },
  {
   "cell_type": "code",
   "execution_count": null,
   "id": "2074ffeb",
   "metadata": {
    "id": "2074ffeb"
   },
   "outputs": [],
   "source": [
    "satisfied_reviews.loc[(satisfied_reviews['NPS']>=9) & (satisfied_reviews['NPS']<=10), 'nps_label'] = 'Promoter'\n",
    "satisfied_reviews.loc[(satisfied_reviews['NPS']>=7) & (satisfied_reviews['NPS']<=8), 'nps_label'] = 'Passive'\n",
    "satisfied_reviews.loc[satisfied_reviews['NPS']<=6, 'nps_label'] = 'Detractors'"
   ]
  },
  {
   "cell_type": "code",
   "execution_count": null,
   "id": "bd07dd7d",
   "metadata": {
    "id": "bd07dd7d",
    "outputId": "3d69bfb7-890e-492f-c3be-cfb44a037691"
   },
   "outputs": [],
   "source": [
    "satisfied_reviews['nps_label'].value_counts()"
   ]
  },
  {
   "cell_type": "code",
   "execution_count": null,
   "id": "1a6c3aba",
   "metadata": {
    "id": "1a6c3aba",
    "outputId": "c13f923a-ac12-4aac-d390-26f93b13a107"
   },
   "outputs": [],
   "source": [
    "satisfied_complete_data = pd.DataFrame()\n",
    "satisfied_complete_data['ID'] = satisfied_reviews['ID']\n",
    "satisfied_complete_data['reviews'] = satisfied_reviews['reviews']\n",
    "satisfied_complete_data['date'] = satisfied_reviews['date']\n",
    "satisfied_complete_data['nps_score'] = satisfied_reviews['NPS']\n",
    "satisfied_complete_data['clinic'] = satisfied_reviews['clinic']\n",
    "satisfied_complete_data['city'] = satisfied_reviews['city']\n",
    "satisfied_complete_data['state'] = satisfied_reviews['state']\n",
    "satisfied_complete_data['polarity_score'] = satisfied_reviews['polarity_score']\n",
    "satisfied_complete_data['label'] = satisfied_reviews['sentiment_label']\n",
    "satisfied_complete_data['nps_label'] = satisfied_reviews['nps_label']\n",
    "satisfied_complete_data.to_csv(\"satisfied_complete_data.csv\")\n",
    "satisfied_complete_data"
   ]
  },
  {
   "cell_type": "code",
   "execution_count": null,
   "id": "19416008",
   "metadata": {
    "id": "19416008",
    "outputId": "385bee16-e553-477b-b765-f609fec5c33a"
   },
   "outputs": [],
   "source": [
    "satisfied_sentiment_count = satisfied_reviews[['sentiment']].value_counts()\n",
    "satisfied_sentiment_count"
   ]
  },
  {
   "cell_type": "code",
   "execution_count": null,
   "id": "bd98b9c0",
   "metadata": {
    "id": "bd98b9c0"
   },
   "outputs": [],
   "source": [
    "satisfied_reviews.to_csv(\"satisfied_reviews.csv\")"
   ]
  },
  {
   "cell_type": "code",
   "execution_count": null,
   "id": "c0e360e5",
   "metadata": {
    "id": "c0e360e5",
    "outputId": "727e7759-8027-49df-b633-db4e1483772a"
   },
   "outputs": [],
   "source": [
    "satisfied_crosstab = pd.crosstab(satisfied_reviews.sentiment_label, satisfied_reviews.nps_label)\n",
    "satisfied_crosstab.to_csv(\"satisfied_crosstab.csv\")\n",
    "satisfied_crosstab"
   ]
  },
  {
   "cell_type": "code",
   "execution_count": null,
   "id": "70cdfbde",
   "metadata": {
    "id": "70cdfbde",
    "outputId": "373cb2ef-f33e-4732-969a-d536077d29ff"
   },
   "outputs": [],
   "source": [
    "# Creating visualization using sns for exploratory analysis\n",
    "sns.pairplot(satisfied_reviews, hue = 'sentiment_label')"
   ]
  },
  {
   "cell_type": "code",
   "execution_count": null,
   "id": "f8016ea4",
   "metadata": {
    "id": "f8016ea4",
    "outputId": "f1a0e349-d2d2-4834-ed36-ce479b9bdf47"
   },
   "outputs": [],
   "source": [
    "satisfied_positive = satisfied_reviews[satisfied_reviews['sentiment_label'].str.contains(r'Positive')]\n",
    "satisfied_positive"
   ]
  },
  {
   "cell_type": "code",
   "execution_count": null,
   "id": "e8b1ba3c",
   "metadata": {
    "id": "e8b1ba3c",
    "outputId": "f175e0f1-c88a-44ca-eace-802dc5c7bdff"
   },
   "outputs": [],
   "source": [
    "satisfied_negative = satisfied_reviews[satisfied_reviews['sentiment_label'].str.contains(r'Negative')]\n",
    "satisfied_negative"
   ]
  },
  {
   "cell_type": "code",
   "execution_count": null,
   "id": "bb3b0b8b",
   "metadata": {
    "id": "bb3b0b8b",
    "outputId": "e17707ab-585a-4113-c451-f5c6d0e3bad7"
   },
   "outputs": [],
   "source": [
    "satisfied_neutral = satisfied_reviews[satisfied_reviews['sentiment_label'].str.contains(r'Neutral')]\n",
    "satisfied_neutral"
   ]
  },
  {
   "cell_type": "code",
   "execution_count": null,
   "id": "6d160537",
   "metadata": {
    "id": "6d160537",
    "outputId": "9ee667db-0611-4b60-a1d2-11e2a6dd40d6"
   },
   "outputs": [],
   "source": [
    "satisfied_extreme = satisfied_reviews[satisfied_reviews['sentiment_label'].str.contains(r'Extreme')]\n",
    "satisfied_extreme"
   ]
  },
  {
   "cell_type": "code",
   "execution_count": null,
   "id": "30c76283",
   "metadata": {
    "id": "30c76283",
    "outputId": "a836a4c4-42cc-4741-bf2d-c7c2d52e1274"
   },
   "outputs": [],
   "source": [
    "satisfied_promoters = satisfied_reviews[satisfied_reviews['nps_label'].str.contains(r'Promoter')]\n",
    "satisfied_promoters.head(10)"
   ]
  },
  {
   "cell_type": "code",
   "execution_count": null,
   "id": "20f9e5f5",
   "metadata": {
    "id": "20f9e5f5",
    "outputId": "8a63bbba-e1f0-47a1-a247-04dcfe435322"
   },
   "outputs": [],
   "source": [
    "satisfied_passive = satisfied_reviews[satisfied_reviews['nps_label'].str.contains(r'Passive')]\n",
    "satisfied_passive.head(10)"
   ]
  },
  {
   "cell_type": "code",
   "execution_count": null,
   "id": "dfdb09f6",
   "metadata": {
    "id": "dfdb09f6",
    "outputId": "7e86fd79-fb03-4d9f-b223-fa867cf1a473",
    "scrolled": true
   },
   "outputs": [],
   "source": [
    "satisfied_detractors = satisfied_reviews[satisfied_reviews['nps_label'].str.contains(r'Detractor')]\n",
    "satisfied_detractors.head(10)"
   ]
  },
  {
   "cell_type": "code",
   "execution_count": null,
   "id": "23eaa166",
   "metadata": {
    "id": "23eaa166"
   },
   "outputs": [],
   "source": [
    "satisfied_reviews.to_csv(\"satisfied_reviews.csv\")"
   ]
  },
  {
   "cell_type": "code",
   "execution_count": null,
   "id": "911c110f",
   "metadata": {
    "id": "911c110f",
    "outputId": "4f844d02-d1a9-427c-908b-e6089300052c"
   },
   "outputs": [],
   "source": [
    "ngrams = c_vec.fit_transform(satisfied_reviews['reviews'])\n",
    "count_values = ngrams.toarray().sum(axis=0)\n",
    "vocab = c_vec.vocabulary_\n",
    "satisfied_grams = pd.DataFrame(sorted([(count_values[i],k) for k,i in vocab.items()], reverse=True)).rename(columns={0: 'frequency', 1:'word_group'})\n",
    "satisfied_grams['question_type'] = \"what went well\"\n",
    "satisfied_grams.to_csv(\"satisfied_frequency.csv\")\n",
    "satisfied_grams"
   ]
  },
  {
   "cell_type": "code",
   "execution_count": null,
   "id": "dce23a3b",
   "metadata": {
    "id": "dce23a3b",
    "outputId": "c24ba543-7793-4679-f3a8-434c30575151"
   },
   "outputs": [],
   "source": [
    "ngrams = c_vec.fit_transform(satisfied_positive['reviews'])\n",
    "count_values = ngrams.toarray().sum(axis=0)\n",
    "vocab = c_vec.vocabulary_\n",
    "satisfied_positive_grams = pd.DataFrame(sorted([(count_values[i],k) for k,i in vocab.items()], reverse=True)).rename(columns={0: 'frequency', 1:'word_group'})\n",
    "satisfied_positive_grams.to_csv(\"satisfied_positive_frequency.csv\")\n",
    "satisfied_positive_grams"
   ]
  },
  {
   "cell_type": "code",
   "execution_count": null,
   "id": "b776d5b8",
   "metadata": {
    "id": "b776d5b8",
    "outputId": "1207ef6b-af85-4700-ec40-0fb84e115d85"
   },
   "outputs": [],
   "source": [
    "ngrams = c_vec.fit_transform(satisfied_negative['reviews'])\n",
    "count_values = ngrams.toarray().sum(axis=0)\n",
    "vocab = c_vec.vocabulary_\n",
    "satisfied_negative_grams = pd.DataFrame(sorted([(count_values[i],k) for k,i in vocab.items()], reverse=True)).rename(columns={0: 'frequency', 1:'word_group'})\n",
    "satisfied_negative_grams.to_csv(\"satisfied_negative_frequency.csv\")\n",
    "satisfied_negative_grams"
   ]
  },
  {
   "cell_type": "code",
   "execution_count": null,
   "id": "cea32b10",
   "metadata": {
    "id": "cea32b10",
    "outputId": "9eb8e994-5f66-4b3e-9047-1368a2245f13"
   },
   "outputs": [],
   "source": [
    "ngrams = c_vec.fit_transform(satisfied_neutral['reviews'])\n",
    "count_values = ngrams.toarray().sum(axis=0)\n",
    "vocab = c_vec.vocabulary_\n",
    "satisfied_neutral_grams = pd.DataFrame(sorted([(count_values[i],k) for k,i in vocab.items()], reverse=True)).rename(columns={0: 'frequency', 1:'word_group'})\n",
    "satisfied_neutral_grams.to_csv(\"satisfied_neutral_frequency.csv\")\n",
    "satisfied_neutral_grams"
   ]
  },
  {
   "cell_type": "code",
   "execution_count": null,
   "id": "68bfd5aa",
   "metadata": {
    "id": "68bfd5aa",
    "outputId": "d5339f5c-f850-4aa2-920e-850842b0bf55"
   },
   "outputs": [],
   "source": [
    "satisfied_grams_json = json.dumps([{\"word_group\": topic, \"frequency\": frequency} for frequency,topic in zip(satisfied_grams['frequency'], satisfied_grams['word_group'])])\n",
    "satisfied_grams_json"
   ]
  },
  {
   "cell_type": "code",
   "execution_count": null,
   "id": "4dc80c05",
   "metadata": {
    "id": "4dc80c05"
   },
   "outputs": [],
   "source": [
    "with open(\"satisfied_frequency.json\", \"w\") as satisfied_topics_file:\n",
    "    satisfied_topics_file.write(satisfied_grams_json)\n",
    "satisfied_topics_file.close()"
   ]
  },
  {
   "cell_type": "code",
   "execution_count": null,
   "id": "2ae75724",
   "metadata": {
    "id": "2ae75724",
    "outputId": "aedc0c84-e975-46d2-d890-ed3d53bb446c"
   },
   "outputs": [],
   "source": [
    "satisfied_positive_grams_json = json.dumps([{\"word_group\": topic, \"frequency\": frequency} for frequency,topic in zip(satisfied_positive_grams['frequency'], satisfied_positive_grams['word_group'])])\n",
    "satisfied_positive_grams_json"
   ]
  },
  {
   "cell_type": "code",
   "execution_count": null,
   "id": "abe84602",
   "metadata": {
    "id": "abe84602"
   },
   "outputs": [],
   "source": [
    "with open(\"satisfied_positive_frequency.json\", \"w\") as satisfied_positive_topics_file:\n",
    "    satisfied_positive_topics_file.write(satisfied_positive_grams_json)\n",
    "satisfied_positive_topics_file.close()"
   ]
  },
  {
   "cell_type": "code",
   "execution_count": null,
   "id": "fe1a27d1",
   "metadata": {
    "id": "fe1a27d1",
    "outputId": "e42f1401-a6ab-4343-d0ad-eba53c7e7656"
   },
   "outputs": [],
   "source": [
    "satisfied_negative_grams_json = json.dumps([{\"word_group\": topic, \"frequency\": frequency} for frequency,topic in zip(satisfied_negative_grams['frequency'], satisfied_negative_grams['word_group'])])\n",
    "satisfied_negative_grams_json"
   ]
  },
  {
   "cell_type": "code",
   "execution_count": null,
   "id": "5b371c06",
   "metadata": {
    "id": "5b371c06"
   },
   "outputs": [],
   "source": [
    "with open(\"satisfied_negative_frequency.json\", \"w\") as satisfied_negative_topics_file:\n",
    "    satisfied_negative_topics_file.write(satisfied_negative_grams_json)\n",
    "satisfied_negative_topics_file.close()"
   ]
  },
  {
   "cell_type": "code",
   "execution_count": null,
   "id": "97ef2481",
   "metadata": {
    "id": "97ef2481",
    "outputId": "14897400-7971-42ae-e964-836f393c719c"
   },
   "outputs": [],
   "source": [
    "satisfied_neutral_grams_json = json.dumps([{\"word_group\": topic, \"frequency\": frequency} for frequency,topic in zip(satisfied_neutral_grams['frequency'], satisfied_neutral_grams['word_group'])])\n",
    "satisfied_neutral_grams_json"
   ]
  },
  {
   "cell_type": "code",
   "execution_count": null,
   "id": "cc5ce81c",
   "metadata": {
    "id": "cc5ce81c"
   },
   "outputs": [],
   "source": [
    "with open(\"satisfied_neutral_frequency.json\", \"w\") as satisfied_neutral_topics_file:\n",
    "    satisfied_neutral_topics_file.write(satisfied_neutral_grams_json)\n",
    "satisfied_neutral_topics_file.close()"
   ]
  },
  {
   "cell_type": "code",
   "execution_count": null,
   "id": "d336cdc1",
   "metadata": {
    "id": "d336cdc1",
    "outputId": "a4272bee-8bb2-4caa-8ab7-647db60ee440"
   },
   "outputs": [],
   "source": [
    "satisfied_top_positive = satisfied_reviews[['reviews','polarity_score','sentiment_label']].sort_values(by='polarity_score', ascending=False).head(5)\n",
    "satisfied_top_positive"
   ]
  },
  {
   "cell_type": "code",
   "execution_count": null,
   "id": "f2b71645",
   "metadata": {
    "id": "f2b71645",
    "outputId": "96d74bf1-68da-41e2-cbfd-36a6a17448f7"
   },
   "outputs": [],
   "source": [
    "satisfied_top_negative = satisfied_reviews[['reviews','polarity_score','sentiment_label']].sort_values(by='polarity_score', ascending=True).head(5)\n",
    "satisfied_top_negative"
   ]
  },
  {
   "cell_type": "code",
   "execution_count": null,
   "id": "6261b640",
   "metadata": {
    "id": "6261b640",
    "outputId": "67fdf145-bd87-430d-fab7-663a59390e16"
   },
   "outputs": [],
   "source": [
    "satisfied_json = json.dumps([{\"ID\": id, \"review\": review, \"label\": label, \"polarity_score\": polarity_score, \"nps_score\": nps_score, \"nps_label\": nps_label, \"date\": date, \"clinic\": clinic, \"city\": city, \"state\": state} for id,review,label,polarity_score,nps_score,nps_label,date,clinic,city,state in zip(satisfied_reviews['ID'], satisfied_reviews['reviews'], satisfied_reviews['sentiment_label'], satisfied_reviews['polarity_score'], satisfied_reviews['NPS'], satisfied_reviews['nps_label'], satisfied_reviews['date'], satisfied_reviews['clinic'], satisfied_reviews['city'], satisfied_reviews['state'])])\n",
    "satisfied_json"
   ]
  },
  {
   "cell_type": "code",
   "execution_count": null,
   "id": "3463ff44",
   "metadata": {
    "id": "3463ff44"
   },
   "outputs": [],
   "source": [
    "with open(\"satisfied_reviews.json\", \"w\") as satisfied_json_file:\n",
    "    satisfied_json_file.write(satisfied_json)\n",
    "satisfied_json_file.close()"
   ]
  },
  {
   "cell_type": "code",
   "execution_count": null,
   "id": "8f7b23e5",
   "metadata": {
    "id": "8f7b23e5",
    "outputId": "da81f0b1-6ddc-4344-fda0-f78e983673bc"
   },
   "outputs": [],
   "source": [
    "satisfied_positive_length = len(satisfied_positive)\n",
    "satisfied_negative_length = len(satisfied_negative)\n",
    "satisfied_neutral_length = len(satisfied_neutral)\n",
    "satisfied_extreme_length = len(satisfied_extreme)\n",
    "satisfied_total_promoters = int(len(satisfied_promoters))\n",
    "satisfied_total_passive = int(len(satisfied_passive))\n",
    "satisfied_total_detractors = int(len(satisfied_detractors))\n",
    "satisfied_total_length = len(satisfied_reviews)\n",
    "\n",
    "satisfied_json_total = json.dumps([{\"total_positive\": satisfied_positive_length, \"total_negative\": satisfied_negative_length, \"total_neutral\": satisfied_neutral_length, \"total_extreme\": reason_for_nps_score_extreme_length, \"total_promoters\": satisfied_total_promoters, \"total_passive\": satisfied_total_passive, \"total_detractors\": satisfied_total_detractors, \"total_comments\": satisfied_total_length}])\n",
    "satisfied_json_total"
   ]
  },
  {
   "cell_type": "code",
   "execution_count": null,
   "id": "fb433032",
   "metadata": {
    "id": "fb433032"
   },
   "outputs": [],
   "source": [
    "with open(\"satisfied_total_data.json\", \"w\") as satisfied_total_file:\n",
    "    satisfied_total_file.write(satisfied_json_total)\n",
    "satisfied_total_file.close()"
   ]
  },
  {
   "cell_type": "code",
   "execution_count": null,
   "id": "3ebbe77d",
   "metadata": {
    "id": "3ebbe77d",
    "outputId": "36be87d2-2e23-47c7-85ad-76acf980ee1b"
   },
   "outputs": [],
   "source": [
    "satisfied_top_five_positive_json = json.dumps([{\"review\": review, \"label\": label, \"polarity_score\": polarity_score} for review,label,polarity_score in zip(satisfied_top_positive['reviews'], satisfied_top_positive['sentiment_label'], satisfied_top_positive['polarity_score'])])\n",
    "satisfied_top_five_positive_json"
   ]
  },
  {
   "cell_type": "code",
   "execution_count": null,
   "id": "7b57dec3",
   "metadata": {
    "id": "7b57dec3",
    "outputId": "b43eaa98-a5ca-41b1-be9b-18f5d217408b"
   },
   "outputs": [],
   "source": [
    "satisfied_top_five_negative_json = json.dumps([{\"review\": review, \"label\": label, \"polarity_score\": polarity_score} for review,label,polarity_score in zip(satisfied_top_negative['reviews'], satisfied_top_negative['sentiment_label'], satisfied_top_negative['polarity_score'])])\n",
    "satisfied_top_five_negative_json"
   ]
  },
  {
   "cell_type": "code",
   "execution_count": null,
   "id": "afa07855",
   "metadata": {
    "id": "afa07855"
   },
   "outputs": [],
   "source": [
    "with open(\"satisfied_top_five_positive.json\", \"w\") as satisfied_top_positive_file:\n",
    "    satisfied_top_positive_file.write(satisfied_top_five_positive_json)\n",
    "satisfied_top_positive_file.close()\n",
    "with open(\"satisfied_top_five_negative.json\", \"w\") as satisfied_top_negative_file:\n",
    "    satisfied_top_negative_file.write(satisfied_top_five_negative_json)\n",
    "satisfied_top_negative_file.close()"
   ]
  },
  {
   "cell_type": "code",
   "execution_count": null,
   "id": "0dd4aa9c",
   "metadata": {
    "id": "0dd4aa9c",
    "outputId": "18abe108-ca28-4775-f9b4-620dfcca963a"
   },
   "outputs": [],
   "source": [
    "satisfied_positive_json = json.dumps([{\"ID\": id, \"review\": review, \"label\": label, \"polarity_score\": polarity_score, \"nps_score\": nps_score, \"nps_label\": nps_label, \"date\": date, \"clinic\": clinic, \"city\": city, \"state\": state} for id,review,label,polarity_score,nps_score,nps_label,date,clinic,city,state in zip(satisfied_positive['ID'], satisfied_positive['reviews'], satisfied_positive['sentiment_label'], satisfied_positive['polarity_score'], satisfied_positive['NPS'], satisfied_positive['nps_label'], satisfied_positive['date'], satisfied_positive['clinic'], satisfied_positive['city'], satisfied_positive['state'])])\n",
    "satisfied_positive_json"
   ]
  },
  {
   "cell_type": "code",
   "execution_count": null,
   "id": "28cd4e6e",
   "metadata": {
    "id": "28cd4e6e"
   },
   "outputs": [],
   "source": [
    "with open(\"satisfied_positive.json\", \"w\") as satisfied_positive_file:\n",
    "    satisfied_positive_file.write(satisfied_positive_json)\n",
    "satisfied_positive_file.close()"
   ]
  },
  {
   "cell_type": "code",
   "execution_count": null,
   "id": "3c4524a2",
   "metadata": {
    "id": "3c4524a2",
    "outputId": "d6eb53dd-a48e-4eef-c06b-746787476d70"
   },
   "outputs": [],
   "source": [
    "satisfied_negative_json = json.dumps([{\"ID\": id, \"review\": review, \"label\": label, \"polarity_score\": polarity_score, \"nps_score\": nps_score, \"nps_label\": nps_label, \"date\": date, \"clinic\": clinic, \"city\": city, \"state\": state} for id,review,label,polarity_score,nps_score,nps_label,date,clinic,city,state in zip(satisfied_negative['ID'], satisfied_negative['reviews'], satisfied_negative['sentiment_label'], satisfied_negative['polarity_score'], satisfied_negative['NPS'], satisfied_negative['nps_label'], satisfied_negative['date'], satisfied_negative['clinic'], satisfied_negative['city'], satisfied_negative['state'])])\n",
    "satisfied_negative_json"
   ]
  },
  {
   "cell_type": "code",
   "execution_count": null,
   "id": "448de32c",
   "metadata": {
    "id": "448de32c"
   },
   "outputs": [],
   "source": [
    "with open(\"satisfied_negative.json\", \"w\") as satisfied_negative_file:\n",
    "    satisfied_negative_file.write(satisfied_negative_json)\n",
    "satisfied_negative_file.close()"
   ]
  },
  {
   "cell_type": "code",
   "execution_count": null,
   "id": "a55adde7",
   "metadata": {
    "id": "a55adde7",
    "outputId": "1a6a688e-9a84-446d-b72d-5a6956e42d5a"
   },
   "outputs": [],
   "source": [
    "satisfied_neutral_json = json.dumps([{\"ID\": id, \"review\": review, \"label\": label, \"polarity_score\": polarity_score, \"nps_score\": nps_score, \"nps_label\": nps_label, \"date\": date, \"clinic\": clinic, \"city\": city, \"state\": state} for id,review,label,polarity_score,nps_score,nps_label,date,clinic,city,state in zip(satisfied_neutral['ID'], satisfied_neutral['reviews'], satisfied_neutral['sentiment_label'], satisfied_neutral['polarity_score'], satisfied_neutral['NPS'], satisfied_neutral['nps_label'], satisfied_neutral['date'], satisfied_neutral['clinic'], satisfied_neutral['city'], satisfied_neutral['state'])])\n",
    "satisfied_neutral_json"
   ]
  },
  {
   "cell_type": "code",
   "execution_count": null,
   "id": "c7897c05",
   "metadata": {
    "id": "c7897c05"
   },
   "outputs": [],
   "source": [
    "with open(\"satisfied_neutral.json\", \"w\") as satisfied_neutral_file:\n",
    "    satisfied_neutral_file.write(satisfied_neutral_json)\n",
    "satisfied_neutral_file.close()"
   ]
  },
  {
   "cell_type": "code",
   "execution_count": null,
   "id": "c5273499",
   "metadata": {
    "id": "c5273499",
    "outputId": "6e41e186-135b-470d-c71a-9dabb9410ad8"
   },
   "outputs": [],
   "source": [
    "satisfied_extreme_json = json.dumps([{\"ID\": id, \"review\": review, \"label\": label, \"polarity_score\": polarity_score, \"nps_score\": nps_score, \"nps_label\": nps_label, \"date\": date, \"clinic\": clinic, \"city\": city, \"state\": state} for id,review,label,polarity_score,nps_score,nps_label,date,clinic,city,state in zip(satisfied_extreme['ID'], satisfied_extreme['reviews'], satisfied_extreme['sentiment_label'], satisfied_extreme['polarity_score'], satisfied_extreme['NPS'], satisfied_extreme['nps_label'], satisfied_extreme['date'], satisfied_extreme['clinic'], satisfied_extreme['city'], satisfied_extreme['state'])])\n",
    "satisfied_extreme_json"
   ]
  },
  {
   "cell_type": "code",
   "execution_count": null,
   "id": "5f85e989",
   "metadata": {
    "id": "5f85e989"
   },
   "outputs": [],
   "source": [
    "with open(\"satisfied_extreme.json\", \"w\") as satisfied_extreme_file:\n",
    "    satisfied_extreme_file.write(satisfied_extreme_json)\n",
    "satisfied_extreme_file.close()"
   ]
  },
  {
   "cell_type": "code",
   "execution_count": null,
   "id": "b1796462",
   "metadata": {
    "id": "b1796462",
    "outputId": "317588a9-3387-43f1-e3cf-1482c1a074bf"
   },
   "outputs": [],
   "source": [
    "# Creating a histogram to show postive, negative, and neutral sentiment distribution\n",
    "figure = pl.histogram(satisfied_reviews, x=\"sentiment_label\")\n",
    "figure.update_traces(marker_color=\"indianred\",marker_line_color='yellow',marker_line_width=2.0)\n",
    "figure.update_layout(title_text='Feedback Sentiment Analysis')\n",
    "figure.show()"
   ]
  },
  {
   "cell_type": "code",
   "execution_count": null,
   "id": "f2b9acba",
   "metadata": {
    "id": "f2b9acba",
    "outputId": "9eafaa01-2b85-4f96-e96e-4ce2faf00b66"
   },
   "outputs": [],
   "source": [
    "# Creating a histogram to show postive, negative, and neutral sentiment distribution\n",
    "figure = pl.histogram(satisfied_reviews, x=\"nps_label\")\n",
    "figure.update_traces(marker_color=\"indianred\",marker_line_color='yellow',marker_line_width=2.0)\n",
    "figure.update_layout(title_text='Feedback Sentiment Analysis - NPS Label')\n",
    "figure.show()"
   ]
  },
  {
   "cell_type": "code",
   "execution_count": null,
   "id": "8707c520",
   "metadata": {
    "id": "8707c520"
   },
   "outputs": [],
   "source": []
  },
  {
   "cell_type": "markdown",
   "id": "d042dec0",
   "metadata": {
    "id": "d042dec0"
   },
   "source": [
    "### 2.5 Extracting Negative Reviews"
   ]
  },
  {
   "cell_type": "code",
   "execution_count": null,
   "id": "1a4fbb02",
   "metadata": {
    "id": "1a4fbb02",
    "outputId": "a2131d2c-8184-474f-f1a7-d13053d34117"
   },
   "outputs": [],
   "source": [
    "data_what_not_satisfied = data[['ID','MEMBER_ID','NEGATIVEREVIEWS','NPS','SURVEYDATE','SURVEYCLINIC','CLINICCITY','CLINICSTATE']]\n",
    "data_what_not_satisfied = data_what_not_satisfied[data_what_not_satisfied['NEGATIVEREVIEWS'] != 'No Response']\n",
    "data_what_not_satisfied.rename({'NEGATIVEREVIEWS': 'reviews'}, axis=1, inplace=True)\n",
    "data_what_not_satisfied.rename({'SURVEYDATE': 'date'}, axis=1, inplace=True)\n",
    "data_what_not_satisfied.rename({'SURVEYCLINIC': 'clinic'}, axis=1, inplace=True)\n",
    "data_what_not_satisfied.rename({'CLINICCITY': 'city'}, axis=1, inplace=True)\n",
    "data_what_not_satisfied.rename({'CLINICSTATE': 'state'}, axis=1, inplace=True)\n",
    "remove_punctuations_dissatisfied = data_what_not_satisfied[['reviews']]\n",
    "remove_punctuations_dissatisfied.replace(\"[^a-zA-Z]\",\" \",regex=True, inplace=True)\n",
    "data_what_not_satisfied[['reviews']] = remove_punctuations_dissatisfied[['reviews']]\n",
    "\n",
    "data_what_not_satisfied = data_what_not_satisfied.reset_index(drop=True)\n",
    "data_what_not_satisfied"
   ]
  },
  {
   "cell_type": "code",
   "execution_count": null,
   "id": "a3129835",
   "metadata": {
    "id": "a3129835"
   },
   "outputs": [],
   "source": [
    "dissatisfied_reviews = data_what_not_satisfied"
   ]
  },
  {
   "cell_type": "code",
   "execution_count": null,
   "id": "bbdf3f12",
   "metadata": {
    "id": "bbdf3f12",
    "outputId": "8136cbf9-dbd8-4508-8db5-8efd7405c450"
   },
   "outputs": [],
   "source": [
    "dissatisfied_reviews.isna().sum() # Counting the number of missing values"
   ]
  },
  {
   "cell_type": "code",
   "execution_count": null,
   "id": "00d8c49c",
   "metadata": {
    "id": "00d8c49c",
    "outputId": "a6d7f9cc-7923-4631-b57f-00628f20322f"
   },
   "outputs": [],
   "source": [
    "# Removing missing values\n",
    "dissatisfied_reviews = dissatisfied_reviews.dropna()\n",
    "dissatisfied_reviews.isna().sum()"
   ]
  },
  {
   "cell_type": "code",
   "execution_count": null,
   "id": "114cfc7c",
   "metadata": {
    "id": "114cfc7c",
    "outputId": "b2879ed1-f100-4733-f95f-c56a9fecca95"
   },
   "outputs": [],
   "source": [
    "dissatisfied_contractions = dissatisfied_reviews[dissatisfied_reviews['reviews'].str.contains(r'can\\'t|won\\'t|isn\\'t|doesn\\'t|didn\\'t|don\\'t|haven\\'t|couldn\\'t|you\\'ll|I\\'ll|I\\'ve|I\\'m|it\\'ll|it\\'s|could\\'ve|would\\'ve|hadn\\'t|hasn\\'t|should\\'ve|shouldn\\'t|must\\'ve|who\\'s|they\\'re|they\\'ll|they\\'ve|that\\'s|there\\'s')].value_counts().sum()\n",
    "dissatisfied_contractions"
   ]
  },
  {
   "cell_type": "code",
   "execution_count": null,
   "id": "83b09ddd",
   "metadata": {
    "id": "83b09ddd",
    "outputId": "698d319a-ba84-425a-d961-a6ba41a592e0"
   },
   "outputs": [],
   "source": [
    "# Converting reviews to lower case\n",
    "dissatisfied_lower = dissatisfied_reviews[['reviews']]\n",
    "dissatisfied_reviews['reviews'] = dissatisfied_lower.applymap(str.lower)\n",
    "dissatisfied_reviews"
   ]
  },
  {
   "cell_type": "code",
   "execution_count": null,
   "id": "e650d3c3",
   "metadata": {
    "id": "e650d3c3",
    "outputId": "bd61d179-6d02-4c98-9e8e-21a0fcdcf8d2"
   },
   "outputs": [],
   "source": [
    "# Creating tokens\n",
    "dissatisfied_token_list = []\n",
    "\n",
    "for each in dissatisfied_reviews['reviews']:\n",
    "    token = word_tokenize(each)\n",
    "    dissatisfied_token_list.append(token)\n",
    "dissatisfied_token_list"
   ]
  },
  {
   "cell_type": "code",
   "execution_count": null,
   "id": "91593300",
   "metadata": {
    "id": "91593300",
    "outputId": "e963053b-0fcc-48db-f2e4-6ab2afaf3f68"
   },
   "outputs": [],
   "source": [
    "# Creating a new dataframe to show reviews and tokens side by side\n",
    "dissatisfied_reviews['tokens'] = dissatisfied_token_list\n",
    "dissatisfied_reviews"
   ]
  },
  {
   "cell_type": "code",
   "execution_count": null,
   "id": "7d0a6f0b",
   "metadata": {
    "id": "7d0a6f0b",
    "outputId": "adb5eb8f-70fc-4a70-8587-f51c853665c7"
   },
   "outputs": [],
   "source": [
    "# Finding token frequency and appending the result into a list\n",
    "dissatisfied_frequency_list = []\n",
    "\n",
    "for each in dissatisfied_token_list:\n",
    "    fdist = FreqDist(each)\n",
    "    dissatisfied_frequency_list.append(fdist)\n",
    "\n",
    "# Plotting 15 records of tokens groups according to their frequency\n",
    "for each in range(15):\n",
    "    dissatisfied_frequency_list[each].plot(30,cumulative=False)\n",
    "    plt.show()\n",
    "    "
   ]
  },
  {
   "cell_type": "code",
   "execution_count": null,
   "id": "867f0002",
   "metadata": {
    "id": "867f0002",
    "outputId": "bdf348f2-43bd-4416-86d3-495a90aefcdf"
   },
   "outputs": [],
   "source": [
    "# Displaying most common tokens\n",
    "fdist.most_common(4)"
   ]
  },
  {
   "cell_type": "code",
   "execution_count": null,
   "id": "51eb0905",
   "metadata": {
    "id": "51eb0905",
    "outputId": "4e85ac20-fecc-441a-9465-8092fab30833"
   },
   "outputs": [],
   "source": [
    "# Converting each token to lower case and removing it if it is present in the stopwords list\n",
    "dissatisfied_tokens_without_stopwords = []\n",
    "stopwords_set = set(stopwords.words('english'))\n",
    "for token in dissatisfied_reviews.tokens:\n",
    "    word = [term.lower() for term in token if term.lower() not in stopwords_set]\n",
    "    dissatisfied_tokens_without_stopwords.append(word)\n",
    "    \n",
    "# Creating a new dataframe to show reviews, tokens, and stemmed tokens side by side\n",
    "dissatisfied_reviews['tokens_without_stopwords'] = dissatisfied_tokens_without_stopwords\n",
    "dissatisfied_reviews"
   ]
  },
  {
   "cell_type": "code",
   "execution_count": null,
   "id": "97e7a412",
   "metadata": {
    "id": "97e7a412",
    "outputId": "225e8111-67b6-4d10-e354-7648aea2eeac"
   },
   "outputs": [],
   "source": [
    "# Visualizing tokens a word cloud with a maximum limit of 100\n",
    "feedbacks = \" \".join(review for review in dissatisfied_reviews.reviews)\n",
    "dissatisfied_wordcloud = WordCloud(stopwords=stopwords_set, collocations = False, background_color = 'red', width = 4000,height = 3000).generate(feedbacks)\n",
    "fig=plt.figure(figsize=(15, 10))\n",
    "plt.imshow(dissatisfied_wordcloud, interpolation='bilinear')\n",
    "plt.axis(\"off\")\n",
    "plt.title('What Did Not Went Well Wordcloud - Tokens')\n",
    "plt.show()"
   ]
  },
  {
   "cell_type": "code",
   "execution_count": null,
   "id": "fd773df0",
   "metadata": {
    "id": "fd773df0",
    "outputId": "5eb635f5-7976-49f0-e41f-b8f62a9bcfa6"
   },
   "outputs": [],
   "source": [
    "# Lemmatizing removes any noise present in a word as they are reduced to their root context (it is better than stemming)\n",
    "dissatisfied_tokens_after_lemmatizing = []\n",
    "\n",
    "lemmatizer = WordNetLemmatizer()\n",
    "\n",
    "for each in dissatisfied_tokens_without_stopwords:\n",
    "    lem = [lemmatizer.lemmatize(term) for term in each]\n",
    "    dissatisfied_tokens_after_lemmatizing.append(lem)\n",
    "\n",
    "# Creating a new dataframe to showing the new data side by side with the previous one\n",
    "dissatisfied_reviews['fresh_tokens'] = dissatisfied_tokens_after_lemmatizing\n",
    "dissatisfied_reviews"
   ]
  },
  {
   "cell_type": "code",
   "execution_count": null,
   "id": "2e0df640",
   "metadata": {
    "id": "2e0df640",
    "outputId": "8e1fc16d-a8fe-478d-82cf-5be88c0657b4"
   },
   "outputs": [],
   "source": [
    "# Using pos tagging to figure out whether a token is verb, noun, etc\n",
    "dissatisfied_pos_tagged = [pos_tag(tokens) for tokens in dissatisfied_tokens_after_lemmatizing] \n",
    "dissatisfied_pos_tagged"
   ]
  },
  {
   "cell_type": "code",
   "execution_count": null,
   "id": "fd4c821e",
   "metadata": {
    "id": "fd4c821e",
    "outputId": "aa2322cf-3149-4ee4-8735-62bc350cf257"
   },
   "outputs": [],
   "source": [
    "dissatisfied_reviews['feedback'] = dissatisfied_reviews['reviews']\n",
    "dissatisfied_reviews['feedback'] = dissatisfied_reviews['feedback'].apply(lambda v: nltk.pos_tag(nltk.word_tokenize(v)))\n",
    "\n",
    "dissatisfied_reviews['lemma'] = dissatisfied_reviews['feedback'].transform(lambda value: ' '.join([lemmatizer.lemmatize(a[0],pos=get_wordnet_pos(a[1])) if get_wordnet_pos(a[1]) else a[0] for a in value]))\n",
    "dissatisfied_reviews"
   ]
  },
  {
   "cell_type": "code",
   "execution_count": null,
   "id": "294bcd88",
   "metadata": {
    "id": "294bcd88",
    "outputId": "8efe3403-1533-467a-dc95-825cc5965a1d"
   },
   "outputs": [],
   "source": [
    "# Finding polarity score for each feedback\n",
    "# It will show the polarity scores (positive, negative, neutral, and compund) for each feedback along with the feedback received\n",
    "# Polarity scores will then be inserted into a list which will be accessed later to compute sentiment scores\n",
    "dissatisfied_polarity_score_list = []\n",
    "\n",
    "for each in dissatisfied_reviews.reviews:\n",
    "    polarity_score = sia().polarity_scores(each)\n",
    "    polarity_score['label'] = each\n",
    "    dissatisfied_polarity_score_list.append(polarity_score)\n",
    "    print(polarity_score)"
   ]
  },
  {
   "cell_type": "code",
   "execution_count": null,
   "id": "fbbece43",
   "metadata": {
    "id": "fbbece43",
    "outputId": "c8b4bd3b-4e10-4888-d3e0-71ded376246f"
   },
   "outputs": [],
   "source": [
    "# Creating a new dataframe to showing the new data side by side with the previous one\n",
    "# We are only interested in the compunt score (aggregated score)\n",
    "dissatisfied_reviews['polarity_score'] = pd.DataFrame(dissatisfied_polarity_score_list)['compound']\n",
    "dissatisfied_reviews['positive_score'] = pd.DataFrame(dissatisfied_polarity_score_list)['pos']\n",
    "dissatisfied_reviews['negative_score'] = pd.DataFrame(dissatisfied_polarity_score_list)['neu']\n",
    "\n",
    "dissatisfied_reviews[['polarity_score']] = dissatisfied_reviews[['polarity_score']].fillna(0)\n",
    "dissatisfied_reviews[['positive_score']] = dissatisfied_reviews[['positive_score']].fillna(0)\n",
    "dissatisfied_reviews[['negative_score']] = dissatisfied_reviews[['negative_score']].fillna(0)\n",
    "dissatisfied_reviews"
   ]
  },
  {
   "cell_type": "code",
   "execution_count": null,
   "id": "0a16ce14",
   "metadata": {
    "id": "0a16ce14",
    "outputId": "e202046d-248f-41c3-cd93-b3693d8e713c"
   },
   "outputs": [],
   "source": [
    "# Creating a new column which will contain sentiment scores based on the polarity score of each feedback\n",
    "dissatisfied_reviews['sentiment_label'] = dissatisfied_reviews.apply(sentiment_label, axis=1)\n",
    "dissatisfied_reviews['sentiment'] = dissatisfied_reviews.apply(sentiment, axis=1)\n",
    "dissatisfied_reviews.head(10)"
   ]
  },
  {
   "cell_type": "code",
   "execution_count": null,
   "id": "1e3c9a08",
   "metadata": {
    "id": "1e3c9a08",
    "outputId": "c9111eae-7595-47eb-81bd-a4e64133d609",
    "scrolled": true
   },
   "outputs": [],
   "source": [
    "dissatisfied_reviews.loc[dissatisfied_reviews['reviews'].str.match('^(?=.*rude)|(?=.*worst)|(?=.*frustrated)|(?=.*angry)|(?=.*terrible)|(?=.*disrespectful)|(?=.*irresponsibly)|(?=.*irresponsible)|(?=.*improper)|(?=.*wasted)|(?=.*violate)|(?=.*violations)|(?=.*aren t worth)|(?=.*undress)|(?=.*didnt treat me)|(?=.*horrible)|(?=kill)|(?=.*danger)|(?=.*dangerous)|(?=rough)|(?=.*dismissed)|(?=.*upsetting)|(?=.*out of line)|(?=.*uncomfortable)|(?=.*can t breathe)|(?=.*breast)|(?=.*was misdiagnosed)|(?=.*did not examine me)|(?=.*forced to participate)|(?=.*forced into it)'), 'sentiment'] = 2\n",
    "dissatisfied_reviews.loc[dissatisfied_reviews['reviews'].str.match('^(?=.*rude)|(?=.*worst)|(?=.*frustrated)|(?=.*angry)|(?=.*terrible)|(?=.*disrespectful)|(?=.*irresponsibly)|(?=.*irresponsible)|(?=.*improper)|(?=.*wasted)|(?=.*violate)|(?=.*violations)|(?=.*aren t worth)|(?=.*undress)|(?=.*didnt treat me)|(?=.*horrible)|(?=kill)|(?=.*danger)|(?=.*dangerous)|(?=rough)|(?=.*dismissed)|(?=.*upsetting)|(?=.*out of line)|(?=.*uncomfortable)|(?=.*can t breathe)|(?=.*breast)|(?=.*was misdiagnosed)|(?=.*did not examine me)|(?=.*forced to participate)|(?=.*forced into it)'), 'sentiment_label'] = 'Extreme'  \n",
    "dissatisfied_reviews.loc[(dissatisfied_reviews['polarity_score']>0) & (satisfied_reviews['sentiment_label']=='Extreme'), 'polarity_score']*=-1\n",
    "\n",
    "dissatisfied_reviews.loc[(dissatisfied_reviews['NPS']>=7) & (dissatisfied_reviews['sentiment_label']=='Negative'), 'sentiment']=1\n",
    "dissatisfied_reviews.loc[(dissatisfied_reviews['NPS']>=7) & (dissatisfied_reviews['sentiment_label']=='Negative'), 'sentiment_label']='Positive'\n",
    "dissatisfied_reviews.loc[(dissatisfied_reviews['NPS']>=7) & (dissatisfied_reviews['polarity_score']<0), 'polarity_score']*=-1\n",
    "\n",
    "dissatisfied_reviews.loc[dissatisfied_reviews['reviews'].str.contains('^(?=.*good)|(?=.*great)|(?=.*awesome)|(?=.*very much)|(?=.*friendly)|(?=.*appreciate)|(?=.*compassionate)|(?=.*went well)|(?=.*very thorough)|(?=.*assisted)|(?=.*easy)|(?=.*enjoyed)|(?=.*i like)|(?=.*i liked)|(?=.*nice)|(?=.*love)|(?=.*caring)|(?=.*impressed)|(?=.*knowledgeable)|(?=.*very comfortable)|(?=.*very professional)|(?=.*achieved)|(?=.*courteous)|(?=.*listen to what i had to say)|(?=.*right amount of time)|(?=.*on time)|(?=.*personable)|(?=.*efficient)|(?=.*fantastic)|(?=.*punctual)|(?=.*go over issues)|(?=.*got me in same day)|(?=.*all my concerns)|(?=.*everything)|(?=.*sat and talked)') & (dissatisfied_reviews['NPS']>=5), 'sentiment'] = 1\n",
    "dissatisfied_reviews.loc[dissatisfied_reviews['reviews'].str.contains('^(?=.*good)|(?=.*great)|(?=.*awesome)|(?=.*very much)|(?=.*friendly)|(?=.*appreciate)|(?=.*compassionate)|(?=.*went well)|(?=.*very thorough)|(?=.*assisted)|(?=.*easy)|(?=.*enjoyed)|(?=.*i like)|(?=.*i liked)|(?=.*nice)|(?=.*love)|(?=.*caring)|(?=.*impressed)|(?=.*knowledgeable)|(?=.*very comfortable)|(?=.*very professional)|(?=.*achieved)|(?=.*courteous)|(?=.*listen to what i had to say)|(?=.*right amount of time)|(?=.*on time)|(?=.*personable)|(?=.*efficient)|(?=.*fantastic)|(?=.*punctual)|(?=.*go over issues)|(?=.*got me in same day)|(?=.*all my concerns)|(?=.*everything)|(?=.*sat and talked)') & (dissatisfied_reviews['NPS']>=5), 'sentiment_label'] = 'Positive'\n",
    "dissatisfied_reviews.loc[(dissatisfied_reviews['polarity_score']<0) & (dissatisfied_reviews['sentiment_label']=='Positive'), 'polarity_score']*=-1\n",
    "#reason_for_nps_score_reviews.loc[(reason_for_nps_score_reviews['NPS']>=7) & (reason_for_nps_score_reviews['reviews'].str.contains('listen')) & (reason_for_nps_score_reviews['polarity_score']<0), 'polarity_score']*=-1\n",
    "#reason_for_nps_score_reviews.loc[(reason_for_nps_score_reviews['NPS']>=7) & (reason_for_nps_score_reviews['sentiment_label']=='Negative'), 'sentiment']=1\n",
    "#reason_for_nps_score_reviews.loc[(reason_for_nps_score_reviews['NPS']>=7) & (reason_for_nps_score_reviews['sentiment']==1), 'sentiment_label']='Positive'\n",
    "#reason_for_nps_score_reviews.loc[(reason_for_nps_score_reviews['polarity_score']<0) & (reason_for_nps_score_reviews['sentiment_label']=='Positive'), 'polarity_score']*=-1\n",
    "#reason_for_nps_score_reviews.loc[(reason_for_nps_score_reviews['polarity_score']==0) & (reason_for_nps_score_reviews['sentiment_label']=='Extreme'), 'polarity_score'] = 0\n",
    "dissatisfied_reviews"
   ]
  },
  {
   "cell_type": "code",
   "execution_count": null,
   "id": "765df9d2",
   "metadata": {
    "id": "765df9d2"
   },
   "outputs": [],
   "source": [
    "# Fixing polarity scores and related labels\n",
    "#dissatisfied_reviews.loc[dissatisfied_reviews['reviews'].str.contains('not sure|don t know'), 'sentiment'] = 0\n",
    "#dissatisfied_reviews.loc[dissatisfied_reviews['reviews'].str.contains('nothing') & (dissatisfied_reviews['NPS']<=4), 'sentiment'] = 0\n",
    "#dissatisfied_reviews.loc[dissatisfied_reviews['reviews'].str.contains('not sure|don t know'), 'sentiment_label'] = 'Neutral'\n",
    "#dissatisfied_reviews.loc[(dissatisfied_reviews['sentiment_label']=='Neutral') & (dissatisfied_reviews['sentiment']==0), 'polarity_score']=0\n",
    "#dissatisfied_reviews"
   ]
  },
  {
   "cell_type": "code",
   "execution_count": null,
   "id": "ac77eeaa",
   "metadata": {
    "id": "ac77eeaa"
   },
   "outputs": [],
   "source": [
    "dissatisfied_reviews.loc[dissatisfied_reviews['reviews'].str.contains('^(?=.*wasn t treated)|(?=.*not as caring)|(?=.*did not think)|(?=.*didn t think)|(?=.*did not get)|(?=.*didn t get)|(?=.*felt rushed)|(?=.*was rushed)|(?=.*seemed rushed)|(?=.*did not fix)|(?=.*didn t fix)|(?=.*didn t listen)|(?=.*did not listen)|(?=.*unprofessional)|(?=.*don t think)|(?=.*do not think)|(?=.*talked too much)|(?=.*took longer)|(?=.*didn t show)|(?=.*did not show)|(?=.*didn t look)|(?=.*did not look)|(?=.*not being treated)|(?=.*confused)|(?=.*did not recognize)|(?=.*didn t recognize)|(?=.*do not like)|(?=.*don t like)|(?=.*wasn t greeted)|(?=.*was not greeted)|(?=.*need to improve)|(?=.*no solution)|(?=.*didn t understand)|(?=.*did not understand)|(?=.*unorganized)|(?=.*no follow up)|(?=.*doesn t seem)|(?=.*does not seem)|(?=.*would not call)|(?=.*wouldn t call)|(?=.*not answered)|(?=.*no answer)|(?=.*not near as caring)|(?=.*already expressed)') & (dissatisfied_reviews['NPS']<=4), 'sentiment'] = -1\n",
    "dissatisfied_reviews.loc[dissatisfied_reviews['reviews'].str.contains('^(?=.*wasn t treated)|(?=.*not as caring)|(?=.*did not think)|(?=.*didn t think)|(?=.*did not get)|(?=.*didn t get)|(?=.*felt rushed)|(?=.*was rushed)|(?=.*seemed rushed)|(?=.*did not fix)|(?=.*didn t fix)|(?=.*didn t listen)|(?=.*did not listen)|(?=.*unprofessional)|(?=.*don t think)|(?=.*do not think)|(?=.*talked too much)|(?=.*took longer)|(?=.*didn t show)|(?=.*did not show)|(?=.*didn t look)|(?=.*did not look)|(?=.*not being treated)|(?=.*confused)|(?=.*did not recognize)|(?=.*didn t recognize)|(?=.*do not like)|(?=.*don t like)|(?=.*wasn t greeted)|(?=.*was not greeted)|(?=.*need to improve)|(?=.*no solution)|(?=.*didn t understand)|(?=.*did not understand)|(?=.*unorganized)|(?=.*no follow up)|(?=.*doesn t seem)|(?=.*does not seem)|(?=.*would not call)|(?=.*wouldn t call)|(?=.*not answered)|(?=.*no answer)|(?=.*not near as caring)|(?=.*already expressed)') & (dissatisfied_reviews['NPS']<=4), 'sentiment_label'] = 'Negative'\n",
    "dissatisfied_reviews.loc[dissatisfied_reviews['reviews'].str.contains('^(?=.*wasn t treated)|(?=.*not as caring)|(?=.*did not think)|(?=.*didn t think)|(?=.*did not get)|(?=.*didn t get)|(?=.*felt rushed)|(?=.*was rushed)|(?=.*seemed rushed)|(?=.*did not fix)|(?=.*didn t fix)|(?=.*didn t listen)|(?=.*did not listen)|(?=.*unprofessional)|(?=.*don t think)|(?=.*do not think)|(?=.*talked too much)|(?=.*took longer)|(?=.*didn t show)|(?=.*did not show)|(?=.*didn t look)|(?=.*did not look)|(?=.*not being treated)|(?=.*confused)|(?=.*did not recognize)|(?=.*didn t recognize)|(?=.*do not like)|(?=.*don t like)|(?=.*wasn t greeted)|(?=.*was not greeted)|(?=.*need to improve)|(?=.*no solution)|(?=.*didn t understand)|(?=.*did not understand)|(?=.*unorganized)|(?=.*no follow up)|(?=.*doesn t seem)|(?=.*does not seem)|(?=.*would not call)|(?=.*wouldn t call)|(?=.*not answered)|(?=.*no answer)|(?=.*not near as caring)|(?=.*already expressed)|(?=.*dirty)|(?=.*don t have resources)|(?=.*dont lie)|(?=.*too long)|(?=.*give proper)|(?=.*not treating)|(?=.*worthless)|(?=.*doesn t look well)|(?=.*don t get)|(?=.*way to long)|(?=.*not willing)|(?=.*no examination)|(?=.*failed)|(?=.*didn t follow up)|(?=.*doesn t follow up)|(?=.*was cold)|(?=.*little compassion)|(?=.*inexperienced)|(?=.*didn t even)|(?=.*needs to be cleaned)|(?=.*forgot to call)|(?=.*did not hear)|(?=.*superficial)|(?=.*afraid to touch)|(?=.*did not trust)|(?=.*far too long)|(?=.*don t have any resources)|(?=.*not happy)|(?=.*made me wait)|(?=.*awful)|(?=.*dirty)|(?=.*nobody grteeted)|(?=.*won t call)|(?=.*did not work)|(?=.*entire problem was)|(?=.*didn t even acknowledge)|(?=.*doesn t care)|(?=.*incompetent)|(?=.*not knowledgeable)|(?=.*didn t make appointment right)|(?=.*should not have)|(?=.*had to wait awhile)|(?=.*way too long)|(?=.*frustrating)|(?=.*they don t do)|(?=.*than the person you have hired)|(?=.*wasn t very clean)|(?=.*made me very sick)|(?=.*we were told)|(?=.*what is going on)|(?=.*don t recommend)|(?=.*only thing they cared about)|(?=.*did not seem to care)|(?=.*pretty disappointed)|(?=.*mess up my medicine)|(?=.*very demeaning)|(?=.*unfriendly)|(?=.*very disappointed)|(?=.*didn t have any good)|(?=.*wasn t much true interest)|(?=.*not acceptable)|(?=.*does not listen)|(?=.*did not listen)|(?=.*would not refill)|(?=.*not happening)|(?=.*not great)|(?=.*new very little)|(?=.*to long of a time)|(?=.*poor instructions)|(?=.*poor service)|(?=.*was charged an excessive amount)|(?=.*thrilled i was able)|(?=.*little slow)'), 'sentiment'] = -1\n",
    "dissatisfied_reviews.loc[dissatisfied_reviews['reviews'].str.contains('^(?=.*wasn t treated)|(?=.*not as caring)|(?=.*did not think)|(?=.*didn t think)|(?=.*did not get)|(?=.*didn t get)|(?=.*felt rushed)|(?=.*was rushed)|(?=.*seemed rushed)|(?=.*did not fix)|(?=.*didn t fix)|(?=.*didn t listen)|(?=.*did not listen)|(?=.*unprofessional)|(?=.*don t think)|(?=.*do not think)|(?=.*talked too much)|(?=.*took longer)|(?=.*didn t show)|(?=.*did not show)|(?=.*didn t look)|(?=.*did not look)|(?=.*not being treated)|(?=.*confused)|(?=.*did not recognize)|(?=.*didn t recognize)|(?=.*do not like)|(?=.*don t like)|(?=.*wasn t greeted)|(?=.*was not greeted)|(?=.*need to improve)|(?=.*no solution)|(?=.*didn t understand)|(?=.*did not understand)|(?=.*unorganized)|(?=.*no follow up)|(?=.*doesn t seem)|(?=.*does not seem)|(?=.*would not call)|(?=.*wouldn t call)|(?=.*not answered)|(?=.*no answer)|(?=.*not near as caring)|(?=.*already expressed)|(?=.*dirty)|(?=.*don t have resources)|(?=.*dont lie)|(?=.*too long)|(?=.*give proper)|(?=.*not treating)|(?=.*worthless)|(?=.*doesn t look well)|(?=.*don t get)|(?=.*way to long)|(?=.*not willing)|(?=.*no examination)|(?=.*failed)|(?=.*didn t follow up)|(?=.*doesn t follow up)|(?=.*was cold)|(?=.*little compassion)|(?=.*inexperienced)|(?=.*didn t even)|(?=.*needs to be cleaned)|(?=.*forgot to call)|(?=.*did not hear)|(?=.*superficial)|(?=.*afraid to touch)|(?=.*did not trust)|(?=.*far too long)|(?=.*don t have any resources)|(?=.*not happy)|(?=.*made me wait)|(?=.*awful)|(?=.*dirty)|(?=.*nobody grteeted)|(?=.*won t call)|(?=.*did not work)|(?=.*entire problem was)|(?=.*didn t even acknowledge)|(?=.*doesn t care)|(?=.*incompetent)|(?=.*not knowledgeable)|(?=.*didn t make appointment right)|(?=.*should not have)|(?=.*had to wait awhile)|(?=.*way too long)|(?=.*frustrating)|(?=.*they don t do)|(?=.*than the person you have hired)|(?=.*wasn t very clean)|(?=.*made me very sick)|(?=.*we were told)|(?=.*what is going on)|(?=.*don t recommend)|(?=.*only thing they cared about)|(?=.*did not seem to care)|(?=.*pretty disappointed)|(?=.*mess up my medicine)|(?=.*very demeaning)|(?=.*unfriendly)|(?=.*very disappointed)|(?=.*didn t have any good)|(?=.*wasn t much true interest)|(?=.*not acceptable)|(?=.*does not listen)|(?=.*did not listen)|(?=.*would not refill)|(?=.*not happening)|(?=.*not great)|(?=.*new very little)|(?=.*to long of a time)|(?=.*poor instructions)|(?=.*poor service)|(?=.*was charged an excessive amount)|(?=.*thrilled i was able)|(?=.*little slow)'), 'sentiment_label'] = 'Negative'\n",
    "dissatisfied_reviews.loc[(dissatisfied_reviews['polarity_score']>0) & (dissatisfied_reviews['sentiment_label']=='Negative'), 'polarity_score']*=-1"
   ]
  },
  {
   "cell_type": "code",
   "execution_count": null,
   "id": "nrjpJMRIz6Wr",
   "metadata": {
    "id": "nrjpJMRIz6Wr"
   },
   "outputs": [],
   "source": [
    "dissatisfied_reviews.loc[dissatisfied_reviews['reviews'].str.contains('^(?=.*amazing)|(?=.*can t think of anything)|(?=.*completely satisfied)|(?=.*no complaints)|(?=.*perfect)|(?=.*was fine)|(?=.*was nice)|(?=.*very happy)|(?=.*well communication)|(?=.*enough time with me)|(?=.*not a single thing)|(?=.*couldn t ask for anything more)|(?=.*very satisfied)|(?=.*nothing to say)|(?=.*nothing to report)|(?=.*very pleasant)|(?=.*was well)|(?=.*completely happy)|(?=.*was pleased)|(?=.*all employees use)|(?=.*super nice)|(?=.*never had a doctor spend)|(?=.*very pleased)|(?=.*it was okay)|(?=.*was quick)|(?=.*convenient high quality)|(?=.*very welcoming)|(?=.*provide great care)|(?=.*very nice)|(?=.*treat you like family)|(?=.*always on time)|(?=.*very helpful)|(?=.*i am fortunate)|(?=.*best coarse of action)|(?=.*very convenient)|(?=.*i iike the doctor)|(?=.*great service)|(?=.*wasn t too long)|(?=.*extremely convenient)|(?=.*service is good)|(?=.*i like being able to)|(?=.*overall i liked)|(?=.*paladinas the city s health)|(?=.*i enjoy the convenience)|(?=.*respect for my time)|(?=.*was easy to schedule)|(?=.*short waiting times)|(?=.*no waiting time)|(?=.*no hassle)|(?=.*very friendly)|(?=.*answered all my questions)|(?=.*very professional)|(?=.*so far so good)|(?=.*always seen on time)|(?=.*never feel rushed)|(?=.*friendly  timely)|(?=.*fast service)|(?=.*very accommodating)|(?=.*pleasent experience   nice staff)|(?=.*helpful and financially beneficial)|(?=.*ease of appointments)|(?=.*has a genuine concern)|(?=.*you feel that you are being heard)|(?=.*quick  affordable)|(?=.*convenient  fast  professional)|(?=.*excellent  thorough providers)|(?=.*very detailed check up)|(?=.*were kind)|(?=.*high quality of care)|(?=.*doctor listened to patient)|(?=.*doing a better job)|(?=.*ease of making an appointment)|(?=.*are just wonderful)|(?=.*very attentive)|(?=.*no wait times)|(?=.*felt comfortable)|(?=.*treated like a human a)|(?=.*felt welcoming)|(?=.*i am satisfied)|(?=.*quality of care and time)|(?=.*i enjoy)|(?=.*quick scheduling)|(?=.*was vey kind)|(?=.*was very kind)|(?=.*it was helpful)|(?=.*pretty thorough)|(?=.*was really thorough)|(?=.*listened to my concerns)|(?=.*listened to what i had to say)|(?=.*listened to all concerns)|(?=.*very responsive)|(?=.*very informative)|(?=.*cared about my well being)|(?=.*i feel welcomed)|(?=.*made me feel important)|(?=.*made me feel better)|(?=.*was very productive)|(?=.*gave me a lot of information)|(?=.*timely and kind)|(?=.*positive experience)|(?=.*personalized care)|(?=.*thank you)|(?=.*with professional courtesy)|(?=.*very positive environment)|(?=.*were wonderful)|(?=.*was thorough)|(?=.*non judgemental)|(?=.*very receptive)|(?=.*did not seem rushed)|(?=.*asked thorough questions)|(?=.* i felt confident)|(?=.*very little wait time)|(?=.*felt like an actual patient)|(?=.*she really cares)|(?=.*he really cares)|(?=.*treated me like a person)|(?=.*listened carefully and thoughtfully)|(?=.*was responsive)|(?=.*explained things really well)|(?=.*met me with respect)|(?=.*listened to my feedback)|(?=.*i felt heard)|(?=.*went very well)|(?=.*quick and thorough)|(?=.*made me comfortable)|(?=.*was explained in detail)|(?=.*kind and listened)|(?=.*got me in earlier)|(?=.*outstanding service)|(?=.*listened to my needs)|(?=.*very well prepared)|(?=.*i was welcomed)|(?=.*listened  welcoming)|(?=.*most important patient)|(?=.*spent a tremendous amount of time)|(?=.*very kind and polite)|(?=.*pleasant and thorough)|(?=.*pleasant and helpful)|(?=.*very prompt)|(?=.*very timely)|(?=.*asked good questions)|(?=.*is the best)|(?=.*pleasant and professional)|(?=.*was understanding)|(?=.*felt welcome and listened)|(?=.*everything went well)|(?=.*was pleasant)|(?=.*staff greeted me)|(?=.*everyone is sincere)|(?=.*polite and helpful)|(?=.*interactive and listened)|(?=.*found answers to my questions)|(?=.*kind and considerate)|(?=.*listened and responded)|(?=.*easy to schedule)|(?=.*always listen to my concerns)|(?=.*were professional)|(?=.*satisfied my needs)|(?=.*i was important)|(?=.*did not rush me)|(?=.*were addressed)|(?=.*was very respectful)|(?=.*didn t feel rushed)|(?=.*ease and timeliness)|(?=.*very patient and attentive)|(?=.*made sure i understood)|(?=.*took time to explain)|(?=.*very personal and understanding)|(?=.*very honest)|(?=.*very cared)|(?=.*always prepared)|(?=.*well cared)|(?=.*best dr visit)|(?=.*did not feel rushed)|(?=.*very quick)|(?=.*is a pleasure)|(?=.*patient centered)|(?=.*doctor really cares)|(?=.*spent as much time)|(?=.*expressed interested in me)|(?=.*took time to really talk)|(?=.*helped me with my issues)|(?=.*was incredibly calm)|(?=.*very warmly)|(?=.*listened to me first)|(?=.*without any wait time)|(?=.*always quick)|(?=.*was organized)|(?=.*very kind)|(?=.*i was able to make an appointment)|(?=.*helped clear up mysteries)|(?=.*was exceptional)|(?=.*we did not have to wait)|(?=.*i really like)|(?=.*made a personal connection)|(?=.*spent time in reviewing)|(?=.*spent quality time)|(?=.*gave me the information i needed)|(?=.*very personal)|(?=.*did not rush)|(?=.*have time to deal)|(?=.*was extremely thorough)|(?=.*has really helped)|(?=.*extra care was taken)|(?=.*took extra care)|(?=.*showed an interest)|(?=.*care and compassion)|(?=.*took his time)|(?=.*is nice  and caring)|(?=.*took the time to explain)|(?=.*talked to me and listened)|(?=.*made the patient feel comfortable)|(?=.*addressed the issue)|(?=.*listen and spent time)|(?=.*took her time with me)|(?=.*addressed my issue)|(?=.*i am so pleased)|(?=.*took the time to listen)|(?=.*i felt important  like a person)|(?=.*concise and responsive)|(?=.*didn t wait long)|(?=.*helped me understand)|(?=.*very well)|(?=.*very personal service)|(?=.*they followed the guidelines)|(?=.*started in a timely)|(?=.*was wonderful)|(?=.*very thoughtful)|(?=.*was genuinely interested)|(?=.*ran smoothly)|(?=.*i felt my concerns were important)|(?=.*assist was great)|(?=.*welcoming staff)|(?=.*they were very interested)|(?=.*i am treated)|(?=.*was treated with respect)|(?=.*can recommend to co workers)'), 'sentiment'] = 1\n",
    "dissatisfied_reviews.loc[dissatisfied_reviews['reviews'].str.contains('^(?=.*amazing)|(?=.*can t think of anything)|(?=.*completely satisfied)|(?=.*no complaints)|(?=.*perfect)|(?=.*was fine)|(?=.*was nice)|(?=.*very happy)|(?=.*well communication)|(?=.*enough time with me)|(?=.*not a single thing)|(?=.*couldn t ask for anything more)|(?=.*very satisfied)|(?=.*nothing to say)|(?=.*nothing to report)|(?=.*very pleasant)|(?=.*was well)|(?=.*completely happy)|(?=.*was pleased)|(?=.*all employees use)|(?=.*super nice)|(?=.*never had a doctor spend)|(?=.*very pleased)|(?=.*it was okay)|(?=.*was quick)|(?=.*convenient high quality)|(?=.*very welcoming)|(?=.*provide great care)|(?=.*very nice)|(?=.*treat you like family)|(?=.*always on time)|(?=.*very helpful)|(?=.*i am fortunate)|(?=.*best coarse of action)|(?=.*very convenient)|(?=.*i iike the doctor)|(?=.*great service)|(?=.*wasn t too long)|(?=.*extremely convenient)|(?=.*service is good)|(?=.*i like being able to)|(?=.*overall i liked)|(?=.*paladinas the city s health)|(?=.*i enjoy the convenience)|(?=.*respect for my time)|(?=.*was easy to schedule)|(?=.*short waiting times)|(?=.*no waiting time)|(?=.*no hassle)|(?=.*very friendly)|(?=.*answered all my questions)|(?=.*very professional)|(?=.*so far so good)|(?=.*always seen on time)|(?=.*never feel rushed)|(?=.*friendly  timely)|(?=.*fast service)|(?=.*very accommodating)|(?=.*pleasent experience   nice staff)|(?=.*helpful and financially beneficial)|(?=.*ease of appointments)|(?=.*has a genuine concern)|(?=.*you feel that you are being heard)|(?=.*quick  affordable)|(?=.*convenient  fast  professional)|(?=.*excellent  thorough providers)|(?=.*very detailed check up)|(?=.*were kind)|(?=.*high quality of care)|(?=.*doctor listened to patient)|(?=.*doing a better job)|(?=.*ease of making an appointment)|(?=.*are just wonderful)|(?=.*very attentive)|(?=.*no wait times)|(?=.*felt comfortable)|(?=.*treated like a human a)|(?=.*felt welcoming)|(?=.*i am satisfied)|(?=.*quality of care and time)|(?=.*i enjoy)|(?=.*quick scheduling)|(?=.*was vey kind)|(?=.*was very kind)|(?=.*it was helpful)|(?=.*pretty thorough)|(?=.*was really thorough)|(?=.*listened to my concerns)|(?=.*listened to what i had to say)|(?=.*listened to all concerns)|(?=.*very responsive)|(?=.*very informative)|(?=.*cared about my well being)|(?=.*i feel welcomed)|(?=.*made me feel important)|(?=.*made me feel better)|(?=.*was very productive)|(?=.*gave me a lot of information)|(?=.*timely and kind)|(?=.*positive experience)|(?=.*personalized care)|(?=.*thank you)|(?=.*with professional courtesy)|(?=.*very positive environment)|(?=.*were wonderful)|(?=.*was thorough)|(?=.*non judgemental)|(?=.*very receptive)|(?=.*did not seem rushed)|(?=.*asked thorough questions)|(?=.* i felt confident)|(?=.*very little wait time)|(?=.*felt like an actual patient)|(?=.*she really cares)|(?=.*he really cares)|(?=.*treated me like a person)|(?=.*listened carefully and thoughtfully)|(?=.*was responsive)|(?=.*explained things really well)|(?=.*met me with respect)|(?=.*listened to my feedback)|(?=.*i felt heard)|(?=.*went very well)|(?=.*quick and thorough)|(?=.*made me comfortable)|(?=.*was explained in detail)|(?=.*kind and listened)|(?=.*got me in earlier)|(?=.*outstanding service)|(?=.*listened to my needs)|(?=.*very well prepared)|(?=.*i was welcomed)|(?=.*listened  welcoming)|(?=.*most important patient)|(?=.*spent a tremendous amount of time)|(?=.*very kind and polite)|(?=.*pleasant and thorough)|(?=.*pleasant and helpful)|(?=.*very prompt)|(?=.*very timely)|(?=.*asked good questions)|(?=.*is the best)|(?=.*pleasant and professional)|(?=.*was understanding)|(?=.*felt welcome and listened)|(?=.*everything went well)|(?=.*was pleasant)|(?=.*staff greeted me)|(?=.*everyone is sincere)|(?=.*polite and helpful)|(?=.*interactive and listened)|(?=.*found answers to my questions)|(?=.*kind and considerate)|(?=.*listened and responded)|(?=.*easy to schedule)|(?=.*always listen to my concerns)|(?=.*were professional)|(?=.*satisfied my needs)|(?=.*i was important)|(?=.*did not rush me)|(?=.*were addressed)|(?=.*was very respectful)|(?=.*didn t feel rushed)|(?=.*ease and timeliness)|(?=.*very patient and attentive)|(?=.*made sure i understood)|(?=.*took time to explain)|(?=.*very personal and understanding)|(?=.*very honest)|(?=.*very cared)|(?=.*always prepared)|(?=.*well cared)|(?=.*best dr visit)|(?=.*did not feel rushed)|(?=.*very quick)|(?=.*is a pleasure)|(?=.*patient centered)|(?=.*doctor really cares)|(?=.*spent as much time)|(?=.*expressed interested in me)|(?=.*took time to really talk)|(?=.*helped me with my issues)|(?=.*was incredibly calm)|(?=.*very warmly)|(?=.*listened to me first)|(?=.*without any wait time)|(?=.*always quick)|(?=.*was organized)|(?=.*very kind)|(?=.*i was able to make an appointment)|(?=.*helped clear up mysteries)|(?=.*was exceptional)|(?=.*we did not have to wait)|(?=.*i really like)|(?=.*made a personal connection)|(?=.*spent time in reviewing)|(?=.*spent quality time)|(?=.*gave me the information i needed)|(?=.*very personal)|(?=.*did not rush)|(?=.*have time to deal)|(?=.*was extremely thorough)|(?=.*has really helped)|(?=.*extra care was taken)|(?=.*took extra care)|(?=.*showed an interest)|(?=.*care and compassion)|(?=.*took his time)|(?=.*is nice  and caring)|(?=.*took the time to explain)|(?=.*talked to me and listened)|(?=.*made the patient feel comfortable)|(?=.*addressed the issue)|(?=.*listen and spent time)|(?=.*took her time with me)|(?=.*addressed my issue)|(?=.*i am so pleased)|(?=.*took the time to listen)|(?=.*i felt important  like a person)|(?=.*concise and responsive)|(?=.*didn t wait long)|(?=.*helped me understand)|(?=.*very well)|(?=.*very personal service)|(?=.*they followed the guidelines)|(?=.*started in a timely)|(?=.*was wonderful)|(?=.*very thoughtful)|(?=.*was genuinely interested)|(?=.*ran smoothly)|(?=.*i felt my concerns were important)|(?=.*assist was great)|(?=.*welcoming staff)|(?=.*they were very interested)|(?=.*i am treated)|(?=.*was treated with respect)|(?=.*can recommend to co workers)'), 'sentiment_label'] = 'Positive'\n",
    "dissatisfied_reviews.loc[dissatisfied_reviews['reviews'].str.contains('^(?=convenient)') & (dissatisfied_reviews['NPS']==6), 'sentiment_label'] = 'Positive'\n",
    "dissatisfied_reviews.loc[(dissatisfied_reviews['polarity_score']<0) & (dissatisfied_reviews['sentiment_label']=='Positive'), 'polarity_score']*=-1"
   ]
  },
  {
   "cell_type": "code",
   "execution_count": null,
   "id": "49a73ff7",
   "metadata": {
    "id": "49a73ff7"
   },
   "outputs": [],
   "source": [
    "dissatisfied_reviews.loc[(dissatisfied_reviews['NPS']>=9) & (dissatisfied_reviews['NPS']<=10), 'nps_label'] = 'Promoter'\n",
    "dissatisfied_reviews.loc[(dissatisfied_reviews['NPS']>=7) & (dissatisfied_reviews['NPS']<=8), 'nps_label'] = 'Passive'\n",
    "dissatisfied_reviews.loc[dissatisfied_reviews['NPS']<=6, 'nps_label'] = 'Detractors'"
   ]
  },
  {
   "cell_type": "code",
   "execution_count": null,
   "id": "725ccd55",
   "metadata": {
    "id": "725ccd55",
    "outputId": "d51c1c82-d311-4aaf-9410-9e2c870147e9"
   },
   "outputs": [],
   "source": [
    "dissatisfied_reviews['nps_label'].value_counts()"
   ]
  },
  {
   "cell_type": "code",
   "execution_count": null,
   "id": "af2ab119",
   "metadata": {
    "id": "af2ab119",
    "outputId": "2d4f3235-1b53-4c92-c2d3-b9f1e41ab90e"
   },
   "outputs": [],
   "source": [
    "dissatisfied_complete_data = pd.DataFrame()\n",
    "dissatisfied_complete_data['ID'] = dissatisfied_reviews['ID']\n",
    "dissatisfied_complete_data['reviews'] = dissatisfied_reviews['reviews']\n",
    "dissatisfied_complete_data['date'] = dissatisfied_reviews['date']\n",
    "dissatisfied_complete_data['nps_score'] = dissatisfied_reviews['NPS']\n",
    "dissatisfied_complete_data['clinic'] = dissatisfied_reviews['clinic']\n",
    "dissatisfied_complete_data['city'] = dissatisfied_reviews['city']\n",
    "dissatisfied_complete_data['state'] = dissatisfied_reviews['state']\n",
    "dissatisfied_complete_data['polarity_score'] = dissatisfied_reviews['polarity_score']\n",
    "dissatisfied_complete_data['label'] = dissatisfied_reviews['sentiment_label']\n",
    "dissatisfied_complete_data['nps_label'] = dissatisfied_reviews['nps_label']\n",
    "dissatisfied_complete_data.to_csv(\"dissatisfied_complete_data.csv\")\n",
    "dissatisfied_complete_data"
   ]
  },
  {
   "cell_type": "code",
   "execution_count": null,
   "id": "84b66cdd",
   "metadata": {
    "id": "84b66cdd",
    "outputId": "953c39aa-77b5-4569-e8ba-45064c931022"
   },
   "outputs": [],
   "source": [
    "dissatisfied_sentiment_count = dissatisfied_reviews[['sentiment']].value_counts()\n",
    "dissatisfied_sentiment_count"
   ]
  },
  {
   "cell_type": "code",
   "execution_count": null,
   "id": "0287e4c6",
   "metadata": {
    "id": "0287e4c6"
   },
   "outputs": [],
   "source": [
    "dissatisfied_reviews.to_csv(\"dissatisfied_reviews.csv\")"
   ]
  },
  {
   "cell_type": "code",
   "execution_count": null,
   "id": "4ef53823",
   "metadata": {
    "id": "4ef53823",
    "outputId": "3bd720dc-2c22-4113-b054-6505ee02a270"
   },
   "outputs": [],
   "source": [
    "dissatisfied_crosstab = pd.crosstab(dissatisfied_reviews.sentiment_label, dissatisfied_reviews.nps_label)\n",
    "dissatisfied_crosstab.to_csv(\"dissatisfied_crosstab.csv\")\n",
    "dissatisfied_crosstab"
   ]
  },
  {
   "cell_type": "code",
   "execution_count": null,
   "id": "4daa1916",
   "metadata": {
    "id": "4daa1916",
    "outputId": "6bf6a8f2-2f1b-4916-f369-e0f3c8f3eb79"
   },
   "outputs": [],
   "source": [
    "# Creating visualization using sns for exploratory analysis\n",
    "sns.pairplot(dissatisfied_reviews, hue = 'sentiment_label')"
   ]
  },
  {
   "cell_type": "code",
   "execution_count": null,
   "id": "0c1a154c",
   "metadata": {
    "id": "0c1a154c",
    "outputId": "f166d684-305b-4f72-a7e2-76d56825e516"
   },
   "outputs": [],
   "source": [
    "dissatisfied_positive = dissatisfied_reviews[dissatisfied_reviews['sentiment_label'].str.contains(r'Positive')]\n",
    "dissatisfied_positive"
   ]
  },
  {
   "cell_type": "code",
   "execution_count": null,
   "id": "ceea4bfa",
   "metadata": {
    "id": "ceea4bfa",
    "outputId": "54a9e166-e418-4422-8803-9838ec784be3"
   },
   "outputs": [],
   "source": [
    "dissatisfied_negative = dissatisfied_reviews[dissatisfied_reviews['sentiment_label'].str.contains(r'Negative')]\n",
    "dissatisfied_negative"
   ]
  },
  {
   "cell_type": "code",
   "execution_count": null,
   "id": "acf74016",
   "metadata": {
    "id": "acf74016",
    "outputId": "ddcf53bd-f94f-4f87-ce0f-6910bbad5622"
   },
   "outputs": [],
   "source": [
    "dissatisfied_neutral = dissatisfied_reviews[dissatisfied_reviews['sentiment_label'].str.contains(r'Neutral')]\n",
    "dissatisfied_neutral"
   ]
  },
  {
   "cell_type": "code",
   "execution_count": null,
   "id": "47070b10",
   "metadata": {
    "id": "47070b10",
    "outputId": "e814c16c-921a-4cc6-a64e-cb87e0981242"
   },
   "outputs": [],
   "source": [
    "dissatisfied_extreme = dissatisfied_reviews[dissatisfied_reviews['sentiment_label'].str.contains(r'Extreme')]\n",
    "dissatisfied_extreme"
   ]
  },
  {
   "cell_type": "code",
   "execution_count": null,
   "id": "33056223",
   "metadata": {
    "id": "33056223",
    "outputId": "09f1b5a7-c35f-457f-8df8-7ea9b9d878bd"
   },
   "outputs": [],
   "source": [
    "dissatisfied_promoters = dissatisfied_reviews[dissatisfied_reviews['nps_label'].str.contains(r'Promoter')]\n",
    "dissatisfied_promoters.head(10)"
   ]
  },
  {
   "cell_type": "code",
   "execution_count": null,
   "id": "97484183",
   "metadata": {
    "id": "97484183",
    "outputId": "e8df4dd7-12d1-4218-ac44-d3522f20413c"
   },
   "outputs": [],
   "source": [
    "dissatisfied_passive = dissatisfied_reviews[dissatisfied_reviews['nps_label'].str.contains(r'Passive')].head(10)\n",
    "dissatisfied_passive"
   ]
  },
  {
   "cell_type": "code",
   "execution_count": null,
   "id": "3ae4fe6a",
   "metadata": {
    "id": "3ae4fe6a",
    "outputId": "80c80b70-9b97-450e-9ee9-35b26ea230d8"
   },
   "outputs": [],
   "source": [
    "dissatisfied_detractors = dissatisfied_reviews[dissatisfied_reviews['nps_label'].str.contains(r'Detractor')]\n",
    "dissatisfied_detractors.head(10)"
   ]
  },
  {
   "cell_type": "code",
   "execution_count": null,
   "id": "982151f9",
   "metadata": {
    "id": "982151f9"
   },
   "outputs": [],
   "source": [
    "dissatisfied_reviews.to_csv(\"dissatisfied_reviews.csv\")"
   ]
  },
  {
   "cell_type": "code",
   "execution_count": null,
   "id": "b56b7f7a",
   "metadata": {
    "id": "b56b7f7a",
    "outputId": "7a85bd8a-3ffd-4969-84ac-7ae7b7f1f161"
   },
   "outputs": [],
   "source": [
    "ngrams = c_vec.fit_transform(dissatisfied_reviews['reviews'])\n",
    "count_values = ngrams.toarray().sum(axis=0)\n",
    "vocab = c_vec.vocabulary_\n",
    "dissatisfied_grams = pd.DataFrame(sorted([(count_values[i],k) for k,i in vocab.items()], reverse=True)).rename(columns={0: 'frequency', 1:'word_group'})\n",
    "dissatisfied_grams['question_type'] = \"what did not went well\"\n",
    "dissatisfied_grams.to_csv(\"dissatisfied_frequency.csv\")\n",
    "dissatisfied_grams"
   ]
  },
  {
   "cell_type": "code",
   "execution_count": null,
   "id": "6cc2c661",
   "metadata": {
    "id": "6cc2c661",
    "outputId": "375397f8-5d33-419e-ded6-e8261b30aa6e"
   },
   "outputs": [],
   "source": [
    "ngrams = c_vec.fit_transform(dissatisfied_positive['reviews'])\n",
    "count_values = ngrams.toarray().sum(axis=0)\n",
    "vocab = c_vec.vocabulary_\n",
    "dissatisfied_positive_grams = pd.DataFrame(sorted([(count_values[i],k) for k,i in vocab.items()], reverse=True)).rename(columns={0: 'frequency', 1:'word_group'})\n",
    "dissatisfied_positive_grams.to_csv(\"dissatisfied_positive_frequency.csv\")\n",
    "dissatisfied_positive_grams"
   ]
  },
  {
   "cell_type": "code",
   "execution_count": null,
   "id": "f9d741aa",
   "metadata": {
    "id": "f9d741aa",
    "outputId": "a1f7670a-e60a-4bbb-8e6b-04bcc3636500"
   },
   "outputs": [],
   "source": [
    "ngrams = c_vec.fit_transform(dissatisfied_negative['reviews'])\n",
    "count_values = ngrams.toarray().sum(axis=0)\n",
    "vocab = c_vec.vocabulary_\n",
    "dissatisfied_negative_grams = pd.DataFrame(sorted([(count_values[i],k) for k,i in vocab.items()], reverse=True)).rename(columns={0: 'frequency', 1:'word_group'})\n",
    "dissatisfied_negative_grams.to_csv(\"dissatisfied_negative_frequency.csv\")\n",
    "dissatisfied_negative_grams"
   ]
  },
  {
   "cell_type": "code",
   "execution_count": null,
   "id": "6b920a0a",
   "metadata": {
    "id": "6b920a0a",
    "outputId": "7c26bc0b-913e-405e-e8c6-9e3eb65dc7c6"
   },
   "outputs": [],
   "source": [
    "ngrams = c_vec.fit_transform(dissatisfied_neutral['reviews'])\n",
    "count_values = ngrams.toarray().sum(axis=0)\n",
    "vocab = c_vec.vocabulary_\n",
    "dissatisfied_neutral_grams = pd.DataFrame(sorted([(count_values[i],k) for k,i in vocab.items()], reverse=True)).rename(columns={0: 'frequency', 1:'word_group'})\n",
    "dissatisfied_neutral_grams.to_csv(\"dissatisfied_neutral_frequency.csv\")\n",
    "dissatisfied_neutral_grams"
   ]
  },
  {
   "cell_type": "code",
   "execution_count": null,
   "id": "c0acc29d",
   "metadata": {
    "id": "c0acc29d",
    "outputId": "3a6b18a2-f6cd-4733-b653-ec7f59c5e3c1"
   },
   "outputs": [],
   "source": [
    "dissatisfied_grams_json = json.dumps([{\"word_group\": topic, \"frequency\": frequency} for frequency,topic in zip(dissatisfied_grams['frequency'], dissatisfied_grams['word_group'])])\n",
    "dissatisfied_grams_json"
   ]
  },
  {
   "cell_type": "code",
   "execution_count": null,
   "id": "e710d5f2",
   "metadata": {
    "id": "e710d5f2"
   },
   "outputs": [],
   "source": [
    "with open(\"dissatisfied_frequency.json\", \"w\") as dissatisfied_topics_file:\n",
    "    dissatisfied_topics_file.write(dissatisfied_grams_json)\n",
    "dissatisfied_topics_file.close()"
   ]
  },
  {
   "cell_type": "code",
   "execution_count": null,
   "id": "34acdb3a",
   "metadata": {
    "id": "34acdb3a",
    "outputId": "fce612bb-8384-440c-842e-aec19195ec31"
   },
   "outputs": [],
   "source": [
    "dissatisfied_positive_grams_json = json.dumps([{\"word_group\": topic, \"frequency\": frequency} for frequency,topic in zip(dissatisfied_positive_grams['frequency'], dissatisfied_positive_grams['word_group'])])\n",
    "dissatisfied_positive_grams_json"
   ]
  },
  {
   "cell_type": "code",
   "execution_count": null,
   "id": "25db15a1",
   "metadata": {
    "id": "25db15a1"
   },
   "outputs": [],
   "source": [
    "with open(\"dissatisfied_positive_frequency.json\", \"w\") as dissatisfied_positive_topics_file:\n",
    "    dissatisfied_positive_topics_file.write(dissatisfied_positive_grams_json)\n",
    "dissatisfied_positive_topics_file.close()"
   ]
  },
  {
   "cell_type": "code",
   "execution_count": null,
   "id": "1f334b54",
   "metadata": {
    "id": "1f334b54",
    "outputId": "eee789d0-5faa-49d0-cf62-2ffbbefd4361"
   },
   "outputs": [],
   "source": [
    "dissatisfied_negative_grams_json = json.dumps([{\"word_group\": topic, \"frequency\": frequency} for frequency,topic in zip(dissatisfied_negative_grams['frequency'], dissatisfied_negative_grams['word_group'])])\n",
    "dissatisfied_negative_grams_json"
   ]
  },
  {
   "cell_type": "code",
   "execution_count": null,
   "id": "9b7804d6",
   "metadata": {
    "id": "9b7804d6"
   },
   "outputs": [],
   "source": [
    "with open(\"dissatisfied_negative_frequency.json\", \"w\") as dissatisfied_negative_topics_file:\n",
    "    dissatisfied_negative_topics_file.write(dissatisfied_negative_grams_json)\n",
    "dissatisfied_negative_topics_file.close()"
   ]
  },
  {
   "cell_type": "code",
   "execution_count": null,
   "id": "32378fa6",
   "metadata": {
    "id": "32378fa6",
    "outputId": "f3dd4d8c-f74f-44c8-fd63-5a877ed32b1f"
   },
   "outputs": [],
   "source": [
    "dissatisfied_neutral_grams_json = json.dumps([{\"word_group\": topic, \"frequency\": frequency} for frequency,topic in zip(dissatisfied_neutral_grams['frequency'], dissatisfied_neutral_grams['word_group'])])\n",
    "dissatisfied_neutral_grams_json"
   ]
  },
  {
   "cell_type": "code",
   "execution_count": null,
   "id": "bd0cc311",
   "metadata": {
    "id": "bd0cc311"
   },
   "outputs": [],
   "source": [
    "with open(\"dissatisfied_neutral_frequency.json\", \"w\") as dissatisfied_neutral_topics_file:\n",
    "    dissatisfied_neutral_topics_file.write(dissatisfied_neutral_grams_json)\n",
    "dissatisfied_neutral_topics_file.close()"
   ]
  },
  {
   "cell_type": "code",
   "execution_count": null,
   "id": "7dd0c432",
   "metadata": {
    "id": "7dd0c432",
    "outputId": "4916a60d-bbad-444c-a3ab-f9ec8e6ff4aa"
   },
   "outputs": [],
   "source": [
    "dissatisfied_top_positive = dissatisfied_reviews[['reviews','polarity_score','sentiment_label']].sort_values(by='polarity_score', ascending=False).head(5)\n",
    "dissatisfied_top_positive"
   ]
  },
  {
   "cell_type": "code",
   "execution_count": null,
   "id": "f0f29cd4",
   "metadata": {
    "id": "f0f29cd4",
    "outputId": "9713e148-ddc0-4c86-917d-490bd4cb5cbc"
   },
   "outputs": [],
   "source": [
    "dissatisfied_top_negative = dissatisfied_reviews[['reviews','polarity_score','sentiment_label']].sort_values(by='polarity_score', ascending=True).head(5)\n",
    "dissatisfied_top_negative"
   ]
  },
  {
   "cell_type": "code",
   "execution_count": null,
   "id": "c37566fd",
   "metadata": {
    "id": "c37566fd",
    "outputId": "923f6b24-c3c1-4baf-f58f-ec170f4ea7f5"
   },
   "outputs": [],
   "source": [
    "dissatisfied_json = json.dumps([{\"ID\": id, \"review\": review, \"label\": label, \"polarity_score\": polarity_score, \"nps_score\": nps_score, \"nps_label\": nps_label, \"date\": date, \"clinic\": clinic, \"city\": city, \"state\": state} for id,review,label,polarity_score,nps_score,nps_label,date,clinic,city,state in zip(dissatisfied_reviews['ID'], dissatisfied_reviews['reviews'], dissatisfied_reviews['sentiment_label'], dissatisfied_reviews['polarity_score'], dissatisfied_reviews['NPS'], dissatisfied_reviews['nps_label'], dissatisfied_reviews['date'], dissatisfied_reviews['clinic'], dissatisfied_reviews['city'], dissatisfied_reviews['state'])])\n",
    "dissatisfied_json"
   ]
  },
  {
   "cell_type": "code",
   "execution_count": null,
   "id": "fcaf2391",
   "metadata": {
    "id": "fcaf2391"
   },
   "outputs": [],
   "source": [
    "with open(\"dissatisfied_reviews.json\", \"w\") as dissatisfied_json_file:\n",
    "    dissatisfied_json_file.write(dissatisfied_json)\n",
    "dissatisfied_json_file.close()"
   ]
  },
  {
   "cell_type": "code",
   "execution_count": null,
   "id": "7f673352",
   "metadata": {
    "id": "7f673352",
    "outputId": "c089af77-cb73-4f7f-abdf-f3788608feb0"
   },
   "outputs": [],
   "source": [
    "dissatisfied_positive_length = len(satisfied_positive)\n",
    "dissatisfied_negative_length = len(satisfied_negative)\n",
    "dissatisfied_neutral_length = len(satisfied_neutral)\n",
    "dissatisfied_extreme_length = len(dissatisfied_extreme)\n",
    "dissatisfied_total_promoters = int(len(dissatisfied_promoters))\n",
    "dissatisfied_total_passive = int(len(dissatisfied_passive))\n",
    "dissatisfied_total_detractors = int(len(dissatisfied_detractors))\n",
    "dissatisfied_total_length = len(dissatisfied_reviews)\n",
    "\n",
    "dissatisfied_json_total = json.dumps([{\"total_positive\": dissatisfied_positive_length, \"total_negative\": dissatisfied_negative_length, \"total_neutral\": dissatisfied_neutral_length, \"total_extreme\": dissatisfied_extreme_length, \"total_promoters\": dissatisfied_total_promoters, \"total_passive\": dissatisfied_total_passive, \"total_detractors\": dissatisfied_total_detractors, \"total_comments\": dissatisfied_total_length}])\n",
    "dissatisfied_json_total"
   ]
  },
  {
   "cell_type": "code",
   "execution_count": null,
   "id": "baaf3eff",
   "metadata": {
    "id": "baaf3eff"
   },
   "outputs": [],
   "source": [
    "with open(\"dissatisfied_total_data.json\", \"w\") as dissatisfied_total_file:\n",
    "    dissatisfied_total_file.write(dissatisfied_json_total)\n",
    "dissatisfied_total_file.close()"
   ]
  },
  {
   "cell_type": "code",
   "execution_count": null,
   "id": "c9d5af0b",
   "metadata": {
    "id": "c9d5af0b",
    "outputId": "44b18fd5-50b9-4a9a-80ab-c475f4b5617d"
   },
   "outputs": [],
   "source": [
    "dissatisfied_top_five_positive_json = json.dumps([{\"review\": review, \"label\": label, \"polarity_score\": polarity_score} for review,label,polarity_score in zip(dissatisfied_top_positive['reviews'], dissatisfied_top_positive['sentiment_label'], dissatisfied_top_positive['polarity_score'])])\n",
    "dissatisfied_top_five_positive_json"
   ]
  },
  {
   "cell_type": "code",
   "execution_count": null,
   "id": "f88bf70e",
   "metadata": {
    "id": "f88bf70e",
    "outputId": "c7457a36-6500-43f6-d000-f64f1db52266"
   },
   "outputs": [],
   "source": [
    "dissatisfied_top_five_negative_json = json.dumps([{\"review\": review, \"label\": label, \"polarity_score\": polarity_score} for review,label,polarity_score in zip(dissatisfied_top_negative['reviews'], dissatisfied_top_negative['sentiment_label'], dissatisfied_top_negative['polarity_score'])])\n",
    "dissatisfied_top_five_negative_json"
   ]
  },
  {
   "cell_type": "code",
   "execution_count": null,
   "id": "9735679d",
   "metadata": {
    "id": "9735679d"
   },
   "outputs": [],
   "source": [
    "with open(\"dissatisfied_top_five_positive.json\", \"w\") as dissatisfied_top_positive_file:\n",
    "    dissatisfied_top_positive_file.write(dissatisfied_top_five_positive_json)\n",
    "dissatisfied_top_positive_file.close()\n",
    "with open(\"dissatisfied_top_five_negative.json\", \"w\") as dissatisfied_top_negative_file:\n",
    "    dissatisfied_top_negative_file.write(dissatisfied_top_five_negative_json)\n",
    "dissatisfied_top_negative_file.close()"
   ]
  },
  {
   "cell_type": "code",
   "execution_count": null,
   "id": "54712ad4",
   "metadata": {
    "id": "54712ad4",
    "outputId": "26931149-ad5d-414d-ef66-ac96b6545a02"
   },
   "outputs": [],
   "source": [
    "dissatisfied_positive_json = json.dumps([{\"ID\": id, \"review\": review, \"label\": label, \"polarity_score\": polarity_score, \"nps_score\": nps_score, \"nps_label\": nps_label, \"date\": date, \"clinic\": clinic, \"city\": city, \"state\": state} for id,review,label,polarity_score,nps_score,nps_label,date,clinic,city,state in zip(dissatisfied_positive['ID'], dissatisfied_positive['reviews'], dissatisfied_positive['sentiment_label'], dissatisfied_positive['polarity_score'], dissatisfied_positive['NPS'], dissatisfied_positive['nps_label'], dissatisfied_positive['date'], dissatisfied_positive['clinic'], dissatisfied_positive['city'], dissatisfied_positive['state'])])\n",
    "dissatisfied_positive_json"
   ]
  },
  {
   "cell_type": "code",
   "execution_count": null,
   "id": "e1ddd0fb",
   "metadata": {
    "id": "e1ddd0fb"
   },
   "outputs": [],
   "source": [
    "with open(\"dissatisfied_positive.json\", \"w\") as dissatisfied_positive_file:\n",
    "    dissatisfied_positive_file.write(dissatisfied_positive_json)\n",
    "dissatisfied_positive_file.close()"
   ]
  },
  {
   "cell_type": "code",
   "execution_count": null,
   "id": "1d586e11",
   "metadata": {
    "id": "1d586e11",
    "outputId": "76fff09b-e0f3-4aa3-aa25-2666d625b3d4"
   },
   "outputs": [],
   "source": [
    "dissatisfied_negative_json = json.dumps([{\"ID\": id, \"review\": review, \"label\": label, \"polarity_score\": polarity_score, \"nps_score\": nps_score, \"nps_label\": nps_label, \"date\": date, \"clinic\": clinic, \"city\": city, \"state\": state} for id,review,label,polarity_score,nps_score,nps_label,date,clinic,city,state in zip(dissatisfied_negative['ID'], dissatisfied_negative['reviews'], dissatisfied_negative['sentiment_label'], dissatisfied_negative['polarity_score'], dissatisfied_negative['NPS'], dissatisfied_negative['nps_label'], dissatisfied_negative['date'], dissatisfied_negative['clinic'], dissatisfied_negative['city'], dissatisfied_negative['state'])])\n",
    "dissatisfied_negative_json"
   ]
  },
  {
   "cell_type": "code",
   "execution_count": null,
   "id": "7ca9808e",
   "metadata": {
    "id": "7ca9808e"
   },
   "outputs": [],
   "source": [
    "with open(\"dissatisfied_negative.json\", \"w\") as dissatisfied_negative_file:\n",
    "    dissatisfied_negative_file.write(dissatisfied_negative_json)\n",
    "dissatisfied_negative_file.close()"
   ]
  },
  {
   "cell_type": "code",
   "execution_count": null,
   "id": "b9afa6df",
   "metadata": {
    "id": "b9afa6df",
    "outputId": "dd9abe54-4c7d-4a55-a6ce-dd31a9a33050"
   },
   "outputs": [],
   "source": [
    "dissatisfied_neutral_json = json.dumps([{\"ID\": id, \"review\": review, \"label\": label, \"polarity_score\": polarity_score, \"nps_score\": nps_score, \"nps_label\": nps_label, \"date\": date, \"clinic\": clinic, \"city\": city, \"state\": state} for id,review,label,polarity_score,nps_score,nps_label,date,clinic,city,state in zip(dissatisfied_neutral['ID'], dissatisfied_neutral['reviews'], dissatisfied_neutral['sentiment_label'], dissatisfied_neutral['polarity_score'], dissatisfied_neutral['NPS'], dissatisfied_neutral['nps_label'], dissatisfied_neutral['date'], dissatisfied_neutral['clinic'], dissatisfied_neutral['city'], dissatisfied_neutral['state'])])\n",
    "dissatisfied_neutral_json"
   ]
  },
  {
   "cell_type": "code",
   "execution_count": null,
   "id": "1065dc75",
   "metadata": {
    "id": "1065dc75"
   },
   "outputs": [],
   "source": [
    "with open(\"dissatisfied_neutral.json\", \"w\") as dissatisfied_neutral_file:\n",
    "    dissatisfied_neutral_file.write(dissatisfied_neutral_json)\n",
    "dissatisfied_neutral_file.close()"
   ]
  },
  {
   "cell_type": "code",
   "execution_count": null,
   "id": "48fed61b",
   "metadata": {
    "id": "48fed61b",
    "outputId": "c267bb11-098a-4711-dfa1-873002f0162b"
   },
   "outputs": [],
   "source": [
    "dissatisfied_extreme_json = json.dumps([{\"ID\": id, \"review\": review, \"label\": label, \"polarity_score\": polarity_score, \"nps_score\": nps_score, \"nps_label\": nps_label, \"date\": date, \"clinic\": clinic, \"city\": city, \"state\": state} for id,review,label,polarity_score,nps_score,nps_label,date,clinic,city,state in zip(dissatisfied_extreme['ID'], dissatisfied_extreme['reviews'], dissatisfied_extreme['sentiment_label'], dissatisfied_extreme['polarity_score'], dissatisfied_extreme['NPS'], dissatisfied_extreme['nps_label'], dissatisfied_extreme['date'], dissatisfied_extreme['clinic'], dissatisfied_extreme['city'], dissatisfied_extreme['state'])])\n",
    "dissatisfied_extreme_json"
   ]
  },
  {
   "cell_type": "code",
   "execution_count": null,
   "id": "eda362aa",
   "metadata": {
    "id": "eda362aa"
   },
   "outputs": [],
   "source": [
    "with open(\"dissatisfied_extreme.json\", \"w\") as dissatisfied_extreme_file:\n",
    "    dissatisfied_extreme_file.write(dissatisfied_extreme_json)\n",
    "dissatisfied_extreme_file.close()"
   ]
  },
  {
   "cell_type": "code",
   "execution_count": null,
   "id": "c2781534",
   "metadata": {
    "id": "c2781534",
    "outputId": "9b59a28d-4a26-4a48-e676-ffc9cc75ddaa",
    "scrolled": true
   },
   "outputs": [],
   "source": [
    "# Creating a histogram to show postive, negative, and neutral sentiment distribution\n",
    "figure = pl.histogram(dissatisfied_reviews, x=\"sentiment_label\")\n",
    "figure.update_traces(marker_color=\"indianred\",marker_line_color='yellow',marker_line_width=2.0)\n",
    "figure.update_layout(title_text='Feedback Sentiment Analysis')\n",
    "figure.show()"
   ]
  },
  {
   "cell_type": "code",
   "execution_count": null,
   "id": "e22a93d3",
   "metadata": {
    "id": "e22a93d3",
    "outputId": "b646870f-7ff7-4cbb-bb27-fd6a397ca679"
   },
   "outputs": [],
   "source": [
    "# Creating a histogram to show postive, negative, and neutral sentiment distribution\n",
    "figure = pl.histogram(dissatisfied_reviews, x=\"nps_label\")\n",
    "figure.update_traces(marker_color=\"indianred\",marker_line_color='yellow',marker_line_width=2.0)\n",
    "figure.update_layout(title_text='Feedback Sentiment Analysis')\n",
    "figure.show()"
   ]
  },
  {
   "cell_type": "markdown",
   "id": "4e7a2011",
   "metadata": {},
   "source": [
    "## 3. Topic Modelling"
   ]
  },
  {
   "cell_type": "markdown",
   "id": "7b5cf8fe",
   "metadata": {},
   "source": [
    "## 3.1 Topic Modelling For Reason Score Column"
   ]
  },
  {
   "cell_type": "code",
   "execution_count": null,
   "id": "57f22275",
   "metadata": {
    "id": "57f22275"
   },
   "outputs": [],
   "source": [
    "topic_list = reason_for_nps_score_tokens_after_lemmatizing #+ satisfied_tokens_after_lemmatizing + dissatisfied_tokens_after_lemmatizing\n",
    "topic_dictionary = gensim.corpora.Dictionary(topic_list)\n",
    "topic_dictionary.filter_extremes(no_below=10, no_above=0.35)\n",
    "topic_dictionary.compactify()\n",
    "topic_doc_term_matrix = [topic_dictionary.doc2bow(rev) for rev in topic_list]"
   ]
  },
  {
   "cell_type": "code",
   "execution_count": null,
   "id": "45a179fa",
   "metadata": {
    "id": "45a179fa",
    "outputId": "cffbca95-ce69-42da-94d6-a32573011986"
   },
   "outputs": [],
   "source": [
    "# Creating the object for LDA model using gensim library\n",
    "\n",
    "LDA = gensim.models.ldamodel.LdaModel\n",
    "\n",
    "# Build LDA model\n",
    "lda_model = LDA(corpus=topic_doc_term_matrix, id2word=topic_dictionary, num_topics=50, random_state=0, chunksize=1000, passes=50,iterations=100)\n",
    "lda_model.print_topics()"
   ]
  },
  {
   "cell_type": "code",
   "execution_count": null,
   "id": "1c997eae",
   "metadata": {
    "id": "1c997eae",
    "outputId": "49ad456e-73e0-4157-addf-1d8a055fed02"
   },
   "outputs": [],
   "source": [
    "trending_topics_list = []\n",
    "topic_number_list = []\n",
    "\n",
    "for index, topic in lda_model.show_topics(formatted=False, num_topics=30, num_words= 10):\n",
    "    trending_topics_list.append([w[0] for w in topic])\n",
    "    topic_number_list.append(index)\n",
    "\n",
    "trending_topics = pd.DataFrame({'topic_number':topic_number_list, 'topics':trending_topics_list})\n",
    "trending_topics"
   ]
  },
  {
   "cell_type": "code",
   "execution_count": null,
   "id": "e3997465",
   "metadata": {
    "id": "e3997465"
   },
   "outputs": [],
   "source": [
    "#topic_data_list = reason_for_nps_score_topics.topics.values[1]\n",
    "#topic_data_list = ','.join(map(str, topic_data_list)) \n",
    "#updated_topic_list  = str(topic_data_list).replace(',', '|')\n",
    "#updated_topic_list"
   ]
  },
  {
   "cell_type": "code",
   "execution_count": null,
   "id": "c1da596c",
   "metadata": {
    "id": "c1da596c",
    "outputId": "e69cf529-fedb-438a-f707-9173ded1d3bd"
   },
   "outputs": [],
   "source": [
    "top_words_per_topic = []\n",
    "for t in range(lda_model.num_topics):\n",
    "    top_words_per_topic.extend([(t, ) + x for x in lda_model.show_topic(t, topn = 3)])\n",
    "\n",
    "topics_words_based = pd.DataFrame(top_words_per_topic, columns=['topic_number', 'word', 'coherence_score'])\n",
    "topics_words_based"
   ]
  },
  {
   "cell_type": "code",
   "execution_count": null,
   "id": "bd83696c",
   "metadata": {
    "id": "bd83696c"
   },
   "outputs": [],
   "source": [
    "data_combine = pd.concat([reason_for_nps_score_reviews, satisfied_reviews, dissatisfied_reviews])\n",
    "topic_sentiment_label = []\n",
    "topic_sentiment_value = []\n",
    "for index,i in enumerate(topics_words_based.word):\n",
    "    if i in np.concatenate(reason_for_nps_score_reviews.fresh_tokens.values, axis=0):\n",
    "        topic_sentiment_label.append(reason_for_nps_score_reviews.sentiment_label.iloc[index])\n",
    "        topic_sentiment_value.append(reason_for_nps_score_reviews.sentiment.iloc[index])"
   ]
  },
  {
   "cell_type": "code",
   "execution_count": null,
   "id": "0529195c",
   "metadata": {
    "id": "0529195c",
    "outputId": "6b1300df-1f18-4a21-ccc1-164c7788a639"
   },
   "outputs": [],
   "source": [
    "topic_sentiments = topics_words_based\n",
    "topic_sentiments['sentiment'] = topic_sentiment_label\n",
    "#topic_sentiments['sentiment_value'] = topic_sentiment_value\n",
    "topic_sentiments = topic_sentiments.groupby(['topic_number'])['sentiment'].apply(lambda x: x.value_counts().index[0]).reset_index()\n",
    "topic_sentiments"
   ]
  },
  {
   "cell_type": "code",
   "execution_count": null,
   "id": "1cacfaba",
   "metadata": {
    "id": "1cacfaba",
    "outputId": "dd0628f4-107e-4043-d179-ae56a1bf0d91"
   },
   "outputs": [],
   "source": [
    "topic_score_group = topics_words_based.groupby(['topic_number'])['coherence_score'].sum().reset_index()\n",
    "topic_score_group"
   ]
  },
  {
   "cell_type": "code",
   "execution_count": null,
   "id": "9b79d0fa",
   "metadata": {
    "id": "9b79d0fa",
    "outputId": "fc1e40b1-fb98-4ed8-fcbf-12f351e6b423"
   },
   "outputs": [],
   "source": [
    "topic_wise_score = topic_score_group.set_index('topic_number').to_dict()['coherence_score']\n",
    "#topic_wise_sentiment = topic_sentiments.set_index('topic_number').to_dict()['sentiment']\n",
    "top_trending_topics = trending_topics\n",
    "top_trending_topics['coherence_score'] = top_trending_topics['topic_number'].apply(lambda x: topic_wise_score.get(x))\n",
    "#top_trending_topics['sentiment'] = top_trending_topics['topic_number'].apply(lambda x: topic_wise_sentiment.get(x))\n",
    "top_trending_topics.to_csv(\"top_trending_topics.csv\")\n",
    "top_trending_topics"
   ]
  },
  {
   "cell_type": "code",
   "execution_count": null,
   "id": "0ed82f18",
   "metadata": {
    "id": "0ed82f18",
    "outputId": "7ceac59c-fa3a-4755-e6c7-0324954f80ac"
   },
   "outputs": [],
   "source": [
    "topics_data = top_trending_topics\n",
    "topics_data['topics'] = topics_data['topics'].astype(str)\n",
    "topics_data['topics'] = topics_data.topics.str.lstrip('[').str.rstrip(']')\n",
    "topics_data"
   ]
  },
  {
   "cell_type": "code",
   "execution_count": null,
   "id": "1141240e",
   "metadata": {
    "id": "1141240e",
    "outputId": "d8a83d31-acb2-41c9-d3e6-df8ae39256a7"
   },
   "outputs": [],
   "source": [
    "topics_data.loc[topics_data['topics'].str.contains('need') & topics_data['topics'].str.contains('help'), 'topic_keyword'] = \"Assistance\"\n",
    "topics_data.loc[topics_data['topics'].str.contains('listened|team|doctor|dr|welcoming|willing|accommodating|listening|listen|explain|knowledgeable|awesome|practitioner|nice|cared|great|good|fantastic|thorough|courteous|friendly'), 'topic_keyword'] = \"Provider\"\n",
    "topics_data.loc[topics_data['topics'].str.contains('prescription|pharmacy|medication|diagnosis|medicine|check|pain'), 'topic_keyword'] = \"Prescription\"\n",
    "topics_data.loc[topics_data['topics'].str.contains('clinic|parking|visit'), 'topic_keyword'] = \"Clinic\"\n",
    "topics_data.loc[topics_data['topics'].str.contains('received|happy|nothing|well|everything|pleased|pleasant|smooth'), 'topic_keyword'] = \"Satisfied\"\n",
    "topics_data.loc[topics_data['topics'].str.contains('quick|slow|response'), 'topic_keyword'] = \"Response\"\n",
    "topics_data.loc[topics_data['topics'].str.contains('busy|taking|waiting|time|hour|call|late|minute'), 'topic_keyword'] = \"Time\"\n",
    "topics_data.loc[topics_data['topics'].str.contains('blood|vaccine|vein|needle|draw'), 'topic_keyword'] = \"Blood\"\n",
    "topics_data.loc[topics_data['topics'].str.contains('rude|worst|bad|problem|never|bad'), 'topic_keyword'] = \"Dissatisfied\"\n",
    "topics_data.loc[topics_data['topics'].str.contains('x') & topics_data['topics'].str.contains('ray'), 'topic_keyword'] = \"Prescription\"\n",
    "topics_data.to_csv(\"topics_data.csv\")\n",
    "topics_data"
   ]
  },
  {
   "cell_type": "code",
   "execution_count": null,
   "id": "ab7dc107",
   "metadata": {
    "id": "ab7dc107",
    "outputId": "fa0bccc7-6d21-4ed4-ad01-a7f148c8bc1a"
   },
   "outputs": [],
   "source": [
    "topics_data = top_trending_topics\n",
    "topics_data['topics'] = topics_data['topics'].astype(str)\n",
    "topics_data['topics'] = topics_data.topics.str.strip('[]')\n",
    "topics_data.to_csv(\"topics_data.csv\")\n",
    "topics_data"
   ]
  },
  {
   "cell_type": "code",
   "execution_count": null,
   "id": "4a590cb7",
   "metadata": {
    "id": "4a590cb7",
    "outputId": "328233d6-e74c-47af-cce4-0f87d645b343"
   },
   "outputs": [],
   "source": [
    "topics_data.topic_keyword.value_counts()"
   ]
  },
  {
   "cell_type": "code",
   "execution_count": null,
   "id": "fefa8e10",
   "metadata": {
    "id": "fefa8e10",
    "outputId": "8e5747a8-1f4f-4253-bae6-869f592d6e1e"
   },
   "outputs": [],
   "source": [
    "topics_data"
   ]
  },
  {
   "cell_type": "code",
   "execution_count": null,
   "id": "6b3cd1f6",
   "metadata": {
    "id": "6b3cd1f6",
    "outputId": "3d0d0999-9286-49f0-9d2f-694cebe78f0a"
   },
   "outputs": [],
   "source": [
    "top_topics_json = json.dumps([{\"topic\": topic, \"coherence_score\": coherence_score, \"topic_keyword\": topic_keyword} for topic,coherence_score,topic_keyword in zip(topics_data['topics'], topics_data['coherence_score'], topics_data['topic_keyword'])])\n",
    "top_topics_json"
   ]
  },
  {
   "cell_type": "code",
   "execution_count": null,
   "id": "0b3457a9",
   "metadata": {
    "id": "0b3457a9"
   },
   "outputs": [],
   "source": [
    "with open(\"top_topics.json\", \"w\") as top_topics_file:\n",
    "    top_topics_file.write(top_topics_json)\n",
    "top_topics_file.close()"
   ]
  },
  {
   "cell_type": "code",
   "execution_count": null,
   "id": "25755cdf",
   "metadata": {
    "id": "25755cdf",
    "outputId": "240ca98b-b4af-4b19-d8a7-cb0d612299b3"
   },
   "outputs": [],
   "source": [
    "total_surveys = len(data_combine.ID.unique())\n",
    "total_surveys_json = json.dumps([{\"total_surveys\": total_surveys}])\n",
    "total_surveys_json"
   ]
  },
  {
   "cell_type": "code",
   "execution_count": null,
   "id": "675e7230",
   "metadata": {
    "id": "675e7230"
   },
   "outputs": [],
   "source": [
    "with open(\"total_surveys.json\", \"w\") as total_surveys_file:\n",
    "    total_surveys_file.write(total_surveys_json)\n",
    "total_surveys_file.close()"
   ]
  },
  {
   "cell_type": "code",
   "execution_count": null,
   "id": "5c5f27f4",
   "metadata": {
    "id": "5c5f27f4",
    "outputId": "5f352f8b-82cf-47be-bd23-e332d9dca62e"
   },
   "outputs": [],
   "source": [
    "pyLDAvis.enable_notebook()\n",
    "vis = pyLDAvis.gensim_models.prepare(lda_model, topic_doc_term_matrix, topic_dictionary)\n",
    "vis"
   ]
  },
  {
   "cell_type": "code",
   "execution_count": null,
   "id": "2082514e",
   "metadata": {},
   "outputs": [],
   "source": [
    "def format_topics_sentences(ldamodel=lda_model, corpus=topic_doc_term_matrix, texts=topic_list):\n",
    "    sent_topics_df = pd.DataFrame()\n",
    "\n",
    "    for i, row in enumerate(ldamodel[corpus]):\n",
    "        row = sorted(row, key=lambda x: (x[1]), reverse=True)\n",
    "        for j, (topic_num, prop_topic) in enumerate(row):\n",
    "            if j == 0:  \n",
    "                wp = ldamodel.show_topic(topic_num)\n",
    "                topic_keywords = \", \".join([word for word, prop in wp])\n",
    "                sent_topics_df = sent_topics_df.append(pd.Series([int(topic_num), round(prop_topic,4), topic_keywords]), ignore_index=True)\n",
    "            else:\n",
    "                break\n",
    "    sent_topics_df.columns = ['Dominant_Topic', 'Perc_Contribution', 'Topic_Keywords']\n",
    "\n",
    "    contents = pd.Series(texts)\n",
    "    sent_topics_df = pd.concat([sent_topics_df, contents], axis=1)\n",
    "    return(sent_topics_df)"
   ]
  },
  {
   "cell_type": "code",
   "execution_count": null,
   "id": "e53eb8a4",
   "metadata": {},
   "outputs": [],
   "source": [
    "reason_for_nps_score_topic_sents_keywords = format_topics_sentences(ldamodel=lda_model, corpus=topic_doc_term_matrix, texts=topic_list)\n",
    "reason_for_nps_score_dominant_topic = reason_for_nps_score_topic_sents_keywords.reset_index()\n",
    "reason_for_nps_score_dominant_topic.columns = ['Document_No', 'Dominant_Topic', 'Topic_Perc_Contrib', 'Keywords', 'Text']\n",
    "\n",
    "reason_for_nps_score_dominant_topic.head(10)"
   ]
  },
  {
   "cell_type": "code",
   "execution_count": null,
   "id": "fc45147c",
   "metadata": {},
   "outputs": [],
   "source": [
    "reason_for_nps_score_reviews_topics = reason_for_nps_score_reviews\n",
    "reason_for_nps_score_reviews_topics['document_number'] = reason_for_nps_score_dominant_topic['Document_No']\n",
    "reason_for_nps_score_reviews_topics['topic_number'] = reason_for_nps_score_dominant_topic['Dominant_Topic']\n",
    "reason_for_nps_score_reviews_topics['topic_contribution'] = reason_for_nps_score_dominant_topic['Topic_Perc_Contrib']\n",
    "reason_for_nps_score_reviews_topics['topic_keywords'] = reason_for_nps_score_dominant_topic['Keywords']\n",
    "reason_for_nps_score_reviews_topics.reset_index(drop=True, inplace=True)\n",
    "reason_for_nps_score_reviews_topics.head(10)"
   ]
  },
  {
   "cell_type": "code",
   "execution_count": null,
   "id": "2eed6fb9",
   "metadata": {},
   "outputs": [],
   "source": [
    "reason_for_nps_score_reviews_topics.to_csv(\"reason_for_nps_score_reviews_topics.csv\")"
   ]
  },
  {
   "cell_type": "code",
   "execution_count": null,
   "id": "56ac799b",
   "metadata": {},
   "outputs": [],
   "source": [
    "reason_for_nps_score_topics_sentiment_crosstab = pd.crosstab(reason_for_nps_score_reviews.topic_number, reason_for_nps_score_reviews_topics.sentiment_label)\n",
    "reason_for_nps_score_topics_sentiment_crosstab"
   ]
  },
  {
   "cell_type": "code",
   "execution_count": null,
   "id": "7c554fe1",
   "metadata": {},
   "outputs": [],
   "source": [
    "reason_for_nps_score_sentiment_columns = ['Extreme', 'Negative', 'Neutral', 'Positive']\n",
    "reason_for_nps_score_topics_sentiment_crosstab['sentiment_label'] = reason_for_nps_score_topics_sentiment_crosstab.index\n",
    "reason_for_nps_score_topics_sentiment_crosstab.rename({'sentiment_label': 'topic_number'}, axis=1, inplace=True)\n",
    "reason_for_nps_score_topics_sentiment_crosstab['total'] = reason_for_nps_score_topics_sentiment_crosstab[reason_for_nps_score_sentiment_columns].sum(axis=1)\n",
    "reason_for_nps_score_topics_sentiment_crosstab.reset_index(drop=True, inplace=True)\n",
    "reason_for_nps_score_topics_sentiment_crosstab['extreme_percent'] = ((reason_for_nps_score_topics_sentiment_crosstab.Extreme.values)/(reason_for_nps_score_topics_sentiment_crosstab.total.values))*100\n",
    "reason_for_nps_score_topics_sentiment_crosstab['negative_percent'] = ((reason_for_nps_score_topics_sentiment_crosstab.Negative.values)/(reason_for_nps_score_topics_sentiment_crosstab.total.values))*100\n",
    "reason_for_nps_score_topics_sentiment_crosstab['neutral_percent'] = ((reason_for_nps_score_topics_sentiment_crosstab.Neutral.values)/(reason_for_nps_score_topics_sentiment_crosstab.total.values))*100\n",
    "reason_for_nps_score_topics_sentiment_crosstab['positive_percent'] = ((reason_for_nps_score_topics_sentiment_crosstab.Positive.values)/(reason_for_nps_score_topics_sentiment_crosstab.total.values))*100\n",
    "reason_for_nps_score_sentiment_topics_merge = reason_for_nps_score_topics_sentiment_crosstab.merge(reason_for_nps_score_reviews_topics[['date','state','clinic','topic_number','topic_keywords']], left_on='topic_number', right_on ='topic_number', how = 'left')\n",
    "reason_for_nps_score_sentiment_topics_merge.to_csv(\"reason_for_nps_score_topics_sentiment_crosstab.csv\")\n",
    "reason_for_nps_score_sentiment_topics_merge"
   ]
  },
  {
   "cell_type": "code",
   "execution_count": null,
   "id": "c68121dc",
   "metadata": {},
   "outputs": [],
   "source": [
    "reason_for_nps_score_topics_nps_crosstab = pd.crosstab(reason_for_nps_score_reviews.topic_number, reason_for_nps_score_reviews_topics.nps_label)\n",
    "reason_for_nps_score_topics_nps_crosstab"
   ]
  },
  {
   "cell_type": "code",
   "execution_count": null,
   "id": "46c9bf18",
   "metadata": {},
   "outputs": [],
   "source": [
    "reason_for_nps_score_nps_columns = ['Detractor', 'Passive', 'Promoter']\n",
    "reason_for_nps_score_topics_nps_crosstab['sentiment_label'] = reason_for_nps_score_topics_nps_crosstab.index\n",
    "reason_for_nps_score_topics_nps_crosstab.rename({'sentiment_label': 'topic_number'}, axis=1, inplace=True)\n",
    "reason_for_nps_score_topics_nps_crosstab['total'] = reason_for_nps_score_topics_nps_crosstab[reason_for_nps_score_nps_columns].sum(axis=1)\n",
    "reason_for_nps_score_topics_nps_crosstab.reset_index(drop=True, inplace=True)\n",
    "reason_for_nps_score_topics_nps_crosstab['detractor_percent'] = ((reason_for_nps_score_topics_nps_crosstab.Detractor.values)/(reason_for_nps_score_topics_nps_crosstab.total.values))*100\n",
    "reason_for_nps_score_topics_nps_crosstab['passive_percent'] = ((reason_for_nps_score_topics_nps_crosstab.Passive.values)/(reason_for_nps_score_topics_nps_crosstab.total.values))*100\n",
    "reason_for_nps_score_topics_nps_crosstab['promoter_percent'] = ((reason_for_nps_score_topics_nps_crosstab.Promoter.values)/(reason_for_nps_score_topics_nps_crosstab.total.values))*100\n",
    "reason_for_nps_score_nps_topics_merge = reason_for_nps_score_topics_nps_crosstab.merge(reason_for_nps_score_reviews_topics[['date','state','clinic','topic_number','topic_keywords']], on='topic_number', how = 'left')\n",
    "reason_for_nps_score_nps_topics_merge.to_csv(\"reason_for_nps_score_topics_nps_crosstab.csv\")\n",
    "reason_for_nps_score_nps_topics_merge"
   ]
  },
  {
   "cell_type": "code",
   "execution_count": null,
   "id": "46c33f97",
   "metadata": {},
   "outputs": [],
   "source": []
  },
  {
   "cell_type": "markdown",
   "id": "d47fe4c3",
   "metadata": {},
   "source": [
    "### 3.2 Topic Modelling For Went Well Column"
   ]
  },
  {
   "cell_type": "code",
   "execution_count": null,
   "id": "25dace09",
   "metadata": {},
   "outputs": [],
   "source": [
    "topic_list = satisfied_tokens_after_lemmatizing\n",
    "topic_dictionary = gensim.corpora.Dictionary(topic_list)\n",
    "topic_dictionary.filter_extremes(no_below=10, no_above=0.35)\n",
    "topic_dictionary.compactify()\n",
    "topic_doc_term_matrix = [topic_dictionary.doc2bow(rev) for rev in topic_list]"
   ]
  },
  {
   "cell_type": "code",
   "execution_count": null,
   "id": "ea7e4772",
   "metadata": {},
   "outputs": [],
   "source": [
    "# Creating the object for LDA model using gensim library\n",
    "\n",
    "LDA = gensim.models.ldamodel.LdaModel\n",
    "\n",
    "# Build LDA model\n",
    "lda_model = LDA(corpus=topic_doc_term_matrix, id2word=topic_dictionary, num_topics=50, random_state=0, chunksize=1000, passes=50,iterations=100)\n",
    "lda_model.print_topics()"
   ]
  },
  {
   "cell_type": "code",
   "execution_count": null,
   "id": "9cfd0d0f",
   "metadata": {},
   "outputs": [],
   "source": [
    "trending_topics_list = []\n",
    "topic_number_list = []\n",
    "\n",
    "for index, topic in lda_model.show_topics(formatted=False, num_topics=30, num_words= 10):\n",
    "    trending_topics_list.append([w[0] for w in topic])\n",
    "    topic_number_list.append(index)\n",
    "\n",
    "trending_topics = pd.DataFrame({'topic_number':topic_number_list, 'topics':trending_topics_list})\n",
    "trending_topics"
   ]
  },
  {
   "cell_type": "code",
   "execution_count": null,
   "id": "512391ec",
   "metadata": {},
   "outputs": [],
   "source": [
    "top_words_per_topic = []\n",
    "for t in range(lda_model.num_topics):\n",
    "    top_words_per_topic.extend([(t, ) + x for x in lda_model.show_topic(t, topn = 3)])\n",
    "\n",
    "topics_words_based = pd.DataFrame(top_words_per_topic, columns=['topic_number', 'word', 'coherence_score'])\n",
    "topics_words_based"
   ]
  },
  {
   "cell_type": "code",
   "execution_count": null,
   "id": "54cabdd7",
   "metadata": {},
   "outputs": [],
   "source": [
    "satisfied_topic_sents_keywords = format_topics_sentences(ldamodel=lda_model, corpus=topic_doc_term_matrix, texts=topic_list)\n",
    "satisfied_dominant_topic = satisfied_topic_sents_keywords.reset_index()\n",
    "satisfied_dominant_topic.columns = ['Document_No', 'Dominant_Topic', 'Topic_Perc_Contrib', 'Keywords', 'Text']\n",
    "\n",
    "satisfied_dominant_topic.head(10)"
   ]
  },
  {
   "cell_type": "code",
   "execution_count": null,
   "id": "7c85fb41",
   "metadata": {},
   "outputs": [],
   "source": [
    "satisfied_reviews_topics = satisfied_reviews\n",
    "satisfied_reviews_topics['document_number'] = satisfied_dominant_topic['Document_No']\n",
    "satisfied_reviews_topics['topic_number'] = satisfied_dominant_topic['Dominant_Topic']\n",
    "satisfied_reviews_topics['topic_contribution'] = satisfied_dominant_topic['Topic_Perc_Contrib']\n",
    "satisfied_reviews_topics['topic_keywords'] = satisfied_dominant_topic['Keywords']\n",
    "satisfied_reviews_topics.reset_index(drop=True, inplace=True)\n",
    "satisfied_reviews_topics.head(10)"
   ]
  },
  {
   "cell_type": "code",
   "execution_count": null,
   "id": "9d5d5ab5",
   "metadata": {},
   "outputs": [],
   "source": [
    "satisfied_reviews_topics.to_csv(\"satisfied_reviews_topics.csv\")"
   ]
  },
  {
   "cell_type": "code",
   "execution_count": null,
   "id": "332640fe",
   "metadata": {},
   "outputs": [],
   "source": [
    "satisfied_topics_sentiment_crosstab = pd.crosstab(satisfied_reviews_topics.topic_keywords, satisfied_reviews_topics.sentiment_label)\n",
    "satisfied_topics_sentiment_crosstab"
   ]
  },
  {
   "cell_type": "code",
   "execution_count": null,
   "id": "81d1ada4",
   "metadata": {},
   "outputs": [],
   "source": [
    "satisfied_sentiment_columns = ['Extreme', 'Negative', 'Neutral', 'Positive']\n",
    "satisfied_topics_sentiment_crosstab['sentiment_label'] = satisfied_topics_sentiment_crosstab.index\n",
    "satisfied_topics_sentiment_crosstab.rename({'sentiment_label': 'topic_keywords'}, axis=1, inplace=True)\n",
    "satisfied_topics_sentiment_crosstab['total'] = satisfied_topics_sentiment_crosstab[satisfied_sentiment_columns].sum(axis=1)\n",
    "satisfied_topics_sentiment_crosstab.reset_index(drop=True, inplace=True)\n",
    "satisfied_topics_sentiment_crosstab['extreme_percent'] = ((satisfied_topics_sentiment_crosstab.Extreme.values)/(satisfied_topics_sentiment_crosstab.total.values))*100\n",
    "satisfied_topics_sentiment_crosstab['negative_percent'] = ((satisfied_topics_sentiment_crosstab.Negative.values)/(satisfied_topics_sentiment_crosstab.total.values))*100\n",
    "satisfied_topics_sentiment_crosstab['neutral_percent'] = ((satisfied_topics_sentiment_crosstab.Neutral.values)/(satisfied_topics_sentiment_crosstab.total.values))*100\n",
    "satisfied_topics_sentiment_crosstab['positive_percent'] = ((satisfied_topics_sentiment_crosstab.Positive.values)/(satisfied_topics_sentiment_crosstab.total.values))*100\n",
    "satisfied_topics_sentiment_crosstab.to_csv(\"satisfied_topics_sentiment_crosstab.csv\")\n",
    "satisfied_topics_sentiment_crosstab"
   ]
  },
  {
   "cell_type": "code",
   "execution_count": null,
   "id": "e2551366",
   "metadata": {},
   "outputs": [],
   "source": [
    "satisfied_topics_nps_crosstab = pd.crosstab(satisfied_reviews_topics.topic_keywords, satisfied_reviews_topics.nps_label)\n",
    "satisfied_topics_nps_crosstab"
   ]
  },
  {
   "cell_type": "code",
   "execution_count": null,
   "id": "f4b327e6",
   "metadata": {},
   "outputs": [],
   "source": [
    "satisfied_nps_columns = ['Detractors', 'Passive', 'Promoter']\n",
    "satisfied_topics_nps_crosstab['sentiment_label'] = satisfied_topics_nps_crosstab.index\n",
    "satisfied_topics_nps_crosstab.rename({'sentiment_label': 'topic_keywords'}, axis=1, inplace=True)\n",
    "satisfied_topics_nps_crosstab['total'] = satisfied_topics_nps_crosstab[satisfied_nps_columns].sum(axis=1)\n",
    "satisfied_topics_nps_crosstab.reset_index(drop=True, inplace=True)\n",
    "satisfied_topics_nps_crosstab['detractor_percent'] = ((satisfied_topics_nps_crosstab.Detractors.values)/(satisfied_topics_nps_crosstab.total.values))*100\n",
    "satisfied_topics_nps_crosstab['passive_percent'] = ((satisfied_topics_nps_crosstab.Passive.values)/(satisfied_topics_nps_crosstab.total.values))*100\n",
    "satisfied_topics_nps_crosstab['promoter_percent'] = ((satisfied_topics_nps_crosstab.Promoter.values)/(satisfied_topics_nps_crosstab.total.values))*100\n",
    "satisfied_topics_nps_crosstab.to_csv(\"satisfied_topics_nps_crosstab.csv\")\n",
    "satisfied_topics_nps_crosstab"
   ]
  },
  {
   "cell_type": "code",
   "execution_count": null,
   "id": "809bacce",
   "metadata": {},
   "outputs": [],
   "source": []
  },
  {
   "cell_type": "markdown",
   "id": "2e815240",
   "metadata": {},
   "source": [
    "### 3.3 Topic Modelling For Not Well Column"
   ]
  },
  {
   "cell_type": "code",
   "execution_count": null,
   "id": "13ad19e3",
   "metadata": {},
   "outputs": [],
   "source": [
    "topic_list = dissatisfied_tokens_after_lemmatizing\n",
    "topic_dictionary = gensim.corpora.Dictionary(topic_list)\n",
    "topic_dictionary.filter_extremes(no_below=10, no_above=0.35)\n",
    "topic_dictionary.compactify()\n",
    "topic_doc_term_matrix = [topic_dictionary.doc2bow(rev) for rev in topic_list]"
   ]
  },
  {
   "cell_type": "code",
   "execution_count": null,
   "id": "71af478e",
   "metadata": {},
   "outputs": [],
   "source": [
    "# Creating the object for LDA model using gensim library\n",
    "\n",
    "LDA = gensim.models.ldamodel.LdaModel\n",
    "\n",
    "# Build LDA model\n",
    "lda_model = LDA(corpus=topic_doc_term_matrix, id2word=topic_dictionary, num_topics=50, random_state=0, chunksize=1000, passes=50,iterations=100)\n",
    "lda_model.print_topics()"
   ]
  },
  {
   "cell_type": "code",
   "execution_count": null,
   "id": "a4d4e2dc",
   "metadata": {},
   "outputs": [],
   "source": [
    "trending_topics_list = []\n",
    "topic_number_list = []\n",
    "\n",
    "for index, topic in lda_model.show_topics(formatted=False, num_topics=30, num_words= 10):\n",
    "    trending_topics_list.append([w[0] for w in topic])\n",
    "    topic_number_list.append(index)\n",
    "\n",
    "trending_topics = pd.DataFrame({'topic_number':topic_number_list, 'topics':trending_topics_list})\n",
    "trending_topics"
   ]
  },
  {
   "cell_type": "code",
   "execution_count": null,
   "id": "2d809b51",
   "metadata": {},
   "outputs": [],
   "source": [
    "top_words_per_topic = []\n",
    "for t in range(lda_model.num_topics):\n",
    "    top_words_per_topic.extend([(t, ) + x for x in lda_model.show_topic(t, topn = 3)])\n",
    "\n",
    "topics_words_based = pd.DataFrame(top_words_per_topic, columns=['topic_number', 'word', 'coherence_score'])\n",
    "topics_words_based"
   ]
  },
  {
   "cell_type": "code",
   "execution_count": null,
   "id": "4951784f",
   "metadata": {},
   "outputs": [],
   "source": [
    "dissatisfied_topic_sents_keywords = format_topics_sentences(ldamodel=lda_model, corpus=topic_doc_term_matrix, texts=topic_list)\n",
    "dissatisfied_dominant_topic = dissatisfied_topic_sents_keywords.reset_index()\n",
    "dissatisfied_dominant_topic.columns = ['Document_No', 'Dominant_Topic', 'Topic_Perc_Contrib', 'Keywords', 'Text']\n",
    "\n",
    "dissatisfied_dominant_topic.head(10)"
   ]
  },
  {
   "cell_type": "code",
   "execution_count": null,
   "id": "2123a3e3",
   "metadata": {},
   "outputs": [],
   "source": [
    "dissatisfied_reviews_topics = dissatisfied_reviews\n",
    "dissatisfied_reviews_topics['document_number'] = dissatisfied_dominant_topic['Document_No']\n",
    "dissatisfied_reviews_topics['topic_number'] = dissatisfied_dominant_topic['Dominant_Topic']\n",
    "dissatisfied_reviews_topics['topic_contribution'] = dissatisfied_dominant_topic['Topic_Perc_Contrib']\n",
    "dissatisfied_reviews_topics['topic_keywords'] = dissatisfied_dominant_topic['Keywords']\n",
    "dissatisfied_reviews_topics.reset_index(drop=True, inplace=True)\n",
    "dissatisfied_reviews_topics.head(10)"
   ]
  },
  {
   "cell_type": "code",
   "execution_count": null,
   "id": "cd0d6a04",
   "metadata": {},
   "outputs": [],
   "source": [
    "dissatisfied_reviews_topics.to_csv(\"dissatisfied_reviews_topics.csv\")"
   ]
  },
  {
   "cell_type": "code",
   "execution_count": null,
   "id": "88829155",
   "metadata": {},
   "outputs": [],
   "source": [
    "dissatisfied_topics_sentiment_crosstab = pd.crosstab(dissatisfied_reviews_topics.topic_keywords, dissatisfied_reviews_topics.sentiment_label)\n",
    "dissatisfied_topics_sentiment_crosstab"
   ]
  },
  {
   "cell_type": "code",
   "execution_count": null,
   "id": "8f5e13f9",
   "metadata": {},
   "outputs": [],
   "source": [
    "dissatisfied_sentiment_columns = ['Extreme', 'Negative', 'Neutral', 'Positive']\n",
    "dissatisfied_topics_sentiment_crosstab['sentiment_label'] = dissatisfied_topics_sentiment_crosstab.index\n",
    "dissatisfied_topics_sentiment_crosstab.rename({'sentiment_label': 'topic_keywords'}, axis=1, inplace=True)\n",
    "dissatisfied_topics_sentiment_crosstab['total'] = dissatisfied_topics_sentiment_crosstab[dissatisfied_sentiment_columns].sum(axis=1)\n",
    "dissatisfied_topics_sentiment_crosstab.reset_index(drop=True, inplace=True)\n",
    "dissatisfied_topics_sentiment_crosstab['extreme_percent'] = ((dissatisfied_topics_sentiment_crosstab.Extreme.values)/(dissatisfied_topics_sentiment_crosstab.total.values))*100\n",
    "dissatisfied_topics_sentiment_crosstab['negative_percent'] = ((dissatisfied_topics_sentiment_crosstab.Negative.values)/(dissatisfied_topics_sentiment_crosstab.total.values))*100\n",
    "dissatisfied_topics_sentiment_crosstab['neutral_percent'] = ((dissatisfied_topics_sentiment_crosstab.Neutral.values)/(dissatisfied_topics_sentiment_crosstab.total.values))*100\n",
    "dissatisfied_topics_sentiment_crosstab['positive_percent'] = ((dissatisfied_topics_sentiment_crosstab.Positive.values)/(dissatisfied_topics_sentiment_crosstab.total.values))*100\n",
    "dissatisfied_topics_sentiment_crosstab.to_csv(\"dissatisfied_topics_sentiment_crosstab.csv\")\n",
    "dissatisfied_topics_sentiment_crosstab"
   ]
  },
  {
   "cell_type": "code",
   "execution_count": null,
   "id": "6a9cb9d4",
   "metadata": {},
   "outputs": [],
   "source": [
    "dissatisfied_topics_nps_crosstab = pd.crosstab(dissatisfied_reviews_topics.topic_keywords, dissatisfied_reviews_topics.nps_label)\n",
    "dissatisfied_topics_nps_crosstab"
   ]
  },
  {
   "cell_type": "code",
   "execution_count": null,
   "id": "8a4edf8d",
   "metadata": {},
   "outputs": [],
   "source": [
    "dissatisfied_nps_columns = ['Detractors', 'Passive', 'Promoter']\n",
    "dissatisfied_topics_nps_crosstab['sentiment_label'] = dissatisfied_topics_nps_crosstab.index\n",
    "dissatisfied_topics_nps_crosstab.rename({'sentiment_label': 'topic_keywords'}, axis=1, inplace=True)\n",
    "dissatisfied_topics_nps_crosstab['total'] = dissatisfied_topics_nps_crosstab[dissatisfied_nps_columns].sum(axis=1)\n",
    "dissatisfied_topics_nps_crosstab.reset_index(drop=True, inplace=True)\n",
    "dissatisfied_topics_nps_crosstab['detractor_percent'] = ((dissatisfied_topics_nps_crosstab.Detractors.values)/(dissatisfied_topics_nps_crosstab.total.values))*100\n",
    "dissatisfied_topics_nps_crosstab['passive_percent'] = ((dissatisfied_topics_nps_crosstab.Passive.values)/(dissatisfied_topics_nps_crosstab.total.values))*100\n",
    "dissatisfied_topics_nps_crosstab['promoter_percent'] = ((dissatisfied_topics_nps_crosstab.Promoter.values)/(dissatisfied_topics_nps_crosstab.total.values))*100\n",
    "dissatisfied_topics_nps_crosstab.to_csv(\"dissatisfied_topics_nps_crosstab.csv\")\n",
    "dissatisfied_topics_nps_crosstab"
   ]
  },
  {
   "cell_type": "code",
   "execution_count": null,
   "id": "ef75812d",
   "metadata": {},
   "outputs": [],
   "source": []
  },
  {
   "cell_type": "code",
   "execution_count": null,
   "id": "22ba3db9",
   "metadata": {},
   "outputs": [],
   "source": []
  },
  {
   "cell_type": "code",
   "execution_count": null,
   "id": "0746d476",
   "metadata": {},
   "outputs": [],
   "source": []
  },
  {
   "cell_type": "code",
   "execution_count": null,
   "id": "8db140cb",
   "metadata": {},
   "outputs": [],
   "source": [
    "clinics_data = data_combine.sort_values(by=\"NPS\", ascending=False)\n",
    "clinics_data = clinics_data[clinics_data['reviews'].str.contains(r'clinic|Clinic|CLINIC')]\n",
    "clinics_data"
   ]
  },
  {
   "cell_type": "code",
   "execution_count": null,
   "id": "0997e161",
   "metadata": {},
   "outputs": [],
   "source": [
    "clinics_group = pd.DataFrame()\n",
    "clinics_group['clinic'] = clinics_data['clinic']\n",
    "clinics_group['city'] = clinics_data['city']\n",
    "clinics_group['state'] = clinics_data['state']\n",
    "clinics_group['NPS'] = clinics_data['NPS']\n",
    "clinics_group = clinics_group.groupby(['clinic', 'city', 'state'])['NPS'].mean().reset_index()\n",
    "clinics_group.to_csv(\"clinics_data.csv\")\n",
    "clinics_group"
   ]
  },
  {
   "cell_type": "code",
   "execution_count": null,
   "id": "3df82c6f",
   "metadata": {},
   "outputs": [],
   "source": [
    "grams_combined = pd.concat([reason_for_nps_score_grams,satisfied_grams,dissatisfied_grams])\n",
    "grams_combined.to_csv(\"grams_combined.csv\")\n",
    "grams_combined"
   ]
  },
  {
   "cell_type": "code",
   "execution_count": null,
   "id": "e3157c12",
   "metadata": {},
   "outputs": [],
   "source": [
    "from sklearn.manifold import TSNE\n",
    "from bokeh.plotting import figure, output_file, show\n",
    "from bokeh.models import Label\n",
    "from bokeh.io import output_notebook\n",
    "import matplotlib.colors as mcolors"
   ]
  },
  {
   "cell_type": "code",
   "execution_count": null,
   "id": "81011fc5",
   "metadata": {},
   "outputs": [],
   "source": [
    "topic_list = reason_for_nps_score_tokens_after_lemmatizing + satisfied_tokens_after_lemmatizing + dissatisfied_tokens_after_lemmatizing\n",
    "topic_dictionary = gensim.corpora.Dictionary(topic_list)\n",
    "topic_dictionary.filter_extremes(no_below=10, no_above=0.35)\n",
    "topic_dictionary.compactify()\n",
    "topic_doc_term_matrix = [topic_dictionary.doc2bow(rev) for rev in topic_list]\n",
    "\n",
    "# Creating the object for LDA model using gensim library\n",
    "\n",
    "LDA = gensim.models.ldamodel.LdaModel\n",
    "\n",
    "# Build LDA model\n",
    "lda_model = LDA(corpus=topic_doc_term_matrix, id2word=topic_dictionary, num_topics=50, random_state=0, chunksize=1000, passes=50,iterations=100)\n",
    "lda_model.print_topics()"
   ]
  },
  {
   "cell_type": "code",
   "execution_count": null,
   "id": "90988ddb",
   "metadata": {},
   "outputs": [],
   "source": [
    "topic_weights = []\n",
    "for i, row_list in enumerate(lda_model[topic_doc_term_matrix]):\n",
    "    topic_weights.append([w for i, w in enumerate(row_list[0])])"
   ]
  },
  {
   "cell_type": "code",
   "execution_count": null,
   "id": "9b894eb3",
   "metadata": {},
   "outputs": [],
   "source": [
    "arr = pd.DataFrame(topic_weights).fillna(0).values\n",
    "\n",
    "# Keep the well separated points (optional)\n",
    "arr = arr[np.amax(arr, axis=1) > 0.35]\n",
    "\n",
    "# Dominant topic number in each doc\n",
    "topic_num = np.argmax(arr, axis=1)\n",
    "\n",
    "# tSNE Dimension Reduction\n",
    "tsne_model = TSNE(n_components=2, verbose=1, random_state=0, angle=.99, init='pca')\n",
    "tsne_lda = tsne_model.fit_transform(arr)\n",
    "\n",
    "# Plot the Topic Clusters using Bokeh\n",
    "output_notebook()\n",
    "n_topics = 20\n",
    "mycolors = np.array([color for name, color in mcolors.TABLEAU_COLORS.items()])\n",
    "plot = figure(title=\"t-SNE Clustering of {} LDA Topics\".format(n_topics), \n",
    "              plot_width=900, plot_height=700)\n",
    "plot.scatter(x=tsne_lda[:,0], y=tsne_lda[:,1], color=mycolors[topic_num])\n",
    "show(plot)"
   ]
  },
  {
   "cell_type": "code",
   "execution_count": null,
   "id": "5b461c34",
   "metadata": {},
   "outputs": [],
   "source": []
  },
  {
   "cell_type": "code",
   "execution_count": null,
   "id": "d52d8cb2",
   "metadata": {},
   "outputs": [],
   "source": []
  },
  {
   "cell_type": "markdown",
   "id": "ab5f6c69",
   "metadata": {
    "id": "ab5f6c69"
   },
   "source": [
    "## 4 Predicting Sentiments"
   ]
  },
  {
   "cell_type": "markdown",
   "id": "5b2589c9",
   "metadata": {
    "id": "5b2589c9"
   },
   "source": [
    "### 4.1 Preparing The Dataset"
   ]
  },
  {
   "cell_type": "code",
   "execution_count": null,
   "id": "81e217ee",
   "metadata": {
    "id": "81e217ee"
   },
   "outputs": [],
   "source": [
    "x_train = reason_for_nps_score_reviews['reviews'].values\n",
    "y_train = reason_for_nps_score_reviews['sentiment'].values\n",
    "x_train, x_test, y_train, y_test = train_test_split(x_train,y_train, stratify=y_train, test_size=0.25, random_state=0)"
   ]
  },
  {
   "cell_type": "code",
   "execution_count": null,
   "id": "bea429b4",
   "metadata": {
    "id": "bea429b4"
   },
   "outputs": [],
   "source": [
    "# Converting data to arrays\n",
    "vec = CountVectorizer(stop_words='english')\n",
    "x_train = vec.fit_transform(x_train).toarray()\n",
    "x_test = vec.transform(x_test).toarray()"
   ]
  },
  {
   "cell_type": "markdown",
   "id": "cde74cac",
   "metadata": {
    "id": "cde74cac"
   },
   "source": [
    "### 4.2 Model 1 - Logistic Regression Model"
   ]
  },
  {
   "cell_type": "code",
   "execution_count": null,
   "id": "12dceaaf",
   "metadata": {
    "id": "12dceaaf",
    "outputId": "3c370d34-6849-4314-cf8f-97054971ca87"
   },
   "outputs": [],
   "source": [
    "# Creating a logistic regression model, and checking its score\n",
    "logistic_model = LogisticRegression()\n",
    "logistic_model.fit(x_train, y_train)\n",
    "logistic_model_score = logistic_model.score(x_test, y_test)\n",
    "print(\"Model accuracy:\", (round(logistic_model_score, 2)*100), \"%\")"
   ]
  },
  {
   "cell_type": "code",
   "execution_count": null,
   "id": "2c724366",
   "metadata": {
    "id": "2c724366",
    "outputId": "ad08000d-2f50-4625-aceb-c5af180ecdc8"
   },
   "outputs": [],
   "source": [
    "# Creating a stochastic gradient descent model, and checking its score\n",
    "sgdc_model = SGDClassifier()\n",
    "sgdc_model.fit(x_train, y_train)\n",
    "sgdc_model = sgdc_model.score(x_test, y_test)\n",
    "print(\"Model accuracy:\", (round(sgdc_model, 2)*100), \"%\")"
   ]
  },
  {
   "cell_type": "code",
   "execution_count": null,
   "id": "9d07adbb",
   "metadata": {
    "id": "9d07adbb",
    "outputId": "a6893b15-c333-458c-ac4a-7626a643b6f9"
   },
   "outputs": [],
   "source": [
    "data = logistic_model.predict(x_test)\n",
    "data[1:600]"
   ]
  },
  {
   "cell_type": "markdown",
   "id": "68e3e577",
   "metadata": {
    "id": "68e3e577"
   },
   "source": [
    "### 4.3 Model 2 - Multinomial Naive Bayes Model"
   ]
  },
  {
   "cell_type": "code",
   "execution_count": null,
   "id": "7769e3e5",
   "metadata": {
    "id": "7769e3e5",
    "outputId": "5718a06f-c4c0-4317-9a45-a249558359b2"
   },
   "outputs": [],
   "source": [
    "# Creating a multinomial naive bayes model and checking its score\n",
    "multinomial_model = MultinomialNB()\n",
    "multinomial_model.fit(x_train, y_train)\n",
    "multinomial_model_score = multinomial_model.score(x_test, y_test)\n",
    "print(\"Model accuracy:\", (round(multinomial_model_score, 2)*100), \"%\")"
   ]
  },
  {
   "cell_type": "markdown",
   "id": "7cf245d9",
   "metadata": {
    "id": "7cf245d9"
   },
   "source": [
    "### 4.4 Model 3 - Multinomial Naive Bayes Model With Scaling"
   ]
  },
  {
   "cell_type": "code",
   "execution_count": null,
   "id": "281287ad",
   "metadata": {
    "id": "281287ad",
    "outputId": "7f8f8633-9439-40ff-bb73-e309ced815d0"
   },
   "outputs": [],
   "source": [
    "# Creating a Multinomial Naive Bayes Model, scaling it, and checking its score\n",
    "multinomial_pipeline = Pipeline([('Normalizing',MinMaxScaler()),('MultinomialNB',MultinomialNB())])\n",
    "multinomial_pipeline.fit(x_train, y_train) \n",
    "multinomial_pipeline_score = multinomial_pipeline.score(x_test, y_test)\n",
    "print(\"Model accuracy:\", (round(multinomial_pipeline_score, 2)*100), \"%\")"
   ]
  },
  {
   "cell_type": "markdown",
   "id": "7dc2172f",
   "metadata": {
    "id": "7dc2172f"
   },
   "source": [
    "### 4.5 Model 4 - Complement Naive Bayes Model"
   ]
  },
  {
   "cell_type": "code",
   "execution_count": null,
   "id": "599a401e",
   "metadata": {
    "id": "599a401e",
    "outputId": "84950be5-d611-475b-a920-4f3812414ee2"
   },
   "outputs": [],
   "source": [
    "# Creating a Complement Naive Bayes Model, and checking its score\n",
    "complement_model = ComplementNB()\n",
    "complement_model.fit(x_train, y_train)\n",
    "complement_model_score = complement_model.score(x_test, y_test)\n",
    "print(\"Model accuracy:\", (round(complement_model_score, 2)*100), \"%\")"
   ]
  },
  {
   "cell_type": "markdown",
   "id": "54804a6d",
   "metadata": {
    "id": "54804a6d"
   },
   "source": [
    "### 4.6 Model 5 - Gaussian Naive Bayes Model"
   ]
  },
  {
   "cell_type": "code",
   "execution_count": null,
   "id": "c9c7837b",
   "metadata": {
    "id": "c9c7837b",
    "outputId": "de82206c-bc58-40da-9d18-6b91e4b9961e"
   },
   "outputs": [],
   "source": [
    "# Creating a Complement Naive Bayes Model, and checking its score\n",
    "gaussian_model = GaussianNB()\n",
    "gaussian_model.fit(x_train, y_train)\n",
    "gaussian_model_score = gaussian_model.score(x_test, y_test)\n",
    "print(\"Model accuracy:\", (round(gaussian_model_score, 2)*100), \"%\")"
   ]
  },
  {
   "cell_type": "markdown",
   "id": "5de01d24",
   "metadata": {
    "id": "5de01d24"
   },
   "source": [
    "### 4.7 Model 6 - Bernoulli Naive Bayes Model"
   ]
  },
  {
   "cell_type": "code",
   "execution_count": null,
   "id": "03ff98b5",
   "metadata": {
    "id": "03ff98b5",
    "outputId": "afa891a1-9d1c-4a9c-b974-fa0cf2e3fe2b"
   },
   "outputs": [],
   "source": [
    "# Creating a Complement Naive Bayes Model, and checking its score\n",
    "bernoulli_model = BernoulliNB()\n",
    "bernoulli_model.fit(x_train, y_train)\n",
    "bernoulli_model_score = bernoulli_model.score(x_test, y_test)\n",
    "print(\"Model accuracy:\", (round(bernoulli_model_score, 2)*100), \"%\")"
   ]
  },
  {
   "cell_type": "markdown",
   "id": "00649ce0",
   "metadata": {
    "id": "00649ce0"
   },
   "source": [
    "### 4.8 Model 7 - Stochastic Gradient Descent Model "
   ]
  },
  {
   "cell_type": "code",
   "execution_count": null,
   "id": "d71fefb3",
   "metadata": {
    "id": "d71fefb3",
    "outputId": "2d8d1fd6-78ff-4fe4-a2ce-a60a17abae89"
   },
   "outputs": [],
   "source": [
    "# Creating a stochastic gradient descent model, and checking its score\n",
    "from sklearn.linear_model import LogisticRegression, SGDClassifier # For creating a logistic regression and a stochastic gradient descent model\n",
    "\n",
    "sgdc_model = SGDClassifier()\n",
    "sgdc_model.fit(x_train, y_train)\n",
    "sgdc_model = sgdc_model.score(x_test, y_test)\n",
    "print(\"Model accuracy:\", (round(sgdc_model, 2)*100), \"%\")"
   ]
  },
  {
   "cell_type": "markdown",
   "id": "7ec3f331",
   "metadata": {
    "id": "7ec3f331"
   },
   "source": [
    "### 4.9 Model 8 - Linear Support Vector Classifier Model "
   ]
  },
  {
   "cell_type": "code",
   "execution_count": null,
   "id": "19bb6613",
   "metadata": {
    "id": "19bb6613",
    "outputId": "953ee4a8-7019-4e0d-8795-5f56a8d58e53"
   },
   "outputs": [],
   "source": [
    "# Creating a linear support vector classifier model, and checking its score\n",
    "lsvc_model =  LinearSVC()\n",
    "lsvc_model.fit(x_train, y_train)\n",
    "lsvc_model_score = lsvc_model.score(x_test, y_test)\n",
    "print(\"Model accuracy:\", (round(lsvc_model_score, 2)*100), \"%\")"
   ]
  },
  {
   "cell_type": "markdown",
   "id": "6b7d61fd",
   "metadata": {
    "id": "6b7d61fd"
   },
   "source": [
    "### 4.10 Model 9 - Decision Tree Classifer Model "
   ]
  },
  {
   "cell_type": "code",
   "execution_count": null,
   "id": "20f18315",
   "metadata": {
    "id": "20f18315",
    "outputId": "8cac1b7c-bc51-47ef-cfef-9a483744c4b9"
   },
   "outputs": [],
   "source": [
    "# Creating a decsion tree classifier model, and checking its score\n",
    "descion_tree_model = DecisionTreeClassifier()\n",
    "descion_tree_model.fit(x_train, y_train)\n",
    "descion_tree_model_score = descion_tree_model.score(x_test, y_test)\n",
    "print(\"Model accuracy:\", (round(descion_tree_model_score, 2)*100), \"%\")"
   ]
  },
  {
   "cell_type": "markdown",
   "id": "5f5a6de3",
   "metadata": {
    "id": "5f5a6de3"
   },
   "source": [
    "### 4.11 Model 10 - Random Forest Tree Classifier Model "
   ]
  },
  {
   "cell_type": "code",
   "execution_count": null,
   "id": "cb1bb375",
   "metadata": {
    "id": "cb1bb375",
    "outputId": "56b4a6ca-92ec-40dd-e1a8-7d32b0914034"
   },
   "outputs": [],
   "source": [
    "# Creating a random forest tree classifier model, and checking its score\n",
    "random_forest_tree_model = RandomForestClassifier()\n",
    "random_forest_tree_model.fit(x_train, y_train)\n",
    "random_forest_tree_model_score = random_forest_tree_model.score(x_test, y_test)\n",
    "print(\"Model accuracy:\", (round(random_forest_tree_model_score, 2)*100), \"%\")"
   ]
  },
  {
   "cell_type": "code",
   "execution_count": null,
   "id": "2c738fee",
   "metadata": {
    "id": "2c738fee"
   },
   "outputs": [],
   "source": []
  },
  {
   "cell_type": "code",
   "execution_count": null,
   "id": "e159bc56",
   "metadata": {
    "id": "e159bc56"
   },
   "outputs": [],
   "source": []
  },
  {
   "cell_type": "code",
   "execution_count": null,
   "id": "afa9ab3f",
   "metadata": {
    "id": "afa9ab3f"
   },
   "outputs": [],
   "source": []
  },
  {
   "cell_type": "code",
   "execution_count": null,
   "id": "8bb4dc15",
   "metadata": {
    "id": "8bb4dc15"
   },
   "outputs": [],
   "source": []
  },
  {
   "cell_type": "code",
   "execution_count": null,
   "id": "3f95ad3f",
   "metadata": {
    "id": "3f95ad3f"
   },
   "outputs": [],
   "source": []
  },
  {
   "cell_type": "code",
   "execution_count": null,
   "id": "377db6b5",
   "metadata": {
    "id": "377db6b5"
   },
   "outputs": [],
   "source": []
  }
 ],
 "metadata": {
  "colab": {
   "name": "Sentiment_Analysis.ipynb",
   "provenance": []
  },
  "kernelspec": {
   "display_name": "Python 3 (ipykernel)",
   "language": "python",
   "name": "python3"
  },
  "language_info": {
   "codemirror_mode": {
    "name": "ipython",
    "version": 3
   },
   "file_extension": ".py",
   "mimetype": "text/x-python",
   "name": "python",
   "nbconvert_exporter": "python",
   "pygments_lexer": "ipython3",
   "version": "3.9.7"
  }
 },
 "nbformat": 4,
 "nbformat_minor": 5
}
